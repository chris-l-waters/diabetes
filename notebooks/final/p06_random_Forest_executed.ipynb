{
 "cells": [
  {
   "cell_type": "code",
   "execution_count": 1,
   "id": "30d9d7ba",
   "metadata": {
    "execution": {
     "iopub.execute_input": "2025-07-07T15:45:39.982257Z",
     "iopub.status.busy": "2025-07-07T15:45:39.981844Z",
     "iopub.status.idle": "2025-07-07T15:45:39.993457Z",
     "shell.execute_reply": "2025-07-07T15:45:39.992865Z"
    },
    "papermill": {
     "duration": 0.020928,
     "end_time": "2025-07-07T15:45:39.994868",
     "exception": false,
     "start_time": "2025-07-07T15:45:39.973940",
     "status": "completed"
    },
    "tags": []
   },
   "outputs": [
    {
     "name": "stdout",
     "output_type": "stream",
     "text": [
      "10\n",
      "Available memory before training: 6.65 GB\n"
     ]
    }
   ],
   "source": [
    "import multiprocessing\n",
    "print(multiprocessing.cpu_count())\n",
    "\n",
    "import psutil\n",
    "print(f\"Available memory before training: {psutil.virtual_memory().available / 1e9:.2f} GB\")"
   ]
  },
  {
   "cell_type": "markdown",
   "id": "3ff50441",
   "metadata": {
    "papermill": {
     "duration": 0.002765,
     "end_time": "2025-07-07T15:45:40.001308",
     "exception": false,
     "start_time": "2025-07-07T15:45:39.998543",
     "status": "completed"
    },
    "tags": []
   },
   "source": [
    "# Diabetes Readmission – Random Forest Classification\n",
    "\n",
    "## Introduction\n",
    "\n",
    "This notebook implements Random Forest classification for predicting hospital readmission within 30 days for diabetic patients. We use the same preprocessed dataset as other tree-based methods, optimized for ensemble learning, which includes:\n",
    "\n",
    "- **Full dataset**: All encounters retained (101,763 records), as ensemble methods can effectively handle correlated observations\n",
    "- **Binary and count features**: ICD-9 diagnostic codes expanded into both indicator variables and count-based features\n",
    "- **Ordinal encoding**: Categorical variables encoded as integers for optimal tree-based learning\n",
    "- **Raw numeric features**: No scaling applied as Random Forest is invariant to monotonic transformations\n",
    "\n",
    "## Methodology\n",
    "\n",
    "**Bootstrap Aggregating (Bagging)**: Random Forest builds multiple decision trees on bootstrap samples of the training data, then averages their predictions. This approach provides:\n",
    "- **Variance reduction**: Multiple trees reduce overfitting compared to single decision trees\n",
    "- **Feature randomness**: Each split considers only a random subset of features, increasing diversity\n",
    "- **Natural regularization**: Built-in protection against overfitting through ensemble averaging\n",
    "\n",
    "**Class Imbalance Handling**: Using the `class_weight='balanced'` parameter to automatically adjust for class imbalance without requiring synthetic sampling techniques.\n",
    "\n",
    "**Hyperparameter Optimization**: Using Optuna's intelligent search across 8 key parameters including:\n",
    "- **Tree structure**: `n_estimators`, `max_depth`, `max_features`\n",
    "- **Splitting criteria**: `min_samples_split`, `min_samples_leaf`, `min_weight_fraction_leaf`\n",
    "- **Regularization**: `min_impurity_decrease`, `class_weight`\n",
    "\n",
    "**Preprocessing Pipeline**: Ordinal encoding for categorical features while preserving numeric features as-is, maintaining the original ~147 features without expansion.\n",
    "\n",
    "The goal is to leverage Random Forest's robustness and interpretability while achieving strong predictive performance through proper ensemble construction and hyperparameter optimization."
   ]
  },
  {
   "cell_type": "code",
   "execution_count": 2,
   "id": "4ba31490",
   "metadata": {
    "execution": {
     "iopub.execute_input": "2025-07-07T15:45:40.007074Z",
     "iopub.status.busy": "2025-07-07T15:45:40.006736Z",
     "iopub.status.idle": "2025-07-07T15:45:40.711484Z",
     "shell.execute_reply": "2025-07-07T15:45:40.711140Z"
    },
    "papermill": {
     "duration": 0.708761,
     "end_time": "2025-07-07T15:45:40.712283",
     "exception": false,
     "start_time": "2025-07-07T15:45:40.003522",
     "status": "completed"
    },
    "tags": []
   },
   "outputs": [],
   "source": [
    "import pandas as pd\n",
    "import numpy as np\n",
    "\n",
    "import matplotlib.pyplot as plt\n",
    "import seaborn as sns\n",
    "\n",
    "import warnings\n",
    "warnings.simplefilter(action='ignore', category=FutureWarning)\n",
    "\n",
    "import pickle\n",
    "import time"
   ]
  },
  {
   "cell_type": "code",
   "execution_count": 3,
   "id": "72feff25",
   "metadata": {
    "execution": {
     "iopub.execute_input": "2025-07-07T15:45:40.715678Z",
     "iopub.status.busy": "2025-07-07T15:45:40.715542Z",
     "iopub.status.idle": "2025-07-07T15:45:40.766647Z",
     "shell.execute_reply": "2025-07-07T15:45:40.766319Z"
    },
    "papermill": {
     "duration": 0.053485,
     "end_time": "2025-07-07T15:45:40.767428",
     "exception": false,
     "start_time": "2025-07-07T15:45:40.713943",
     "status": "completed"
    },
    "tags": []
   },
   "outputs": [],
   "source": [
    "token = 'f11' # iteratable by the user as we try new things\n",
    "randy = 42 # random value insertion for repeatability\n",
    "rf_data = pd.read_pickle(\"../models/randomForests.pkl\") # See prior notebook, p02."
   ]
  },
  {
   "cell_type": "code",
   "execution_count": 4,
   "id": "0356a90c",
   "metadata": {
    "execution": {
     "iopub.execute_input": "2025-07-07T15:45:40.772991Z",
     "iopub.status.busy": "2025-07-07T15:45:40.772885Z",
     "iopub.status.idle": "2025-07-07T15:45:40.777461Z",
     "shell.execute_reply": "2025-07-07T15:45:40.777225Z"
    },
    "papermill": {
     "duration": 0.006761,
     "end_time": "2025-07-07T15:45:40.778087",
     "exception": false,
     "start_time": "2025-07-07T15:45:40.771326",
     "status": "completed"
    },
    "tags": []
   },
   "outputs": [
    {
     "name": "stdout",
     "output_type": "stream",
     "text": [
      "<class 'pandas.core.frame.DataFrame'>\n",
      "Index: 101763 entries, 0 to 101765\n",
      "Columns: 147 entries, encounter_id to count_E990_E999\n",
      "dtypes: bool(4), float64(6), int64(115), object(22)\n",
      "memory usage: 112.2+ MB\n"
     ]
    }
   ],
   "source": [
    "rf_data.info()"
   ]
  },
  {
   "cell_type": "markdown",
   "id": "e4ce8e89",
   "metadata": {
    "papermill": {
     "duration": 0.001262,
     "end_time": "2025-07-07T15:45:40.781072",
     "exception": false,
     "start_time": "2025-07-07T15:45:40.779810",
     "status": "completed"
    },
    "tags": []
   },
   "source": [
    "## Memory Optimization\n",
    "\n",
    "The `optimize_dtypes()` function reduces memory usage by downcasting numeric types to their smallest sufficient representation:\n",
    "- `int64` → `int8/int16/int32` based on value ranges\n",
    "- `float64` → `float32` when precision allows\n",
    "\n",
    "This optimization is particularly valuable for large datasets and memory-intensive operations like SMOTE resampling."
   ]
  },
  {
   "cell_type": "code",
   "execution_count": 5,
   "id": "2752ae72",
   "metadata": {
    "execution": {
     "iopub.execute_input": "2025-07-07T15:45:40.783869Z",
     "iopub.status.busy": "2025-07-07T15:45:40.783792Z",
     "iopub.status.idle": "2025-07-07T15:45:40.786547Z",
     "shell.execute_reply": "2025-07-07T15:45:40.786355Z"
    },
    "papermill": {
     "duration": 0.004795,
     "end_time": "2025-07-07T15:45:40.787125",
     "exception": false,
     "start_time": "2025-07-07T15:45:40.782330",
     "status": "completed"
    },
    "tags": []
   },
   "outputs": [],
   "source": [
    "def optimize_dtypes(df):\n",
    "    \n",
    "    \"\"\"\n",
    "    Here we convert some of our columns intelligently to save on memory & time\n",
    "    \"\"\"\n",
    "    \n",
    "    for col in df.columns:\n",
    "        col_type = df[col].dtype\n",
    "\n",
    "        if col_type == 'int64':\n",
    "            c_min = df[col].min()\n",
    "            c_max = df[col].max()\n",
    "\n",
    "            if c_min > np.iinfo(np.int8).min and c_max < np.iinfo(np.int8).max:\n",
    "                df[col] = df[col].astype(np.int8)\n",
    "            elif c_min > np.iinfo(np.int16).min and c_max < np.iinfo(np.int16).max:\n",
    "                df[col] = df[col].astype(np.int16)\n",
    "            elif c_min > np.iinfo(np.int32).min and c_max < np.iinfo(np.int32).max:\n",
    "                df[col] = df[col].astype(np.int32)\n",
    "\n",
    "        elif col_type == 'float64':\n",
    "            c_min = df[col].min()\n",
    "            c_max = df[col].max()\n",
    "\n",
    "            if c_min > np.finfo(np.float32).min and c_max < np.finfo(np.float32).max:\n",
    "                df[col] = df[col].astype(np.float32)\n",
    "\n",
    "    return df"
   ]
  },
  {
   "cell_type": "code",
   "execution_count": 6,
   "id": "43420ef7",
   "metadata": {
    "execution": {
     "iopub.execute_input": "2025-07-07T15:45:40.790078Z",
     "iopub.status.busy": "2025-07-07T15:45:40.790003Z",
     "iopub.status.idle": "2025-07-07T15:45:40.808700Z",
     "shell.execute_reply": "2025-07-07T15:45:40.808457Z"
    },
    "papermill": {
     "duration": 0.020916,
     "end_time": "2025-07-07T15:45:40.809344",
     "exception": false,
     "start_time": "2025-07-07T15:45:40.788428",
     "status": "completed"
    },
    "tags": []
   },
   "outputs": [
    {
     "name": "stdout",
     "output_type": "stream",
     "text": [
      "<class 'pandas.core.frame.DataFrame'>\n",
      "Index: 101763 entries, 0 to 101765\n",
      "Columns: 147 entries, encounter_id to count_E990_E999\n",
      "dtypes: bool(4), float32(6), int16(1), int32(2), int8(112), object(22)\n",
      "memory usage: 32.4+ MB\n"
     ]
    }
   ],
   "source": [
    "rf_data = optimize_dtypes(rf_data)\n",
    "rf_data.info() # ~90mb RAM savings"
   ]
  },
  {
   "cell_type": "code",
   "execution_count": 7,
   "id": "29392443",
   "metadata": {
    "execution": {
     "iopub.execute_input": "2025-07-07T15:45:40.812704Z",
     "iopub.status.busy": "2025-07-07T15:45:40.812611Z",
     "iopub.status.idle": "2025-07-07T15:45:41.035540Z",
     "shell.execute_reply": "2025-07-07T15:45:41.035296Z"
    },
    "papermill": {
     "duration": 0.225198,
     "end_time": "2025-07-07T15:45:41.036158",
     "exception": false,
     "start_time": "2025-07-07T15:45:40.810960",
     "status": "completed"
    },
    "tags": []
   },
   "outputs": [
    {
     "name": "stderr",
     "output_type": "stream",
     "text": [
      "/Users/cwaters/diabetes/.venv/lib/python3.11/site-packages/tqdm/auto.py:21: TqdmWarning: IProgress not found. Please update jupyter and ipywidgets. See https://ipywidgets.readthedocs.io/en/stable/user_install.html\n",
      "  from .autonotebook import tqdm as notebook_tqdm\n"
     ]
    }
   ],
   "source": [
    "from sklearn.ensemble import RandomForestClassifier\n",
    "\n",
    "import optuna\n",
    "from optuna.pruners import MedianPruner\n",
    "from optuna.samplers import TPESampler\n",
    "\n",
    "from sklearn.compose import ColumnTransformer\n",
    "from sklearn.preprocessing import OrdinalEncoder\n",
    "from sklearn.model_selection import train_test_split, StratifiedKFold\n",
    "\n",
    "from sklearn.pipeline import Pipeline\n",
    "\n",
    "from sklearn.metrics import ConfusionMatrixDisplay, confusion_matrix, roc_curve, auc\n",
    "from sklearn.metrics import precision_score, recall_score, f1_score"
   ]
  },
  {
   "cell_type": "markdown",
   "id": "a0219423",
   "metadata": {
    "papermill": {
     "duration": 0.001273,
     "end_time": "2025-07-07T15:45:41.038896",
     "exception": false,
     "start_time": "2025-07-07T15:45:41.037623",
     "status": "completed"
    },
    "tags": []
   },
   "source": [
    "## Model Evaluation and Persistence Function\n",
    "\n",
    "The `evaluate_and_save_pipeline()` function provides standardized evaluation across all modeling approaches in this project:\n",
    "\n",
    "**Comprehensive Metrics Calculation:**\n",
    "- **Classification performance**: Accuracy, precision, recall, F1-score, specificity\n",
    "- **Probability-based metrics**: ROC curve data and AUC score for threshold optimization\n",
    "- **Confusion matrix**: True/false positive/negative counts for detailed performance analysis\n",
    "- **Prediction arrays**: Both binary predictions and probability scores for ensemble building\n",
    "\n",
    "**Standardized Output Format:**\n",
    "All metrics are saved in identical pickle format enabling:\n",
    "- Direct performance comparison across different model types\n",
    "- Consistent evaluation methodology regardless of underlying algorithm\n",
    "- Easy integration into ensemble methods and model selection workflows\n",
    "- Reproducible results with preserved prediction arrays\n",
    "\n",
    "**Model Persistence:**\n",
    "Trained pipelines are saved with preprocessing steps intact, ensuring deployment-ready models that can handle new data with the same\n",
    "transformations applied during training.\n",
    "\n",
    "This standardization is critical for fair model comparison and supports the ensemble modeling approach in later notebooks."
   ]
  },
  {
   "cell_type": "code",
   "execution_count": 8,
   "id": "d1ae9c61",
   "metadata": {
    "execution": {
     "iopub.execute_input": "2025-07-07T15:45:41.042224Z",
     "iopub.status.busy": "2025-07-07T15:45:41.042075Z",
     "iopub.status.idle": "2025-07-07T15:45:41.047250Z",
     "shell.execute_reply": "2025-07-07T15:45:41.047013Z"
    },
    "papermill": {
     "duration": 0.007405,
     "end_time": "2025-07-07T15:45:41.047834",
     "exception": false,
     "start_time": "2025-07-07T15:45:41.040429",
     "status": "completed"
    },
    "tags": []
   },
   "outputs": [],
   "source": [
    "def evaluate_and_save_pipeline(pipeline, namestring, token, \n",
    "                                X_train, X_test, \n",
    "                                y_train, y_test,\n",
    "                                console_out = False):\n",
    "    \"\"\"\n",
    "    Evaluates a trained pipeline and saves metrics to a pickle file.\n",
    "    \"\"\"\n",
    "\n",
    "    # Input validation\n",
    "    if any(v is None for v in [X_train, X_test, y_train, y_test]):\n",
    "        raise ValueError(\"X_train, X_test, y_train, or y_test must not be None.\")\n",
    "\n",
    "    # Convert to numpy if needed\n",
    "    y_train = y_train.values if hasattr(y_train, \"values\") else y_train\n",
    "    y_test = y_test.values if hasattr(y_test, \"values\") else y_test\n",
    "\n",
    "    # Make predictions once\n",
    "    y_train_pred = pipeline.predict(X_train)\n",
    "    y_test_pred = pipeline.predict(X_test)\n",
    "\n",
    "    # Get probability predictions\n",
    "    if hasattr(pipeline, \"predict_proba\"):\n",
    "        y_test_pred_pct = pipeline.predict_proba(X_test)[:, 1]\n",
    "    elif hasattr(pipeline, \"decision_function\"):\n",
    "        y_test_pred_pct = pipeline.decision_function(X_test)\n",
    "    else:\n",
    "        raise AttributeError(\"Pipeline needs predict_proba() or decision_function() for ROC/AUC.\")\n",
    "\n",
    "    # Classification metrics (not regression metrics)\n",
    "    accuracy = pipeline.score(X_test, y_test)\n",
    "    precision = precision_score(y_test, y_test_pred)\n",
    "    recall = recall_score(y_test, y_test_pred)  # Same as sensitivity\n",
    "    f1 = f1_score(y_test, y_test_pred)\n",
    "\n",
    "    # Confusion matrix metrics\n",
    "    tn, fp, fn, tp = confusion_matrix(y_test, y_test_pred).ravel()\n",
    "    specificity = tn / (tn + fp) if (tn + fp) > 0 else 0\n",
    "\n",
    "    # ROC curve\n",
    "    fpr, tpr, thresholds = roc_curve(y_test, y_test_pred_pct)\n",
    "    roc_auc = auc(fpr, tpr)\n",
    "\n",
    "    # Safe access to classes\n",
    "    classes_ = getattr(pipeline, 'classes_', np.unique(y_train))\n",
    "\n",
    "    # Save metrics\n",
    "    pickle_metrics = {\n",
    "        'model_version': f\"{token}_{namestring}\",\n",
    "        'accuracy': accuracy,\n",
    "        'precision': precision,\n",
    "        'recall': recall,\n",
    "        'f1_score': f1,\n",
    "        'specificity': specificity,\n",
    "        'roc_auc': roc_auc,\n",
    "        'y_test': y_test,\n",
    "        'y_train_pred': y_train_pred,\n",
    "        'y_test_pred': y_test_pred,\n",
    "        'y_test_pred_proba': y_test_pred_pct,\n",
    "        'display_labels': classes_,\n",
    "        'confusion_matrix': {'tn': tn, 'fp': fp, 'fn': fn, 'tp': tp},\n",
    "        'roc_curve': {'fpr': fpr, 'tpr': tpr, 'thresholds': thresholds},\n",
    "        # SHAP-specific additions\n",
    "        'shap_data': {\n",
    "            'model': pipeline,\n",
    "            'X_train_processed': pipeline.named_steps['preprocessor'].transform(X_train),\n",
    "            'X_test_processed': pipeline.named_steps['preprocessor'].transform(X_test),\n",
    "            'feature_names': pipeline.named_steps['preprocessor'].get_feature_names_out(),\n",
    "            'original_feature_names': list(X_train.columns)\n",
    "        }\n",
    "    }\n",
    "\n",
    "    # Save to file\n",
    "    filename = f\"../models/fits_pickle_{token}_{namestring}.pkl\"\n",
    "    with open(filename, \"wb\") as file:\n",
    "        pickle.dump(pickle_metrics, file)\n",
    "\n",
    "    if console_out:\n",
    "        # Print summary\n",
    "        print(f\"Metrics saved to {filename}\")\n",
    "        print(f'Accuracy:    {accuracy:.4f}')\n",
    "        print(f'Precision:   {precision:.4f}')\n",
    "        print(f'Recall:      {recall:.4f}')\n",
    "        print(f'F1-Score:    {f1:.4f}')\n",
    "        print(f'Specificity: {specificity:.4f}')\n",
    "        print(f'ROC AUC:     {roc_auc:.4f}')\n",
    "\n",
    "        # Plot confusion matrix\n",
    "        cm = confusion_matrix(y_test, y_test_pred)\n",
    "        disp = ConfusionMatrixDisplay(confusion_matrix=cm, display_labels=classes_)\n",
    "        disp.plot(cmap=plt.cm.Blues)\n",
    "        plt.title(f\"Confusion Matrix - {namestring}\")\n",
    "        plt.show()\n",
    "\n",
    "    return pickle_metrics"
   ]
  },
  {
   "cell_type": "code",
   "execution_count": 9,
   "id": "8dd0c2ce",
   "metadata": {
    "execution": {
     "iopub.execute_input": "2025-07-07T15:45:41.051377Z",
     "iopub.status.busy": "2025-07-07T15:45:41.051295Z",
     "iopub.status.idle": "2025-07-07T15:45:41.073096Z",
     "shell.execute_reply": "2025-07-07T15:45:41.072808Z"
    },
    "papermill": {
     "duration": 0.024131,
     "end_time": "2025-07-07T15:45:41.073757",
     "exception": false,
     "start_time": "2025-07-07T15:45:41.049626",
     "status": "completed"
    },
    "tags": []
   },
   "outputs": [],
   "source": [
    "X = rf_data.drop([\"readmitted\"], axis=1)\n",
    "y = rf_data[\"readmitted\"]"
   ]
  },
  {
   "cell_type": "markdown",
   "id": "88c3da4b",
   "metadata": {
    "papermill": {
     "duration": 0.001337,
     "end_time": "2025-07-07T15:45:41.076493",
     "exception": false,
     "start_time": "2025-07-07T15:45:41.075156",
     "status": "completed"
    },
    "tags": []
   },
   "source": [
    "## Training Feature Type Classification\n",
    "\n",
    "**Feature Type Identification**:\n",
    "Different data types require specific preprocessing for Random Forest:\n",
    "\n",
    "**exclude_features**: Filters out ID columns and target variable from feature sets.\n",
    "\n",
    "**numeric_features**: Continuous variables with passthrough (no scaling needed for tree-based models)\n",
    "\n",
    "**boolean_features** + **object_features**: Combined for ordinal encoding\n",
    "- More efficient than one-hot encoding for Random Forest\n",
    "- Converted to integers for optimal tree splitting\n",
    "\n",
    "**categorical_features**: Index positions tracking categorical columns for consistency with other tree-based implementations.\n",
    "\n",
    "This classification ensures appropriate preprocessing while maintaining Random Forest's robustness advantages."
   ]
  },
  {
   "cell_type": "code",
   "execution_count": 10,
   "id": "896f1359",
   "metadata": {
    "execution": {
     "iopub.execute_input": "2025-07-07T15:45:41.079612Z",
     "iopub.status.busy": "2025-07-07T15:45:41.079534Z",
     "iopub.status.idle": "2025-07-07T15:45:41.083015Z",
     "shell.execute_reply": "2025-07-07T15:45:41.082807Z"
    },
    "papermill": {
     "duration": 0.005793,
     "end_time": "2025-07-07T15:45:41.083546",
     "exception": false,
     "start_time": "2025-07-07T15:45:41.077753",
     "status": "completed"
    },
    "tags": []
   },
   "outputs": [],
   "source": [
    "# Training features to include\n",
    "exclude_features = [\"patient_nbr\", \"encounter_id\", \"readmitted\"]\n",
    "numeric_features = [\n",
    "    col\n",
    "    for col in X.columns\n",
    "    if col not in exclude_features and pd.api.types.is_numeric_dtype(X[col])\n",
    "]\n",
    "boolean_features = [\n",
    "    col for col in X.columns if col not in exclude_features and X[col].dtype == \"bool\"\n",
    "]\n",
    "object_features = [\n",
    "    col for col in X.columns if col not in exclude_features and X[col].dtype == \"object\"\n",
    "]\n",
    "categorical_features = [\n",
    "    X.columns.get_loc(col) for col in object_features + boolean_features\n",
    "]"
   ]
  },
  {
   "cell_type": "code",
   "execution_count": 11,
   "id": "e3042fa2",
   "metadata": {
    "execution": {
     "iopub.execute_input": "2025-07-07T15:45:41.086464Z",
     "iopub.status.busy": "2025-07-07T15:45:41.086386Z",
     "iopub.status.idle": "2025-07-07T15:45:41.134332Z",
     "shell.execute_reply": "2025-07-07T15:45:41.134042Z"
    },
    "papermill": {
     "duration": 0.050163,
     "end_time": "2025-07-07T15:45:41.135019",
     "exception": false,
     "start_time": "2025-07-07T15:45:41.084856",
     "status": "completed"
    },
    "tags": []
   },
   "outputs": [],
   "source": [
    "X_train, X_test, y_train, y_test = train_test_split(\n",
    "    X, y, test_size=0.2, random_state=randy, stratify=y\n",
    ")"
   ]
  },
  {
   "cell_type": "markdown",
   "id": "47adea04",
   "metadata": {
    "papermill": {
     "duration": 0.001396,
     "end_time": "2025-07-07T15:45:41.138495",
     "exception": false,
     "start_time": "2025-07-07T15:45:41.137099",
     "status": "completed"
    },
    "tags": []
   },
   "source": [
    "## Preprocessing Strategy for Random Forest\n",
    "\n",
    "**Categorical Encoding**: OrdinalEncoder converts categorical variables to integers, which is optimal for tree-based models like Random Forest that make binary splits on feature values.\n",
    "\n",
    "**Numeric Passthrough**: Numeric features are left unchanged using `remainder='passthrough'` since Random Forest is invariant to scaling and can handle different value ranges naturally.\n",
    "\n",
    "This minimal preprocessing approach preserves the original data characteristics while ensuring compatibility with Random Forest's tree-splitting algorithms."
   ]
  },
  {
   "cell_type": "code",
   "execution_count": 12,
   "id": "b5465e12",
   "metadata": {
    "execution": {
     "iopub.execute_input": "2025-07-07T15:45:41.141811Z",
     "iopub.status.busy": "2025-07-07T15:45:41.141723Z",
     "iopub.status.idle": "2025-07-07T15:45:41.143603Z",
     "shell.execute_reply": "2025-07-07T15:45:41.143365Z"
    },
    "papermill": {
     "duration": 0.004159,
     "end_time": "2025-07-07T15:45:41.144170",
     "exception": false,
     "start_time": "2025-07-07T15:45:41.140011",
     "status": "completed"
    },
    "tags": []
   },
   "outputs": [],
   "source": [
    "preprocessor_rf = ColumnTransformer([\n",
    "    ('cat', OrdinalEncoder(handle_unknown=\"use_encoded_value\", unknown_value=-1),\n",
    "    object_features + boolean_features)\n",
    "], remainder='passthrough')  # Keep numeric features as-is\n",
    "\n",
    "categorical_indices = list(range(len(numeric_features), len(numeric_features) + len(object_features) + len(boolean_features)))"
   ]
  },
  {
   "cell_type": "markdown",
   "id": "60b44d90",
   "metadata": {
    "papermill": {
     "duration": 0.001503,
     "end_time": "2025-07-07T15:45:41.147168",
     "exception": false,
     "start_time": "2025-07-07T15:45:41.145665",
     "status": "completed"
    },
    "tags": []
   },
   "source": [
    "## Manual Cross-Validation with Pruning\n",
    "\n",
    "**Manual fold iteration** enables Optuna's pruning mechanism:\n",
    "- Early stopping: Poor trials abort after 2-3 folds via `trial.should_prune()`\n",
    "- Efficiency: Saves ~60% computation by stopping bad hyperparameter combinations\n",
    "- Consistency: Pre-generated folds ensure fair comparison across trials\n",
    "\n",
    "**Parameter Search Strategy**:\n",
    "- Tree structure: `n_estimators` (100-800), `max_depth` (10-50) control ensemble size and complexity\n",
    "- Split quality: `min_samples_split/leaf` prevent overfitting through minimum sample requirements\n",
    "- Feature sampling: `max_features` ('sqrt', 'log2') controls randomness in feature selection\n",
    "- Class handling: `class_weight` ('balanced', None) addresses imbalanced dataset\n",
    "\n",
    "This combines rigorous CV with intelligent early stopping for efficient Random Forest optimization."
   ]
  },
  {
   "cell_type": "code",
   "execution_count": 13,
   "id": "e183fd3a",
   "metadata": {
    "execution": {
     "iopub.execute_input": "2025-07-07T15:45:41.150417Z",
     "iopub.status.busy": "2025-07-07T15:45:41.150332Z",
     "iopub.status.idle": "2025-07-07T15:45:41.153589Z",
     "shell.execute_reply": "2025-07-07T15:45:41.153383Z"
    },
    "papermill": {
     "duration": 0.005588,
     "end_time": "2025-07-07T15:45:41.154133",
     "exception": false,
     "start_time": "2025-07-07T15:45:41.148545",
     "status": "completed"
    },
    "tags": []
   },
   "outputs": [],
   "source": [
    "def objective_rf(trial):\n",
    "    params = {\n",
    "        'n_estimators': trial.suggest_int('n_estimators', 100, 1500),\n",
    "        'max_depth': trial.suggest_int('max_depth', 10, 100),\n",
    "        'min_samples_split': trial.suggest_float('min_samples_split', 0.005, 0.2),\n",
    "        'min_samples_leaf': trial.suggest_float('min_samples_leaf', 0.0001, 0.02),\n",
    "        'min_weight_fraction_leaf': trial.suggest_float('min_weight_fraction_leaf', 0.0, 0.3),\n",
    "        'min_impurity_decrease': trial.suggest_float('min_impurity_decrease', 0.0, 0.02),\n",
    "        'max_features': trial.suggest_categorical('max_features', ['sqrt', 'log2']),\n",
    "        'class_weight': trial.suggest_categorical('class_weight', ['balanced', None]),\n",
    "        'max_leaf_nodes': trial.suggest_int('max_leaf_nodes', 10, 1000),\n",
    "    }\n",
    "\n",
    "    model = RandomForestClassifier(\n",
    "        criterion=\"gini\",\n",
    "        random_state=randy,\n",
    "        n_jobs=-1,\n",
    "        verbose=0,\n",
    "        **params\n",
    "    )\n",
    "\n",
    "    pipeline = Pipeline([\n",
    "        ('preprocessor', preprocessor_rf),\n",
    "        ('model', model)\n",
    "    ])\n",
    "\n",
    "    # Manual CV with pruning support\n",
    "    cv_folds = StratifiedKFold(n_splits=5, shuffle=True, random_state=randy)\n",
    "    scores = []\n",
    "\n",
    "    ## Stratified needs both x and y\n",
    "    for fold_idx, (train_idx, val_idx) in enumerate(cv_folds.split(X_train, y_train)):\n",
    "        X_fold_train, X_fold_val = X_train.iloc[train_idx], X_train.iloc[val_idx]\n",
    "        y_fold_train, y_fold_val = y_train.iloc[train_idx], y_train.iloc[val_idx]\n",
    "\n",
    "        pipeline.fit(X_fold_train, y_fold_train)\n",
    "        val_proba = pipeline.predict_proba(X_fold_val)[:, 1]\n",
    "\n",
    "        # Calculate ROC-AUC for this fold\n",
    "        from sklearn.metrics import roc_auc_score\n",
    "        fold_score = roc_auc_score(y_fold_val, val_proba)\n",
    "        scores.append(fold_score)\n",
    "\n",
    "        # Report intermediate score for pruning\n",
    "        trial.report(np.mean(scores), fold_idx)\n",
    "\n",
    "        # Prune if trial looks bad\n",
    "        if trial.should_prune():\n",
    "            raise optuna.TrialPruned()\n",
    "\n",
    "    return np.mean(scores)"
   ]
  },
  {
   "cell_type": "code",
   "execution_count": 14,
   "id": "c65b37f0",
   "metadata": {
    "execution": {
     "iopub.execute_input": "2025-07-07T15:45:41.157231Z",
     "iopub.status.busy": "2025-07-07T15:45:41.157162Z",
     "iopub.status.idle": "2025-07-07T15:45:41.159020Z",
     "shell.execute_reply": "2025-07-07T15:45:41.158846Z"
    },
    "papermill": {
     "duration": 0.004105,
     "end_time": "2025-07-07T15:45:41.159656",
     "exception": false,
     "start_time": "2025-07-07T15:45:41.155551",
     "status": "completed"
    },
    "tags": []
   },
   "outputs": [],
   "source": [
    "# Callbacks for monitoring\n",
    "def progress_callback(study, trial):\n",
    "    if trial.number % 25 == 0:\n",
    "        print(f\"Trial {trial.number}: Best ROC-AUC = {study.best_value:.4f}\")\n",
    "        print(f\"Best params so far: {study.best_params}\")\n",
    "\n",
    "def save_best_callback(study, trial):\n",
    "    if study.best_trial == trial:\n",
    "        with open(f\"../models/{token}_RF_best_params.pkl\", \"wb\") as f:\n",
    "            pickle.dump(study.best_params, f)"
   ]
  },
  {
   "cell_type": "code",
   "execution_count": 15,
   "id": "9cc8a237",
   "metadata": {
    "execution": {
     "iopub.execute_input": "2025-07-07T15:45:41.162883Z",
     "iopub.status.busy": "2025-07-07T15:45:41.162809Z",
     "iopub.status.idle": "2025-07-07T15:45:41.165049Z",
     "shell.execute_reply": "2025-07-07T15:45:41.164857Z"
    },
    "papermill": {
     "duration": 0.004399,
     "end_time": "2025-07-07T15:45:41.165579",
     "exception": false,
     "start_time": "2025-07-07T15:45:41.161180",
     "status": "completed"
    },
    "tags": []
   },
   "outputs": [
    {
     "name": "stderr",
     "output_type": "stream",
     "text": [
      "[I 2025-07-07 10:45:41,163] A new study created in memory with name: no-name-75e53310-3708-48fe-a485-958bbd3385f1\n"
     ]
    }
   ],
   "source": [
    "# Set up pruner and sampler for efficiency\n",
    "pruner = MedianPruner(\n",
    "    n_startup_trials=15,  # Don't prune first 15 trials\n",
    "    n_warmup_steps=2,     # Prune after 2 CV folds if clearly bad\n",
    "    interval_steps=1      # Check after each CV fold\n",
    ")\n",
    "\n",
    "study = optuna.create_study(\n",
    "    direction='maximize',\n",
    "    pruner=pruner,\n",
    "    sampler=TPESampler(seed=randy, n_startup_trials=25)\n",
    ")"
   ]
  },
  {
   "cell_type": "code",
   "execution_count": 16,
   "id": "2e6ef000",
   "metadata": {
    "execution": {
     "iopub.execute_input": "2025-07-07T15:45:41.168830Z",
     "iopub.status.busy": "2025-07-07T15:45:41.168758Z",
     "iopub.status.idle": "2025-07-07T16:20:01.941631Z",
     "shell.execute_reply": "2025-07-07T16:20:01.941377Z"
    },
    "papermill": {
     "duration": 2060.775248,
     "end_time": "2025-07-07T16:20:01.942222",
     "exception": false,
     "start_time": "2025-07-07T15:45:41.166974",
     "status": "completed"
    },
    "tags": []
   },
   "outputs": [
    {
     "name": "stderr",
     "output_type": "stream",
     "text": [
      "[I 2025-07-07 10:45:47,853] Trial 0 finished with value: 0.6562182418950282 and parameters: {'n_estimators': 624, 'max_depth': 96, 'min_samples_split': 0.147738818653224, 'min_samples_leaf': 0.012013303835521029, 'min_weight_fraction_leaf': 0.04680559213273095, 'min_impurity_decrease': 0.003119890406724053, 'max_features': 'log2', 'class_weight': None, 'max_leaf_nodes': 30}. Best is trial 0 with value: 0.6562182418950282.\n"
     ]
    },
    {
     "name": "stdout",
     "output_type": "stream",
     "text": [
      "Trial 0: Best ROC-AUC = 0.6562\n",
      "Best params so far: {'n_estimators': 624, 'max_depth': 96, 'min_samples_split': 0.147738818653224, 'min_samples_leaf': 0.012013303835521029, 'min_weight_fraction_leaf': 0.04680559213273095, 'min_impurity_decrease': 0.003119890406724053, 'max_features': 'log2', 'class_weight': None, 'max_leaf_nodes': 30}\n"
     ]
    },
    {
     "name": "stderr",
     "output_type": "stream",
     "text": [
      "[I 2025-07-07 10:46:04,103] Trial 1 finished with value: 0.6542989360426839 and parameters: {'n_estimators': 1458, 'max_depth': 85, 'min_samples_split': 0.046406126582263854, 'min_samples_leaf': 0.0037183168474213026, 'min_weight_fraction_leaf': 0.055021352956030146, 'min_impurity_decrease': 0.006084844859190755, 'max_features': 'sqrt', 'class_weight': None, 'max_leaf_nodes': 148}. Best is trial 0 with value: 0.6562182418950282.\n"
     ]
    },
    {
     "name": "stderr",
     "output_type": "stream",
     "text": [
      "[I 2025-07-07 11:20:01,938] Trial 199 finished with value: 0.6931355656742044 and parameters: {'n_estimators': 1029, 'max_depth': 85, 'min_samples_split': 0.019413522587478298, 'min_samples_leaf': 0.007621229753178505, 'min_weight_fraction_leaf': 0.011299003840782813, 'min_impurity_decrease': 1.4440952024140954e-05, 'max_features': 'sqrt', 'class_weight': 'balanced', 'max_leaf_nodes': 794}. Best is trial 199 with value: 0.6931355656742044.\n"
     ]
    },
    {
     "name": "stdout",
     "output_type": "stream",
     "text": [
      "\n",
      "Optimization completed!\n",
      "Best ROC-AUC: 0.6931\n",
      "Best parameters: {'n_estimators': 1029, 'max_depth': 85, 'min_samples_split': 0.019413522587478298, 'min_samples_leaf': 0.007621229753178505, 'min_weight_fraction_leaf': 0.011299003840782813, 'min_impurity_decrease': 1.4440952024140954e-05, 'max_features': 'sqrt', 'class_weight': 'balanced', 'max_leaf_nodes': 794}\n",
      "CPU times: user 2h 32min 58s, sys: 13min 51s, total: 2h 46min 49s\n",
      "Wall time: 34min 20s\n"
     ]
    }
   ],
   "source": [
    "%%time\n",
    "\n",
    "# Run optimization\n",
    "\n",
    "study.optimize(\n",
    "    objective_rf,\n",
    "    n_trials=200,\n",
    "    callbacks=[progress_callback, save_best_callback],\n",
    "    # show_progress_bar=True\n",
    ")\n",
    "\n",
    "print(f\"\\nOptimization completed!\")\n",
    "best_params = study.best_params\n",
    "print(f\"Best ROC-AUC: {study.best_value:.4f}\")\n",
    "print(f\"Best parameters: {study.best_params}\")"
   ]
  },
  {
   "cell_type": "code",
   "execution_count": 17,
   "id": "f8cf43b0",
   "metadata": {
    "execution": {
     "iopub.execute_input": "2025-07-07T16:20:01.952955Z",
     "iopub.status.busy": "2025-07-07T16:20:01.952866Z",
     "iopub.status.idle": "2025-07-07T16:20:29.982200Z",
     "shell.execute_reply": "2025-07-07T16:20:29.981957Z"
    },
    "papermill": {
     "duration": 28.035442,
     "end_time": "2025-07-07T16:20:29.982825",
     "exception": false,
     "start_time": "2025-07-07T16:20:01.947383",
     "status": "completed"
    },
    "tags": []
   },
   "outputs": [
    {
     "name": "stdout",
     "output_type": "stream",
     "text": [
      "Model saved as ../models/f11_RF_final.pkl\n"
     ]
    }
   ],
   "source": [
    "# Create final model with best parameters\n",
    "rf_final_model = RandomForestClassifier(\n",
    "    criterion=\"gini\",\n",
    "    random_state=randy,\n",
    "    **best_params  # Unpack the best parameters\n",
    ")\n",
    "\n",
    "# Create final pipeline\n",
    "rf_final = Pipeline(steps=[\n",
    "    ('preprocessor', preprocessor_rf),\n",
    "    ('model', rf_final_model)\n",
    "])\n",
    "\n",
    "rf_final.fit(X_train, y_train)\n",
    "\n",
    "filename=f\"../models/{token}_RF_final.pkl\"\n",
    "with open(filename, \"wb\") as file:\n",
    "    pickle.dump(rf_final, file)\n",
    "print(f\"Model saved as {filename}\")"
   ]
  },
  {
   "cell_type": "code",
   "execution_count": 18,
   "id": "bc0ccf71",
   "metadata": {
    "execution": {
     "iopub.execute_input": "2025-07-07T16:20:29.993517Z",
     "iopub.status.busy": "2025-07-07T16:20:29.993431Z",
     "iopub.status.idle": "2025-07-07T16:20:29.994964Z",
     "shell.execute_reply": "2025-07-07T16:20:29.994760Z"
    },
    "papermill": {
     "duration": 0.007522,
     "end_time": "2025-07-07T16:20:29.995545",
     "exception": false,
     "start_time": "2025-07-07T16:20:29.988023",
     "status": "completed"
    },
    "tags": []
   },
   "outputs": [],
   "source": [
    "# Load model from disk \n",
    "# rf_final = pd.read_pickle(\"../models/f04_RF_final.pkl\")"
   ]
  },
  {
   "cell_type": "code",
   "execution_count": 19,
   "id": "79c30c7c",
   "metadata": {
    "execution": {
     "iopub.execute_input": "2025-07-07T16:20:30.005745Z",
     "iopub.status.busy": "2025-07-07T16:20:30.005660Z",
     "iopub.status.idle": "2025-07-07T16:20:35.226983Z",
     "shell.execute_reply": "2025-07-07T16:20:35.226762Z"
    },
    "papermill": {
     "duration": 5.227136,
     "end_time": "2025-07-07T16:20:35.227610",
     "exception": false,
     "start_time": "2025-07-07T16:20:30.000474",
     "status": "completed"
    },
    "tags": []
   },
   "outputs": [
    {
     "data": {
      "text/plain": [
       "{'model_version': 'f11_Random Forest',\n",
       " 'accuracy': 0.6401021962364271,\n",
       " 'precision': 0.6129670329670329,\n",
       " 'recall': 0.5946061187506663,\n",
       " 'f1_score': 0.6036469887993074,\n",
       " 'specificity': np.float64(0.6790010936930369),\n",
       " 'roc_auc': np.float64(0.69666521944609),\n",
       " 'y_test': array([1, 0, 0, ..., 1, 1, 0], dtype=int8),\n",
       " 'y_train_pred': array([1, 0, 1, ..., 0, 0, 1], dtype=int8),\n",
       " 'y_test_pred': array([0, 1, 1, ..., 1, 1, 0], dtype=int8),\n",
       " 'y_test_pred_proba': array([0.49610255, 0.65781136, 0.56962064, ..., 0.59112288, 0.61456102,\n",
       "        0.40604344]),\n",
       " 'display_labels': array([0, 1], dtype=int8),\n",
       " 'confusion_matrix': {'tn': np.int64(7450),\n",
       "  'fp': np.int64(3522),\n",
       "  'fn': np.int64(3803),\n",
       "  'tp': np.int64(5578)},\n",
       " 'roc_curve': {'fpr': array([0.        , 0.        , 0.        , ..., 0.99835946, 0.99835946,\n",
       "         1.        ]),\n",
       "  'tpr': array([0.00000000e+00, 1.06598444e-04, 1.70557510e-03, ...,\n",
       "         9.99893402e-01, 1.00000000e+00, 1.00000000e+00]),\n",
       "  'thresholds': array([       inf, 0.730492  , 0.71524053, ..., 0.32027797, 0.32000791,\n",
       "         0.29688824])},\n",
       " 'shap_data': {'model': Pipeline(steps=[('preprocessor',\n",
       "                   ColumnTransformer(remainder='passthrough',\n",
       "                                     transformers=[('cat',\n",
       "                                                    OrdinalEncoder(handle_unknown='use_encoded_value',\n",
       "                                                                   unknown_value=-1),\n",
       "                                                    ['race', 'gender',\n",
       "                                                     'medical_specialty',\n",
       "                                                     'diag_1', 'diag_2', 'diag_3',\n",
       "                                                     'max_glu_serum', 'A1Cresult',\n",
       "                                                     'metformin',\n",
       "                                                     'chlorpropamide',\n",
       "                                                     'glimepiride', 'glipizide',\n",
       "                                                     'glyburide', 'pioglitazone',\n",
       "                                                     'rosiglitazon...\n",
       "                                                     'age_group', 'change',\n",
       "                                                     'diabetesMed', 'A1C_tested',\n",
       "                                                     'substitution'])])),\n",
       "                  ('model',\n",
       "                   RandomForestClassifier(class_weight='balanced', max_depth=85,\n",
       "                                          max_leaf_nodes=794,\n",
       "                                          min_impurity_decrease=1.4440952024140954e-05,\n",
       "                                          min_samples_leaf=0.007621229753178505,\n",
       "                                          min_samples_split=0.019413522587478298,\n",
       "                                          min_weight_fraction_leaf=0.011299003840782813,\n",
       "                                          n_estimators=1029, random_state=42))]),\n",
       "  'X_train_processed': array([[ 2.,  1., 16., ...,  0.,  0.,  0.],\n",
       "         [ 2.,  1., 16., ...,  0.,  0.,  0.],\n",
       "         [ 2.,  1., 16., ...,  0.,  0.,  0.],\n",
       "         ...,\n",
       "         [ 0.,  1., 16., ...,  0.,  0.,  0.],\n",
       "         [ 2.,  0., 16., ...,  0.,  0.,  0.],\n",
       "         [ 2.,  0., 16., ...,  0.,  0.,  0.]]),\n",
       "  'X_test_processed': array([[ 0.,  0., 17., ...,  0.,  0.,  0.],\n",
       "         [ 2.,  1., 16., ...,  0.,  0.,  0.],\n",
       "         [ 1.,  1., 35., ...,  0.,  0.,  0.],\n",
       "         ...,\n",
       "         [ 2.,  1., 16., ...,  0.,  0.,  0.],\n",
       "         [ 2.,  0.,  6., ...,  0.,  0.,  0.],\n",
       "         [ 2.,  0., 16., ...,  0.,  0.,  0.]]),\n",
       "  'feature_names': array(['cat__race', 'cat__gender', 'cat__medical_specialty',\n",
       "         'cat__diag_1', 'cat__diag_2', 'cat__diag_3', 'cat__max_glu_serum',\n",
       "         'cat__A1Cresult', 'cat__metformin', 'cat__chlorpropamide',\n",
       "         'cat__glimepiride', 'cat__glipizide', 'cat__glyburide',\n",
       "         'cat__pioglitazone', 'cat__rosiglitazone', 'cat__tolazamide',\n",
       "         'cat__insulin', 'cat__glyburide-metformin',\n",
       "         'cat__medical_subspecialty', 'cat__discharge_disposition_group',\n",
       "         'cat__admission_source_group', 'cat__age_group', 'cat__change',\n",
       "         'cat__diabetesMed', 'cat__A1C_tested', 'cat__substitution',\n",
       "         'remainder__encounter_id', 'remainder__patient_nbr',\n",
       "         'remainder__age', 'remainder__admission_type_id',\n",
       "         'remainder__discharge_disposition_id',\n",
       "         'remainder__admission_source_id', 'remainder__time_in_hospital',\n",
       "         'remainder__num_lab_procedures', 'remainder__num_procedures',\n",
       "         'remainder__num_medications', 'remainder__number_outpatient',\n",
       "         'remainder__number_emergency', 'remainder__number_inpatient',\n",
       "         'remainder__number_diagnoses', 'remainder__service_utilization',\n",
       "         'remainder__med_change_count', 'remainder__diabetes_meds_used',\n",
       "         'remainder__num_nondiabetic_medications', 'remainder__has_001_139',\n",
       "         'remainder__has_140_239', 'remainder__has_240_279',\n",
       "         'remainder__has_280_289', 'remainder__has_290_319',\n",
       "         'remainder__has_320_389', 'remainder__has_390_459',\n",
       "         'remainder__has_460_519', 'remainder__has_520_579',\n",
       "         'remainder__has_580_629', 'remainder__has_630_679',\n",
       "         'remainder__has_680_709', 'remainder__has_710_739',\n",
       "         'remainder__has_740_759', 'remainder__has_760_779',\n",
       "         'remainder__has_780_799', 'remainder__has_800_999',\n",
       "         'remainder__has_V01_V06', 'remainder__has_V07_V09',\n",
       "         'remainder__has_V10_V19', 'remainder__has_V20_V29',\n",
       "         'remainder__has_V30_V39', 'remainder__has_V40_V49',\n",
       "         'remainder__has_V50_V59', 'remainder__has_V60_V69',\n",
       "         'remainder__has_V70_V82', 'remainder__has_V83_V84',\n",
       "         'remainder__has_E979', 'remainder__has_E849',\n",
       "         'remainder__has_E800_E807', 'remainder__has_E810_E819',\n",
       "         'remainder__has_E820_E825', 'remainder__has_E826_E829',\n",
       "         'remainder__has_E830_E838', 'remainder__has_E840_E845',\n",
       "         'remainder__has_E846_E848', 'remainder__has_E850_E858',\n",
       "         'remainder__has_E860_E869', 'remainder__has_E870_E876',\n",
       "         'remainder__has_E878_E879', 'remainder__has_E880_E888',\n",
       "         'remainder__has_E890_E899', 'remainder__has_E900_E909',\n",
       "         'remainder__has_E910_E915', 'remainder__has_E916_E928',\n",
       "         'remainder__has_E930_E949', 'remainder__has_E950_E959',\n",
       "         'remainder__has_E960_E969', 'remainder__has_E970_E978',\n",
       "         'remainder__has_E980_E989', 'remainder__has_E990_E999',\n",
       "         'remainder__count_001_139', 'remainder__count_140_239',\n",
       "         'remainder__count_240_279', 'remainder__count_280_289',\n",
       "         'remainder__count_290_319', 'remainder__count_320_389',\n",
       "         'remainder__count_390_459', 'remainder__count_460_519',\n",
       "         'remainder__count_520_579', 'remainder__count_580_629',\n",
       "         'remainder__count_630_679', 'remainder__count_680_709',\n",
       "         'remainder__count_710_739', 'remainder__count_740_759',\n",
       "         'remainder__count_760_779', 'remainder__count_780_799',\n",
       "         'remainder__count_800_999', 'remainder__count_V01_V06',\n",
       "         'remainder__count_V07_V09', 'remainder__count_V10_V19',\n",
       "         'remainder__count_V20_V29', 'remainder__count_V30_V39',\n",
       "         'remainder__count_V40_V49', 'remainder__count_V50_V59',\n",
       "         'remainder__count_V60_V69', 'remainder__count_V70_V82',\n",
       "         'remainder__count_V83_V84', 'remainder__count_E979',\n",
       "         'remainder__count_E849', 'remainder__count_E800_E807',\n",
       "         'remainder__count_E810_E819', 'remainder__count_E820_E825',\n",
       "         'remainder__count_E826_E829', 'remainder__count_E830_E838',\n",
       "         'remainder__count_E840_E845', 'remainder__count_E846_E848',\n",
       "         'remainder__count_E850_E858', 'remainder__count_E860_E869',\n",
       "         'remainder__count_E870_E876', 'remainder__count_E878_E879',\n",
       "         'remainder__count_E880_E888', 'remainder__count_E890_E899',\n",
       "         'remainder__count_E900_E909', 'remainder__count_E910_E915',\n",
       "         'remainder__count_E916_E928', 'remainder__count_E930_E949',\n",
       "         'remainder__count_E950_E959', 'remainder__count_E960_E969',\n",
       "         'remainder__count_E970_E978', 'remainder__count_E980_E989',\n",
       "         'remainder__count_E990_E999'], dtype=object),\n",
       "  'original_feature_names': ['encounter_id',\n",
       "   'patient_nbr',\n",
       "   'race',\n",
       "   'gender',\n",
       "   'age',\n",
       "   'admission_type_id',\n",
       "   'discharge_disposition_id',\n",
       "   'admission_source_id',\n",
       "   'time_in_hospital',\n",
       "   'medical_specialty',\n",
       "   'num_lab_procedures',\n",
       "   'num_procedures',\n",
       "   'num_medications',\n",
       "   'number_outpatient',\n",
       "   'number_emergency',\n",
       "   'number_inpatient',\n",
       "   'diag_1',\n",
       "   'diag_2',\n",
       "   'diag_3',\n",
       "   'number_diagnoses',\n",
       "   'max_glu_serum',\n",
       "   'A1Cresult',\n",
       "   'metformin',\n",
       "   'chlorpropamide',\n",
       "   'glimepiride',\n",
       "   'glipizide',\n",
       "   'glyburide',\n",
       "   'pioglitazone',\n",
       "   'rosiglitazone',\n",
       "   'tolazamide',\n",
       "   'insulin',\n",
       "   'glyburide-metformin',\n",
       "   'change',\n",
       "   'diabetesMed',\n",
       "   'medical_subspecialty',\n",
       "   'discharge_disposition_group',\n",
       "   'admission_source_group',\n",
       "   'A1C_tested',\n",
       "   'service_utilization',\n",
       "   'substitution',\n",
       "   'med_change_count',\n",
       "   'diabetes_meds_used',\n",
       "   'num_nondiabetic_medications',\n",
       "   'age_group',\n",
       "   'has_001_139',\n",
       "   'has_140_239',\n",
       "   'has_240_279',\n",
       "   'has_280_289',\n",
       "   'has_290_319',\n",
       "   'has_320_389',\n",
       "   'has_390_459',\n",
       "   'has_460_519',\n",
       "   'has_520_579',\n",
       "   'has_580_629',\n",
       "   'has_630_679',\n",
       "   'has_680_709',\n",
       "   'has_710_739',\n",
       "   'has_740_759',\n",
       "   'has_760_779',\n",
       "   'has_780_799',\n",
       "   'has_800_999',\n",
       "   'has_V01_V06',\n",
       "   'has_V07_V09',\n",
       "   'has_V10_V19',\n",
       "   'has_V20_V29',\n",
       "   'has_V30_V39',\n",
       "   'has_V40_V49',\n",
       "   'has_V50_V59',\n",
       "   'has_V60_V69',\n",
       "   'has_V70_V82',\n",
       "   'has_V83_V84',\n",
       "   'has_E979',\n",
       "   'has_E849',\n",
       "   'has_E800_E807',\n",
       "   'has_E810_E819',\n",
       "   'has_E820_E825',\n",
       "   'has_E826_E829',\n",
       "   'has_E830_E838',\n",
       "   'has_E840_E845',\n",
       "   'has_E846_E848',\n",
       "   'has_E850_E858',\n",
       "   'has_E860_E869',\n",
       "   'has_E870_E876',\n",
       "   'has_E878_E879',\n",
       "   'has_E880_E888',\n",
       "   'has_E890_E899',\n",
       "   'has_E900_E909',\n",
       "   'has_E910_E915',\n",
       "   'has_E916_E928',\n",
       "   'has_E930_E949',\n",
       "   'has_E950_E959',\n",
       "   'has_E960_E969',\n",
       "   'has_E970_E978',\n",
       "   'has_E980_E989',\n",
       "   'has_E990_E999',\n",
       "   'count_001_139',\n",
       "   'count_140_239',\n",
       "   'count_240_279',\n",
       "   'count_280_289',\n",
       "   'count_290_319',\n",
       "   'count_320_389',\n",
       "   'count_390_459',\n",
       "   'count_460_519',\n",
       "   'count_520_579',\n",
       "   'count_580_629',\n",
       "   'count_630_679',\n",
       "   'count_680_709',\n",
       "   'count_710_739',\n",
       "   'count_740_759',\n",
       "   'count_760_779',\n",
       "   'count_780_799',\n",
       "   'count_800_999',\n",
       "   'count_V01_V06',\n",
       "   'count_V07_V09',\n",
       "   'count_V10_V19',\n",
       "   'count_V20_V29',\n",
       "   'count_V30_V39',\n",
       "   'count_V40_V49',\n",
       "   'count_V50_V59',\n",
       "   'count_V60_V69',\n",
       "   'count_V70_V82',\n",
       "   'count_V83_V84',\n",
       "   'count_E979',\n",
       "   'count_E849',\n",
       "   'count_E800_E807',\n",
       "   'count_E810_E819',\n",
       "   'count_E820_E825',\n",
       "   'count_E826_E829',\n",
       "   'count_E830_E838',\n",
       "   'count_E840_E845',\n",
       "   'count_E846_E848',\n",
       "   'count_E850_E858',\n",
       "   'count_E860_E869',\n",
       "   'count_E870_E876',\n",
       "   'count_E878_E879',\n",
       "   'count_E880_E888',\n",
       "   'count_E890_E899',\n",
       "   'count_E900_E909',\n",
       "   'count_E910_E915',\n",
       "   'count_E916_E928',\n",
       "   'count_E930_E949',\n",
       "   'count_E950_E959',\n",
       "   'count_E960_E969',\n",
       "   'count_E970_E978',\n",
       "   'count_E980_E989',\n",
       "   'count_E990_E999']}}"
      ]
     },
     "execution_count": 19,
     "metadata": {},
     "output_type": "execute_result"
    }
   ],
   "source": [
    "evaluate_and_save_pipeline(\n",
    "    pipeline=rf_final, \n",
    "    namestring='Random Forest',\n",
    "    token=token, \n",
    "    X_train=X_train, \n",
    "    X_test=X_test, \n",
    "    y_train=y_train, \n",
    "    y_test=y_test)"
   ]
  }
 ],
 "metadata": {
  "kernelspec": {
   "display_name": ".venv",
   "language": "python",
   "name": "python3"
  },
  "language_info": {
   "codemirror_mode": {
    "name": "ipython",
    "version": 3
   },
   "file_extension": ".py",
   "mimetype": "text/x-python",
   "name": "python",
   "nbconvert_exporter": "python",
   "pygments_lexer": "ipython3",
   "version": "3.11.9"
  },
  "papermill": {
   "default_parameters": {},
   "duration": 2098.518935,
   "end_time": "2025-07-07T16:20:37.853070",
   "environment_variables": {},
   "exception": null,
   "input_path": "p06_random_Forest.ipynb",
   "output_path": "outputs/p06_random_Forest_executed.ipynb",
   "parameters": {},
   "start_time": "2025-07-07T15:45:39.334135",
   "version": "2.6.0"
  }
 },
 "nbformat": 4,
 "nbformat_minor": 5
}