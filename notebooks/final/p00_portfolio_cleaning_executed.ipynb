{
 "cells": [
  {
   "cell_type": "markdown",
   "id": "1c1ba1aa",
   "metadata": {
    "papermill": {
     "duration": 0.010676,
     "end_time": "2025-07-03T19:44:46.256994",
     "exception": false,
     "start_time": "2025-07-03T19:44:46.246318",
     "status": "completed"
    },
    "tags": []
   },
   "source": [
    "# Diabetes Dataset – Data Profiling & Cleaning\n",
    "\n",
    "This notebook performs comprehensive data cleaning on the UCI diabetes dataset in preparation for modeling hospital readmission. \n",
    "\n",
    "**Goals:**\n",
    "- Inspect and clean categorical, numeric, and diagnostic fields\n",
    "- Normalize inconsistent formats (e.g., ICD-9 codes, weight ranges)\n",
    "- Handle missing or unknown values\n",
    "- Prepare a clean, model-ready dataset for downstream exploration and modeling\n",
    "\n",
    "The graphical EDA and modeling steps are covered in separate notebooks."
   ]
  },
  {
   "cell_type": "markdown",
   "id": "e0bc77d5",
   "metadata": {
    "papermill": {
     "duration": 0.006462,
     "end_time": "2025-07-03T19:44:46.271105",
     "exception": false,
     "start_time": "2025-07-03T19:44:46.264643",
     "status": "completed"
    },
    "tags": []
   },
   "source": [
    "## 1. Load Raw Data and Initial Schema Inspection\n",
    "- Read CSV and check structure with `.info()`\n",
    "- Identify column types and missing values"
   ]
  },
  {
   "cell_type": "code",
   "execution_count": 1,
   "id": "92d318d3",
   "metadata": {
    "execution": {
     "iopub.execute_input": "2025-07-03T19:44:46.282379Z",
     "iopub.status.busy": "2025-07-03T19:44:46.282190Z",
     "iopub.status.idle": "2025-07-03T19:44:46.616464Z",
     "shell.execute_reply": "2025-07-03T19:44:46.616161Z"
    },
    "papermill": {
     "duration": 0.340547,
     "end_time": "2025-07-03T19:44:46.617288",
     "exception": false,
     "start_time": "2025-07-03T19:44:46.276741",
     "status": "completed"
    },
    "tags": []
   },
   "outputs": [],
   "source": [
    "import pandas as pd\n",
    "import numpy as np\n",
    "\n",
    "raw_data = pd.read_csv('../data/diabetic_data.csv')"
   ]
  },
  {
   "cell_type": "code",
   "execution_count": 2,
   "id": "65bd5367",
   "metadata": {
    "execution": {
     "iopub.execute_input": "2025-07-03T19:44:46.622902Z",
     "iopub.status.busy": "2025-07-03T19:44:46.622770Z",
     "iopub.status.idle": "2025-07-03T19:44:46.671965Z",
     "shell.execute_reply": "2025-07-03T19:44:46.671743Z"
    },
    "papermill": {
     "duration": 0.05268,
     "end_time": "2025-07-03T19:44:46.672654",
     "exception": false,
     "start_time": "2025-07-03T19:44:46.619974",
     "status": "completed"
    },
    "tags": []
   },
   "outputs": [
    {
     "name": "stdout",
     "output_type": "stream",
     "text": [
      "<class 'pandas.core.frame.DataFrame'>\n",
      "RangeIndex: 101766 entries, 0 to 101765\n",
      "Data columns (total 50 columns):\n",
      " #   Column                    Non-Null Count   Dtype \n",
      "---  ------                    --------------   ----- \n",
      " 0   encounter_id              101766 non-null  int64 \n",
      " 1   patient_nbr               101766 non-null  int64 \n",
      " 2   race                      101766 non-null  object\n",
      " 3   gender                    101766 non-null  object\n",
      " 4   age                       101766 non-null  object\n",
      " 5   weight                    101766 non-null  object\n",
      " 6   admission_type_id         101766 non-null  int64 \n",
      " 7   discharge_disposition_id  101766 non-null  int64 \n",
      " 8   admission_source_id       101766 non-null  int64 \n",
      " 9   time_in_hospital          101766 non-null  int64 \n",
      " 10  payer_code                101766 non-null  object\n",
      " 11  medical_specialty         101766 non-null  object\n",
      " 12  num_lab_procedures        101766 non-null  int64 \n",
      " 13  num_procedures            101766 non-null  int64 \n",
      " 14  num_medications           101766 non-null  int64 \n",
      " 15  number_outpatient         101766 non-null  int64 \n",
      " 16  number_emergency          101766 non-null  int64 \n",
      " 17  number_inpatient          101766 non-null  int64 \n",
      " 18  diag_1                    101766 non-null  object\n",
      " 19  diag_2                    101766 non-null  object\n",
      " 20  diag_3                    101766 non-null  object\n",
      " 21  number_diagnoses          101766 non-null  int64 \n",
      " 22  max_glu_serum             5346 non-null    object\n",
      " 23  A1Cresult                 17018 non-null   object\n",
      " 24  metformin                 101766 non-null  object\n",
      " 25  repaglinide               101766 non-null  object\n",
      " 26  nateglinide               101766 non-null  object\n",
      " 27  chlorpropamide            101766 non-null  object\n",
      " 28  glimepiride               101766 non-null  object\n",
      " 29  acetohexamide             101766 non-null  object\n",
      " 30  glipizide                 101766 non-null  object\n",
      " 31  glyburide                 101766 non-null  object\n",
      " 32  tolbutamide               101766 non-null  object\n",
      " 33  pioglitazone              101766 non-null  object\n",
      " 34  rosiglitazone             101766 non-null  object\n",
      " 35  acarbose                  101766 non-null  object\n",
      " 36  miglitol                  101766 non-null  object\n",
      " 37  troglitazone              101766 non-null  object\n",
      " 38  tolazamide                101766 non-null  object\n",
      " 39  examide                   101766 non-null  object\n",
      " 40  citoglipton               101766 non-null  object\n",
      " 41  insulin                   101766 non-null  object\n",
      " 42  glyburide-metformin       101766 non-null  object\n",
      " 43  glipizide-metformin       101766 non-null  object\n",
      " 44  glimepiride-pioglitazone  101766 non-null  object\n",
      " 45  metformin-rosiglitazone   101766 non-null  object\n",
      " 46  metformin-pioglitazone    101766 non-null  object\n",
      " 47  change                    101766 non-null  object\n",
      " 48  diabetesMed               101766 non-null  object\n",
      " 49  readmitted                101766 non-null  object\n",
      "dtypes: int64(13), object(37)\n",
      "memory usage: 38.8+ MB\n",
      "None\n"
     ]
    }
   ],
   "source": [
    "print(raw_data.info())"
   ]
  },
  {
   "cell_type": "markdown",
   "id": "07e827ce",
   "metadata": {
    "papermill": {
     "duration": 0.002393,
     "end_time": "2025-07-03T19:44:46.677700",
     "exception": false,
     "start_time": "2025-07-03T19:44:46.675307",
     "status": "completed"
    },
    "tags": []
   },
   "source": [
    "## 2. Initial Exploration of Categorical (String) Columns\n",
    "- Slice and inspect subsets of object-type fields\n",
    "- Focus on early variables: race, gender, age, weight, payer_code, medical_specialty"
   ]
  },
  {
   "cell_type": "code",
   "execution_count": 3,
   "id": "b6f7ecd6",
   "metadata": {
    "execution": {
     "iopub.execute_input": "2025-07-03T19:44:46.683216Z",
     "iopub.status.busy": "2025-07-03T19:44:46.683127Z",
     "iopub.status.idle": "2025-07-03T19:44:46.703687Z",
     "shell.execute_reply": "2025-07-03T19:44:46.703501Z"
    },
    "papermill": {
     "duration": 0.02402,
     "end_time": "2025-07-03T19:44:46.704312",
     "exception": false,
     "start_time": "2025-07-03T19:44:46.680292",
     "status": "completed"
    },
    "tags": []
   },
   "outputs": [
    {
     "data": {
      "text/plain": [
       "37"
      ]
     },
     "execution_count": 3,
     "metadata": {},
     "output_type": "execute_result"
    }
   ],
   "source": [
    "string_cols = raw_data.select_dtypes('object').columns\n",
    "string_cols.size"
   ]
  },
  {
   "cell_type": "code",
   "execution_count": 4,
   "id": "6ff51905",
   "metadata": {
    "execution": {
     "iopub.execute_input": "2025-07-03T19:44:46.709653Z",
     "iopub.status.busy": "2025-07-03T19:44:46.709577Z",
     "iopub.status.idle": "2025-07-03T19:44:46.718192Z",
     "shell.execute_reply": "2025-07-03T19:44:46.718041Z"
    },
    "papermill": {
     "duration": 0.011892,
     "end_time": "2025-07-03T19:44:46.718739",
     "exception": false,
     "start_time": "2025-07-03T19:44:46.706847",
     "status": "completed"
    },
    "tags": []
   },
   "outputs": [
    {
     "data": {
      "text/html": [
       "<div>\n",
       "<style scoped>\n",
       "    .dataframe tbody tr th:only-of-type {\n",
       "        vertical-align: middle;\n",
       "    }\n",
       "\n",
       "    .dataframe tbody tr th {\n",
       "        vertical-align: top;\n",
       "    }\n",
       "\n",
       "    .dataframe thead th {\n",
       "        text-align: right;\n",
       "    }\n",
       "</style>\n",
       "<table border=\"1\" class=\"dataframe\">\n",
       "  <thead>\n",
       "    <tr style=\"text-align: right;\">\n",
       "      <th></th>\n",
       "      <th>race</th>\n",
       "      <th>gender</th>\n",
       "      <th>age</th>\n",
       "      <th>weight</th>\n",
       "      <th>payer_code</th>\n",
       "      <th>medical_specialty</th>\n",
       "      <th>diag_1</th>\n",
       "      <th>diag_2</th>\n",
       "      <th>diag_3</th>\n",
       "      <th>max_glu_serum</th>\n",
       "      <th>A1Cresult</th>\n",
       "      <th>metformin</th>\n",
       "      <th>repaglinide</th>\n",
       "    </tr>\n",
       "  </thead>\n",
       "  <tbody>\n",
       "    <tr>\n",
       "      <th>0</th>\n",
       "      <td>Caucasian</td>\n",
       "      <td>Female</td>\n",
       "      <td>[0-10)</td>\n",
       "      <td>?</td>\n",
       "      <td>?</td>\n",
       "      <td>Pediatrics-Endocrinology</td>\n",
       "      <td>250.83</td>\n",
       "      <td>?</td>\n",
       "      <td>?</td>\n",
       "      <td>NaN</td>\n",
       "      <td>NaN</td>\n",
       "      <td>No</td>\n",
       "      <td>No</td>\n",
       "    </tr>\n",
       "    <tr>\n",
       "      <th>1</th>\n",
       "      <td>Caucasian</td>\n",
       "      <td>Female</td>\n",
       "      <td>[10-20)</td>\n",
       "      <td>?</td>\n",
       "      <td>?</td>\n",
       "      <td>?</td>\n",
       "      <td>276</td>\n",
       "      <td>250.01</td>\n",
       "      <td>255</td>\n",
       "      <td>NaN</td>\n",
       "      <td>NaN</td>\n",
       "      <td>No</td>\n",
       "      <td>No</td>\n",
       "    </tr>\n",
       "    <tr>\n",
       "      <th>2</th>\n",
       "      <td>AfricanAmerican</td>\n",
       "      <td>Female</td>\n",
       "      <td>[20-30)</td>\n",
       "      <td>?</td>\n",
       "      <td>?</td>\n",
       "      <td>?</td>\n",
       "      <td>648</td>\n",
       "      <td>250</td>\n",
       "      <td>V27</td>\n",
       "      <td>NaN</td>\n",
       "      <td>NaN</td>\n",
       "      <td>No</td>\n",
       "      <td>No</td>\n",
       "    </tr>\n",
       "    <tr>\n",
       "      <th>3</th>\n",
       "      <td>Caucasian</td>\n",
       "      <td>Male</td>\n",
       "      <td>[30-40)</td>\n",
       "      <td>?</td>\n",
       "      <td>?</td>\n",
       "      <td>?</td>\n",
       "      <td>8</td>\n",
       "      <td>250.43</td>\n",
       "      <td>403</td>\n",
       "      <td>NaN</td>\n",
       "      <td>NaN</td>\n",
       "      <td>No</td>\n",
       "      <td>No</td>\n",
       "    </tr>\n",
       "    <tr>\n",
       "      <th>4</th>\n",
       "      <td>Caucasian</td>\n",
       "      <td>Male</td>\n",
       "      <td>[40-50)</td>\n",
       "      <td>?</td>\n",
       "      <td>?</td>\n",
       "      <td>?</td>\n",
       "      <td>197</td>\n",
       "      <td>157</td>\n",
       "      <td>250</td>\n",
       "      <td>NaN</td>\n",
       "      <td>NaN</td>\n",
       "      <td>No</td>\n",
       "      <td>No</td>\n",
       "    </tr>\n",
       "  </tbody>\n",
       "</table>\n",
       "</div>"
      ],
      "text/plain": [
       "              race  gender      age weight payer_code  \\\n",
       "0        Caucasian  Female   [0-10)      ?          ?   \n",
       "1        Caucasian  Female  [10-20)      ?          ?   \n",
       "2  AfricanAmerican  Female  [20-30)      ?          ?   \n",
       "3        Caucasian    Male  [30-40)      ?          ?   \n",
       "4        Caucasian    Male  [40-50)      ?          ?   \n",
       "\n",
       "          medical_specialty  diag_1  diag_2 diag_3 max_glu_serum A1Cresult  \\\n",
       "0  Pediatrics-Endocrinology  250.83       ?      ?           NaN       NaN   \n",
       "1                         ?     276  250.01    255           NaN       NaN   \n",
       "2                         ?     648     250    V27           NaN       NaN   \n",
       "3                         ?       8  250.43    403           NaN       NaN   \n",
       "4                         ?     197     157    250           NaN       NaN   \n",
       "\n",
       "  metformin repaglinide  \n",
       "0        No          No  \n",
       "1        No          No  \n",
       "2        No          No  \n",
       "3        No          No  \n",
       "4        No          No  "
      ]
     },
     "execution_count": 4,
     "metadata": {},
     "output_type": "execute_result"
    }
   ],
   "source": [
    "raw_data.loc[:, string_cols[0:13]].head()"
   ]
  },
  {
   "cell_type": "code",
   "execution_count": 5,
   "id": "183bad11",
   "metadata": {
    "execution": {
     "iopub.execute_input": "2025-07-03T19:44:46.724202Z",
     "iopub.status.busy": "2025-07-03T19:44:46.724128Z",
     "iopub.status.idle": "2025-07-03T19:44:46.733331Z",
     "shell.execute_reply": "2025-07-03T19:44:46.733137Z"
    },
    "papermill": {
     "duration": 0.012517,
     "end_time": "2025-07-03T19:44:46.733911",
     "exception": false,
     "start_time": "2025-07-03T19:44:46.721394",
     "status": "completed"
    },
    "tags": []
   },
   "outputs": [
    {
     "data": {
      "text/html": [
       "<div>\n",
       "<style scoped>\n",
       "    .dataframe tbody tr th:only-of-type {\n",
       "        vertical-align: middle;\n",
       "    }\n",
       "\n",
       "    .dataframe tbody tr th {\n",
       "        vertical-align: top;\n",
       "    }\n",
       "\n",
       "    .dataframe thead th {\n",
       "        text-align: right;\n",
       "    }\n",
       "</style>\n",
       "<table border=\"1\" class=\"dataframe\">\n",
       "  <thead>\n",
       "    <tr style=\"text-align: right;\">\n",
       "      <th></th>\n",
       "      <th>chlorpropamide</th>\n",
       "      <th>glimepiride</th>\n",
       "      <th>acetohexamide</th>\n",
       "      <th>glipizide</th>\n",
       "      <th>glyburide</th>\n",
       "      <th>tolbutamide</th>\n",
       "      <th>pioglitazone</th>\n",
       "      <th>rosiglitazone</th>\n",
       "      <th>acarbose</th>\n",
       "      <th>miglitol</th>\n",
       "      <th>troglitazone</th>\n",
       "      <th>tolazamide</th>\n",
       "      <th>examide</th>\n",
       "    </tr>\n",
       "  </thead>\n",
       "  <tbody>\n",
       "    <tr>\n",
       "      <th>0</th>\n",
       "      <td>No</td>\n",
       "      <td>No</td>\n",
       "      <td>No</td>\n",
       "      <td>No</td>\n",
       "      <td>No</td>\n",
       "      <td>No</td>\n",
       "      <td>No</td>\n",
       "      <td>No</td>\n",
       "      <td>No</td>\n",
       "      <td>No</td>\n",
       "      <td>No</td>\n",
       "      <td>No</td>\n",
       "      <td>No</td>\n",
       "    </tr>\n",
       "    <tr>\n",
       "      <th>1</th>\n",
       "      <td>No</td>\n",
       "      <td>No</td>\n",
       "      <td>No</td>\n",
       "      <td>No</td>\n",
       "      <td>No</td>\n",
       "      <td>No</td>\n",
       "      <td>No</td>\n",
       "      <td>No</td>\n",
       "      <td>No</td>\n",
       "      <td>No</td>\n",
       "      <td>No</td>\n",
       "      <td>No</td>\n",
       "      <td>No</td>\n",
       "    </tr>\n",
       "    <tr>\n",
       "      <th>2</th>\n",
       "      <td>No</td>\n",
       "      <td>No</td>\n",
       "      <td>No</td>\n",
       "      <td>Steady</td>\n",
       "      <td>No</td>\n",
       "      <td>No</td>\n",
       "      <td>No</td>\n",
       "      <td>No</td>\n",
       "      <td>No</td>\n",
       "      <td>No</td>\n",
       "      <td>No</td>\n",
       "      <td>No</td>\n",
       "      <td>No</td>\n",
       "    </tr>\n",
       "    <tr>\n",
       "      <th>3</th>\n",
       "      <td>No</td>\n",
       "      <td>No</td>\n",
       "      <td>No</td>\n",
       "      <td>No</td>\n",
       "      <td>No</td>\n",
       "      <td>No</td>\n",
       "      <td>No</td>\n",
       "      <td>No</td>\n",
       "      <td>No</td>\n",
       "      <td>No</td>\n",
       "      <td>No</td>\n",
       "      <td>No</td>\n",
       "      <td>No</td>\n",
       "    </tr>\n",
       "    <tr>\n",
       "      <th>4</th>\n",
       "      <td>No</td>\n",
       "      <td>No</td>\n",
       "      <td>No</td>\n",
       "      <td>Steady</td>\n",
       "      <td>No</td>\n",
       "      <td>No</td>\n",
       "      <td>No</td>\n",
       "      <td>No</td>\n",
       "      <td>No</td>\n",
       "      <td>No</td>\n",
       "      <td>No</td>\n",
       "      <td>No</td>\n",
       "      <td>No</td>\n",
       "    </tr>\n",
       "  </tbody>\n",
       "</table>\n",
       "</div>"
      ],
      "text/plain": [
       "  chlorpropamide glimepiride acetohexamide glipizide glyburide tolbutamide  \\\n",
       "0             No          No            No        No        No          No   \n",
       "1             No          No            No        No        No          No   \n",
       "2             No          No            No    Steady        No          No   \n",
       "3             No          No            No        No        No          No   \n",
       "4             No          No            No    Steady        No          No   \n",
       "\n",
       "  pioglitazone rosiglitazone acarbose miglitol troglitazone tolazamide examide  \n",
       "0           No            No       No       No           No         No      No  \n",
       "1           No            No       No       No           No         No      No  \n",
       "2           No            No       No       No           No         No      No  \n",
       "3           No            No       No       No           No         No      No  \n",
       "4           No            No       No       No           No         No      No  "
      ]
     },
     "execution_count": 5,
     "metadata": {},
     "output_type": "execute_result"
    }
   ],
   "source": [
    "raw_data.loc[:, string_cols[14:27]].head()"
   ]
  },
  {
   "cell_type": "code",
   "execution_count": 6,
   "id": "089263ba",
   "metadata": {
    "execution": {
     "iopub.execute_input": "2025-07-03T19:44:46.739767Z",
     "iopub.status.busy": "2025-07-03T19:44:46.739685Z",
     "iopub.status.idle": "2025-07-03T19:44:46.746102Z",
     "shell.execute_reply": "2025-07-03T19:44:46.745901Z"
    },
    "papermill": {
     "duration": 0.009914,
     "end_time": "2025-07-03T19:44:46.746660",
     "exception": false,
     "start_time": "2025-07-03T19:44:46.736746",
     "status": "completed"
    },
    "tags": []
   },
   "outputs": [
    {
     "data": {
      "text/html": [
       "<div>\n",
       "<style scoped>\n",
       "    .dataframe tbody tr th:only-of-type {\n",
       "        vertical-align: middle;\n",
       "    }\n",
       "\n",
       "    .dataframe tbody tr th {\n",
       "        vertical-align: top;\n",
       "    }\n",
       "\n",
       "    .dataframe thead th {\n",
       "        text-align: right;\n",
       "    }\n",
       "</style>\n",
       "<table border=\"1\" class=\"dataframe\">\n",
       "  <thead>\n",
       "    <tr style=\"text-align: right;\">\n",
       "      <th></th>\n",
       "      <th>insulin</th>\n",
       "      <th>glyburide-metformin</th>\n",
       "      <th>glipizide-metformin</th>\n",
       "      <th>glimepiride-pioglitazone</th>\n",
       "      <th>metformin-rosiglitazone</th>\n",
       "      <th>metformin-pioglitazone</th>\n",
       "      <th>change</th>\n",
       "      <th>diabetesMed</th>\n",
       "      <th>readmitted</th>\n",
       "    </tr>\n",
       "  </thead>\n",
       "  <tbody>\n",
       "    <tr>\n",
       "      <th>0</th>\n",
       "      <td>No</td>\n",
       "      <td>No</td>\n",
       "      <td>No</td>\n",
       "      <td>No</td>\n",
       "      <td>No</td>\n",
       "      <td>No</td>\n",
       "      <td>No</td>\n",
       "      <td>No</td>\n",
       "      <td>NO</td>\n",
       "    </tr>\n",
       "    <tr>\n",
       "      <th>1</th>\n",
       "      <td>Up</td>\n",
       "      <td>No</td>\n",
       "      <td>No</td>\n",
       "      <td>No</td>\n",
       "      <td>No</td>\n",
       "      <td>No</td>\n",
       "      <td>Ch</td>\n",
       "      <td>Yes</td>\n",
       "      <td>&gt;30</td>\n",
       "    </tr>\n",
       "    <tr>\n",
       "      <th>2</th>\n",
       "      <td>No</td>\n",
       "      <td>No</td>\n",
       "      <td>No</td>\n",
       "      <td>No</td>\n",
       "      <td>No</td>\n",
       "      <td>No</td>\n",
       "      <td>No</td>\n",
       "      <td>Yes</td>\n",
       "      <td>NO</td>\n",
       "    </tr>\n",
       "    <tr>\n",
       "      <th>3</th>\n",
       "      <td>Up</td>\n",
       "      <td>No</td>\n",
       "      <td>No</td>\n",
       "      <td>No</td>\n",
       "      <td>No</td>\n",
       "      <td>No</td>\n",
       "      <td>Ch</td>\n",
       "      <td>Yes</td>\n",
       "      <td>NO</td>\n",
       "    </tr>\n",
       "    <tr>\n",
       "      <th>4</th>\n",
       "      <td>Steady</td>\n",
       "      <td>No</td>\n",
       "      <td>No</td>\n",
       "      <td>No</td>\n",
       "      <td>No</td>\n",
       "      <td>No</td>\n",
       "      <td>Ch</td>\n",
       "      <td>Yes</td>\n",
       "      <td>NO</td>\n",
       "    </tr>\n",
       "  </tbody>\n",
       "</table>\n",
       "</div>"
      ],
      "text/plain": [
       "  insulin glyburide-metformin glipizide-metformin glimepiride-pioglitazone  \\\n",
       "0      No                  No                  No                       No   \n",
       "1      Up                  No                  No                       No   \n",
       "2      No                  No                  No                       No   \n",
       "3      Up                  No                  No                       No   \n",
       "4  Steady                  No                  No                       No   \n",
       "\n",
       "  metformin-rosiglitazone metformin-pioglitazone change diabetesMed readmitted  \n",
       "0                      No                     No     No          No         NO  \n",
       "1                      No                     No     Ch         Yes        >30  \n",
       "2                      No                     No     No         Yes         NO  \n",
       "3                      No                     No     Ch         Yes         NO  \n",
       "4                      No                     No     Ch         Yes         NO  "
      ]
     },
     "execution_count": 6,
     "metadata": {},
     "output_type": "execute_result"
    }
   ],
   "source": [
    "raw_data.loc[:, string_cols[28:37]].head()"
   ]
  },
  {
   "cell_type": "code",
   "execution_count": 7,
   "id": "0365f8e9",
   "metadata": {
    "execution": {
     "iopub.execute_input": "2025-07-03T19:44:46.752359Z",
     "iopub.status.busy": "2025-07-03T19:44:46.752280Z",
     "iopub.status.idle": "2025-07-03T19:44:46.804751Z",
     "shell.execute_reply": "2025-07-03T19:44:46.804520Z"
    },
    "papermill": {
     "duration": 0.055981,
     "end_time": "2025-07-03T19:44:46.805358",
     "exception": false,
     "start_time": "2025-07-03T19:44:46.749377",
     "status": "completed"
    },
    "tags": []
   },
   "outputs": [
    {
     "data": {
      "text/html": [
       "<div>\n",
       "<style scoped>\n",
       "    .dataframe tbody tr th:only-of-type {\n",
       "        vertical-align: middle;\n",
       "    }\n",
       "\n",
       "    .dataframe tbody tr th {\n",
       "        vertical-align: top;\n",
       "    }\n",
       "\n",
       "    .dataframe thead th {\n",
       "        text-align: right;\n",
       "    }\n",
       "</style>\n",
       "<table border=\"1\" class=\"dataframe\">\n",
       "  <thead>\n",
       "    <tr style=\"text-align: right;\">\n",
       "      <th></th>\n",
       "      <th>race</th>\n",
       "      <th>gender</th>\n",
       "      <th>age</th>\n",
       "      <th>weight</th>\n",
       "      <th>payer_code</th>\n",
       "      <th>medical_specialty</th>\n",
       "      <th>diag_1</th>\n",
       "      <th>diag_2</th>\n",
       "      <th>diag_3</th>\n",
       "      <th>max_glu_serum</th>\n",
       "      <th>A1Cresult</th>\n",
       "      <th>metformin</th>\n",
       "      <th>repaglinide</th>\n",
       "    </tr>\n",
       "  </thead>\n",
       "  <tbody>\n",
       "    <tr>\n",
       "      <th>count</th>\n",
       "      <td>101766</td>\n",
       "      <td>101766</td>\n",
       "      <td>101766</td>\n",
       "      <td>101766</td>\n",
       "      <td>101766</td>\n",
       "      <td>101766</td>\n",
       "      <td>101766</td>\n",
       "      <td>101766</td>\n",
       "      <td>101766</td>\n",
       "      <td>5346</td>\n",
       "      <td>17018</td>\n",
       "      <td>101766</td>\n",
       "      <td>101766</td>\n",
       "    </tr>\n",
       "    <tr>\n",
       "      <th>unique</th>\n",
       "      <td>6</td>\n",
       "      <td>3</td>\n",
       "      <td>10</td>\n",
       "      <td>10</td>\n",
       "      <td>18</td>\n",
       "      <td>73</td>\n",
       "      <td>717</td>\n",
       "      <td>749</td>\n",
       "      <td>790</td>\n",
       "      <td>3</td>\n",
       "      <td>3</td>\n",
       "      <td>4</td>\n",
       "      <td>4</td>\n",
       "    </tr>\n",
       "    <tr>\n",
       "      <th>top</th>\n",
       "      <td>Caucasian</td>\n",
       "      <td>Female</td>\n",
       "      <td>[70-80)</td>\n",
       "      <td>?</td>\n",
       "      <td>?</td>\n",
       "      <td>?</td>\n",
       "      <td>428</td>\n",
       "      <td>276</td>\n",
       "      <td>250</td>\n",
       "      <td>Norm</td>\n",
       "      <td>&gt;8</td>\n",
       "      <td>No</td>\n",
       "      <td>No</td>\n",
       "    </tr>\n",
       "    <tr>\n",
       "      <th>freq</th>\n",
       "      <td>76099</td>\n",
       "      <td>54708</td>\n",
       "      <td>26068</td>\n",
       "      <td>98569</td>\n",
       "      <td>40256</td>\n",
       "      <td>49949</td>\n",
       "      <td>6862</td>\n",
       "      <td>6752</td>\n",
       "      <td>11555</td>\n",
       "      <td>2597</td>\n",
       "      <td>8216</td>\n",
       "      <td>81778</td>\n",
       "      <td>100227</td>\n",
       "    </tr>\n",
       "  </tbody>\n",
       "</table>\n",
       "</div>"
      ],
      "text/plain": [
       "             race  gender      age  weight payer_code medical_specialty  \\\n",
       "count      101766  101766   101766  101766     101766            101766   \n",
       "unique          6       3       10      10         18                73   \n",
       "top     Caucasian  Female  [70-80)       ?          ?                 ?   \n",
       "freq        76099   54708    26068   98569      40256             49949   \n",
       "\n",
       "        diag_1  diag_2  diag_3 max_glu_serum A1Cresult metformin repaglinide  \n",
       "count   101766  101766  101766          5346     17018    101766      101766  \n",
       "unique     717     749     790             3         3         4           4  \n",
       "top        428     276     250          Norm        >8        No          No  \n",
       "freq      6862    6752   11555          2597      8216     81778      100227  "
      ]
     },
     "execution_count": 7,
     "metadata": {},
     "output_type": "execute_result"
    }
   ],
   "source": [
    "raw_data.loc[:, string_cols[0:13]].describe()"
   ]
  },
  {
   "cell_type": "markdown",
   "id": "197f2b88",
   "metadata": {
    "papermill": {
     "duration": 0.002781,
     "end_time": "2025-07-03T19:44:46.810997",
     "exception": false,
     "start_time": "2025-07-03T19:44:46.808216",
     "status": "completed"
    },
    "tags": []
   },
   "source": [
    "Lets work these left to right. Starting with race:"
   ]
  },
  {
   "cell_type": "code",
   "execution_count": 8,
   "id": "72911088",
   "metadata": {
    "execution": {
     "iopub.execute_input": "2025-07-03T19:44:46.816922Z",
     "iopub.status.busy": "2025-07-03T19:44:46.816843Z",
     "iopub.status.idle": "2025-07-03T19:44:46.821013Z",
     "shell.execute_reply": "2025-07-03T19:44:46.820842Z"
    },
    "papermill": {
     "duration": 0.007707,
     "end_time": "2025-07-03T19:44:46.821561",
     "exception": false,
     "start_time": "2025-07-03T19:44:46.813854",
     "status": "completed"
    },
    "tags": []
   },
   "outputs": [
    {
     "data": {
      "text/plain": [
       "race\n",
       "Caucasian          76099\n",
       "AfricanAmerican    19210\n",
       "?                   2273\n",
       "Hispanic            2037\n",
       "Other               1506\n",
       "Asian                641\n",
       "Name: count, dtype: int64"
      ]
     },
     "execution_count": 8,
     "metadata": {},
     "output_type": "execute_result"
    }
   ],
   "source": [
    "raw_data['race'].value_counts()"
   ]
  },
  {
   "cell_type": "markdown",
   "id": "eabf8111",
   "metadata": {
    "papermill": {
     "duration": 0.002848,
     "end_time": "2025-07-03T19:44:46.837328",
     "exception": false,
     "start_time": "2025-07-03T19:44:46.834480",
     "status": "completed"
    },
    "tags": []
   },
   "source": [
    "This is OK; we'll probably overwrite the ? with NaN."
   ]
  },
  {
   "cell_type": "code",
   "execution_count": 9,
   "id": "ee4645a2",
   "metadata": {
    "execution": {
     "iopub.execute_input": "2025-07-03T19:44:46.843738Z",
     "iopub.status.busy": "2025-07-03T19:44:46.843636Z",
     "iopub.status.idle": "2025-07-03T19:44:46.848100Z",
     "shell.execute_reply": "2025-07-03T19:44:46.847932Z"
    },
    "papermill": {
     "duration": 0.008494,
     "end_time": "2025-07-03T19:44:46.848624",
     "exception": false,
     "start_time": "2025-07-03T19:44:46.840130",
     "status": "completed"
    },
    "tags": []
   },
   "outputs": [
    {
     "data": {
      "text/plain": [
       "gender\n",
       "Female             54708\n",
       "Male               47055\n",
       "Unknown/Invalid        3\n",
       "Name: count, dtype: int64"
      ]
     },
     "execution_count": 9,
     "metadata": {},
     "output_type": "execute_result"
    }
   ],
   "source": [
    "raw_data['gender'].value_counts()"
   ]
  },
  {
   "cell_type": "markdown",
   "id": "c9230351",
   "metadata": {
    "papermill": {
     "duration": 0.002821,
     "end_time": "2025-07-03T19:44:46.854346",
     "exception": false,
     "start_time": "2025-07-03T19:44:46.851525",
     "status": "completed"
    },
    "tags": []
   },
   "source": [
    "Unknown/invalid can become NaN"
   ]
  },
  {
   "cell_type": "code",
   "execution_count": 10,
   "id": "3cc6a029",
   "metadata": {
    "execution": {
     "iopub.execute_input": "2025-07-03T19:44:46.860373Z",
     "iopub.status.busy": "2025-07-03T19:44:46.860286Z",
     "iopub.status.idle": "2025-07-03T19:44:46.864602Z",
     "shell.execute_reply": "2025-07-03T19:44:46.864436Z"
    },
    "papermill": {
     "duration": 0.00799,
     "end_time": "2025-07-03T19:44:46.865146",
     "exception": false,
     "start_time": "2025-07-03T19:44:46.857156",
     "status": "completed"
    },
    "tags": []
   },
   "outputs": [
    {
     "data": {
      "text/plain": [
       "age\n",
       "[70-80)     26068\n",
       "[60-70)     22483\n",
       "[50-60)     17256\n",
       "[80-90)     17197\n",
       "[40-50)      9685\n",
       "[30-40)      3775\n",
       "[90-100)     2793\n",
       "[20-30)      1657\n",
       "[10-20)       691\n",
       "[0-10)        161\n",
       "Name: count, dtype: int64"
      ]
     },
     "execution_count": 10,
     "metadata": {},
     "output_type": "execute_result"
    }
   ],
   "source": [
    "raw_data['age'].value_counts()"
   ]
  },
  {
   "cell_type": "markdown",
   "id": "79228a4d",
   "metadata": {
    "papermill": {
     "duration": 0.002907,
     "end_time": "2025-07-03T19:44:46.870880",
     "exception": false,
     "start_time": "2025-07-03T19:44:46.867973",
     "status": "completed"
    },
    "tags": []
   },
   "source": [
    "Nothing missing; We may simplify this a little bit during cleanup."
   ]
  },
  {
   "cell_type": "code",
   "execution_count": 11,
   "id": "f9ba342e",
   "metadata": {
    "execution": {
     "iopub.execute_input": "2025-07-03T19:44:46.876944Z",
     "iopub.status.busy": "2025-07-03T19:44:46.876872Z",
     "iopub.status.idle": "2025-07-03T19:44:46.880284Z",
     "shell.execute_reply": "2025-07-03T19:44:46.880098Z"
    },
    "papermill": {
     "duration": 0.007069,
     "end_time": "2025-07-03T19:44:46.880831",
     "exception": false,
     "start_time": "2025-07-03T19:44:46.873762",
     "status": "completed"
    },
    "tags": []
   },
   "outputs": [
    {
     "data": {
      "text/plain": [
       "weight\n",
       "?            98569\n",
       "[75-100)      1336\n",
       "[50-75)        897\n",
       "[100-125)      625\n",
       "[125-150)      145\n",
       "[25-50)         97\n",
       "[0-25)          48\n",
       "[150-175)       35\n",
       "[175-200)       11\n",
       ">200             3\n",
       "Name: count, dtype: int64"
      ]
     },
     "execution_count": 11,
     "metadata": {},
     "output_type": "execute_result"
    }
   ],
   "source": [
    "raw_data['weight'].value_counts()"
   ]
  },
  {
   "cell_type": "markdown",
   "id": "7ae767d8",
   "metadata": {
    "papermill": {
     "duration": 0.002859,
     "end_time": "2025-07-03T19:44:46.886556",
     "exception": false,
     "start_time": "2025-07-03T19:44:46.883697",
     "status": "completed"
    },
    "tags": []
   },
   "source": [
    "Again, nothing missing (as NaN); We may simplify this a little bit during cleanup."
   ]
  },
  {
   "cell_type": "code",
   "execution_count": 12,
   "id": "224d1173",
   "metadata": {
    "execution": {
     "iopub.execute_input": "2025-07-03T19:44:46.892689Z",
     "iopub.status.busy": "2025-07-03T19:44:46.892621Z",
     "iopub.status.idle": "2025-07-03T19:44:46.898627Z",
     "shell.execute_reply": "2025-07-03T19:44:46.898467Z"
    },
    "papermill": {
     "duration": 0.009689,
     "end_time": "2025-07-03T19:44:46.899142",
     "exception": false,
     "start_time": "2025-07-03T19:44:46.889453",
     "status": "completed"
    },
    "tags": []
   },
   "outputs": [
    {
     "name": "stdout",
     "output_type": "stream",
     "text": [
      "<class 'pandas.core.series.Series'>\n",
      "RangeIndex: 101766 entries, 0 to 101765\n",
      "Series name: payer_code\n",
      "Non-Null Count   Dtype \n",
      "--------------   ----- \n",
      "101766 non-null  object\n",
      "dtypes: object(1)\n",
      "memory usage: 795.2+ KB\n"
     ]
    },
    {
     "data": {
      "text/plain": [
       "['?',\n",
       " 'BC',\n",
       " 'CH',\n",
       " 'CM',\n",
       " 'CP',\n",
       " 'DM',\n",
       " 'FR',\n",
       " 'HM',\n",
       " 'MC',\n",
       " 'MD',\n",
       " 'MP',\n",
       " 'OG',\n",
       " 'OT',\n",
       " 'PO',\n",
       " 'SI',\n",
       " 'SP',\n",
       " 'UN',\n",
       " 'WC']"
      ]
     },
     "execution_count": 12,
     "metadata": {},
     "output_type": "execute_result"
    }
   ],
   "source": [
    "raw_data['payer_code'].info()\n",
    "sorted(raw_data['payer_code'].unique())"
   ]
  },
  {
   "cell_type": "markdown",
   "id": "a4f18a63",
   "metadata": {
    "papermill": {
     "duration": 0.002952,
     "end_time": "2025-07-03T19:44:46.904999",
     "exception": false,
     "start_time": "2025-07-03T19:44:46.902047",
     "status": "completed"
    },
    "tags": []
   },
   "source": [
    "Nothing crazy; NA's will go into the '?'"
   ]
  },
  {
   "cell_type": "code",
   "execution_count": 13,
   "id": "779facc4",
   "metadata": {
    "execution": {
     "iopub.execute_input": "2025-07-03T19:44:46.911276Z",
     "iopub.status.busy": "2025-07-03T19:44:46.911200Z",
     "iopub.status.idle": "2025-07-03T19:44:46.917915Z",
     "shell.execute_reply": "2025-07-03T19:44:46.917722Z"
    },
    "papermill": {
     "duration": 0.010453,
     "end_time": "2025-07-03T19:44:46.918434",
     "exception": false,
     "start_time": "2025-07-03T19:44:46.907981",
     "status": "completed"
    },
    "tags": []
   },
   "outputs": [
    {
     "name": "stdout",
     "output_type": "stream",
     "text": [
      "<class 'pandas.core.series.Series'>\n",
      "RangeIndex: 101766 entries, 0 to 101765\n",
      "Series name: medical_specialty\n",
      "Non-Null Count   Dtype \n",
      "--------------   ----- \n",
      "101766 non-null  object\n",
      "dtypes: object(1)\n",
      "memory usage: 795.2+ KB\n"
     ]
    },
    {
     "data": {
      "text/plain": [
       "['?',\n",
       " 'AllergyandImmunology',\n",
       " 'Anesthesiology',\n",
       " 'Anesthesiology-Pediatric',\n",
       " 'Cardiology',\n",
       " 'Cardiology-Pediatric',\n",
       " 'DCPTEAM',\n",
       " 'Dentistry',\n",
       " 'Dermatology',\n",
       " 'Emergency/Trauma',\n",
       " 'Endocrinology',\n",
       " 'Endocrinology-Metabolism',\n",
       " 'Family/GeneralPractice',\n",
       " 'Gastroenterology',\n",
       " 'Gynecology',\n",
       " 'Hematology',\n",
       " 'Hematology/Oncology',\n",
       " 'Hospitalist',\n",
       " 'InfectiousDiseases',\n",
       " 'InternalMedicine',\n",
       " 'Nephrology',\n",
       " 'Neurology',\n",
       " 'Neurophysiology',\n",
       " 'Obsterics&Gynecology-GynecologicOnco',\n",
       " 'Obstetrics',\n",
       " 'ObstetricsandGynecology',\n",
       " 'Oncology',\n",
       " 'Ophthalmology',\n",
       " 'Orthopedics',\n",
       " 'Orthopedics-Reconstructive',\n",
       " 'Osteopath',\n",
       " 'Otolaryngology',\n",
       " 'OutreachServices',\n",
       " 'Pathology',\n",
       " 'Pediatrics',\n",
       " 'Pediatrics-AllergyandImmunology',\n",
       " 'Pediatrics-CriticalCare',\n",
       " 'Pediatrics-EmergencyMedicine',\n",
       " 'Pediatrics-Endocrinology',\n",
       " 'Pediatrics-Hematology-Oncology',\n",
       " 'Pediatrics-InfectiousDiseases',\n",
       " 'Pediatrics-Neurology',\n",
       " 'Pediatrics-Pulmonology',\n",
       " 'Perinatology',\n",
       " 'PhysicalMedicineandRehabilitation',\n",
       " 'PhysicianNotFound',\n",
       " 'Podiatry',\n",
       " 'Proctology',\n",
       " 'Psychiatry',\n",
       " 'Psychiatry-Addictive',\n",
       " 'Psychiatry-Child/Adolescent',\n",
       " 'Psychology',\n",
       " 'Pulmonology',\n",
       " 'Radiologist',\n",
       " 'Radiology',\n",
       " 'Resident',\n",
       " 'Rheumatology',\n",
       " 'Speech',\n",
       " 'SportsMedicine',\n",
       " 'Surgeon',\n",
       " 'Surgery-Cardiovascular',\n",
       " 'Surgery-Cardiovascular/Thoracic',\n",
       " 'Surgery-Colon&Rectal',\n",
       " 'Surgery-General',\n",
       " 'Surgery-Maxillofacial',\n",
       " 'Surgery-Neuro',\n",
       " 'Surgery-Pediatric',\n",
       " 'Surgery-Plastic',\n",
       " 'Surgery-PlasticwithinHeadandNeck',\n",
       " 'Surgery-Thoracic',\n",
       " 'Surgery-Vascular',\n",
       " 'SurgicalSpecialty',\n",
       " 'Urology']"
      ]
     },
     "execution_count": 13,
     "metadata": {},
     "output_type": "execute_result"
    }
   ],
   "source": [
    "raw_data['medical_specialty'].info()\n",
    "sorted(raw_data['medical_specialty'].unique())"
   ]
  },
  {
   "cell_type": "markdown",
   "id": "67f8ba6a",
   "metadata": {
    "papermill": {
     "duration": 0.003068,
     "end_time": "2025-07-03T19:44:46.924535",
     "exception": false,
     "start_time": "2025-07-03T19:44:46.921467",
     "status": "completed"
    },
    "tags": []
   },
   "source": [
    "This one will take a little more manual tweaking. There's specialties and subspecialties (and sub-sub-specialties); Questions arise (is Cardiology-Pediatric meaningfully different than Pediatric-Cardiology?)."
   ]
  },
  {
   "cell_type": "markdown",
   "id": "2112854f",
   "metadata": {
    "papermill": {
     "duration": 0.003083,
     "end_time": "2025-07-03T19:44:46.930659",
     "exception": false,
     "start_time": "2025-07-03T19:44:46.927576",
     "status": "completed"
    },
    "tags": []
   },
   "source": [
    "## 3. Diagnosis Code Analysis and Validation\n",
    "- Explore diag_1, diag_2, diag_3 using regex\n",
    "- Check format consistency (ICD-9 compliance)\n",
    "- Identify malformed and abbreviated codes"
   ]
  },
  {
   "cell_type": "markdown",
   "id": "a966deab",
   "metadata": {
    "papermill": {
     "duration": 0.002987,
     "end_time": "2025-07-03T19:44:46.936613",
     "exception": false,
     "start_time": "2025-07-03T19:44:46.933626",
     "status": "completed"
    },
    "tags": []
   },
   "source": [
    "Now let's look at our diag_N fields. From our variable dictionary we know that the diag_N are primary, secondary, and tertiary diagnoses from the ICD9 (International Classification of Diseases). We're told there are missing values; let's see how they might be coded. ICD9 codes are numeric, with some having 'E' and 'V' preceding. We can use a regex to toss anything that conforms to that, and then see what's left."
   ]
  },
  {
   "cell_type": "code",
   "execution_count": 14,
   "id": "8c149a90",
   "metadata": {
    "execution": {
     "iopub.execute_input": "2025-07-03T19:44:46.942924Z",
     "iopub.status.busy": "2025-07-03T19:44:46.942856Z",
     "iopub.status.idle": "2025-07-03T19:44:46.982837Z",
     "shell.execute_reply": "2025-07-03T19:44:46.982611Z"
    },
    "papermill": {
     "duration": 0.043817,
     "end_time": "2025-07-03T19:44:46.983402",
     "exception": false,
     "start_time": "2025-07-03T19:44:46.939585",
     "status": "completed"
    },
    "tags": []
   },
   "outputs": [
    {
     "name": "stdout",
     "output_type": "stream",
     "text": [
      "90576\n",
      "92394\n",
      "91970\n",
      "305298\n"
     ]
    }
   ],
   "source": [
    "print(raw_data['diag_1'].str.contains(r'^\\d{3}$|^[EV]\\d{2}$', na=False).sum())\n",
    "print(raw_data['diag_2'].str.contains(r'^\\d{3}$|^[EV]\\d{2}$', na=False).sum())\n",
    "print(raw_data['diag_3'].str.contains(r'^\\d{3}$|^[EV]\\d{2}$', na=False).sum())\n",
    "\n",
    "all_codes = pd.concat([raw_data['diag_1'], raw_data['diag_2'], raw_data['diag_3']], ignore_index=True)\n",
    "print(all_codes.__len__())"
   ]
  },
  {
   "cell_type": "code",
   "execution_count": 15,
   "id": "412d6194",
   "metadata": {
    "execution": {
     "iopub.execute_input": "2025-07-03T19:44:46.989917Z",
     "iopub.status.busy": "2025-07-03T19:44:46.989840Z",
     "iopub.status.idle": "2025-07-03T19:44:47.030709Z",
     "shell.execute_reply": "2025-07-03T19:44:47.030530Z"
    },
    "papermill": {
     "duration": 0.044767,
     "end_time": "2025-07-03T19:44:47.031290",
     "exception": false,
     "start_time": "2025-07-03T19:44:46.986523",
     "status": "completed"
    },
    "tags": []
   },
   "outputs": [
    {
     "data": {
      "text/plain": [
       "250.02    4118\n",
       "250.6     3158\n",
       "250.01    2499\n",
       "38        2325\n",
       "250.8     2201\n",
       "?         1802\n",
       "250.7     1142\n",
       "41        1114\n",
       "250.13     967\n",
       "8          904\n",
       "250.4      866\n",
       "250.11     722\n",
       "250.82     702\n",
       "70         600\n",
       "250.03     568\n",
       "250.12     552\n",
       "250.41     518\n",
       "250.92     402\n",
       "250.1      350\n",
       "250.81     330\n",
       "250.42     323\n",
       "E878       277\n",
       "E849       273\n",
       "E888       240\n",
       "E885       229\n",
       "Name: count, dtype: int64"
      ]
     },
     "execution_count": 15,
     "metadata": {},
     "output_type": "execute_result"
    }
   ],
   "source": [
    "## Now to see what non-conformers might be in here.\n",
    "all_codes[~all_codes.str.contains(r'^\\d{3}$|^[EV]\\d{2}$')].value_counts().head(25)"
   ]
  },
  {
   "cell_type": "markdown",
   "id": "bfbc9a72",
   "metadata": {
    "papermill": {
     "duration": 0.003093,
     "end_time": "2025-07-03T19:44:47.037447",
     "exception": false,
     "start_time": "2025-07-03T19:44:47.034354",
     "status": "completed"
    },
    "tags": []
   },
   "source": [
    "So they aren't all exactly three numbers; that's OK. The xxx.nn formatting is more detail than the dataset promised to deliver. Let's see what we get for one- and two-digit numbers, ignoring V and E for now:"
   ]
  },
  {
   "cell_type": "code",
   "execution_count": 16,
   "id": "35e918bc",
   "metadata": {
    "execution": {
     "iopub.execute_input": "2025-07-03T19:44:47.043886Z",
     "iopub.status.busy": "2025-07-03T19:44:47.043816Z",
     "iopub.status.idle": "2025-07-03T19:44:47.080204Z",
     "shell.execute_reply": "2025-07-03T19:44:47.080017Z"
    },
    "papermill": {
     "duration": 0.040301,
     "end_time": "2025-07-03T19:44:47.080789",
     "exception": false,
     "start_time": "2025-07-03T19:44:47.040488",
     "status": "completed"
    },
    "tags": []
   },
   "outputs": [
    {
     "data": {
      "text/plain": [
       "38    2325\n",
       "41    1114\n",
       "8      904\n",
       "70     600\n",
       "79     161\n",
       "42     153\n",
       "53     112\n",
       "9       58\n",
       "94      54\n",
       "54      36\n",
       "47      27\n",
       "34      23\n",
       "11      15\n",
       "3       15\n",
       "35      15\n",
       "78      14\n",
       "5       13\n",
       "40      12\n",
       "88      12\n",
       "66       8\n",
       "82       7\n",
       "31       7\n",
       "49       6\n",
       "27       6\n",
       "75       5\n",
       "7        5\n",
       "52       3\n",
       "58       2\n",
       "23       2\n",
       "36       2\n",
       "57       2\n",
       "48       2\n",
       "39       2\n",
       "97       1\n",
       "98       1\n",
       "84       1\n",
       "61       1\n",
       "10       1\n",
       "46       1\n",
       "96       1\n",
       "99       1\n",
       "17       1\n",
       "14       1\n",
       "Name: count, dtype: int64"
      ]
     },
     "execution_count": 16,
     "metadata": {},
     "output_type": "execute_result"
    }
   ],
   "source": [
    "all_codes = pd.concat([raw_data['diag_1'], raw_data['diag_2'], raw_data['diag_3']], ignore_index=True)\n",
    "all_codes[all_codes.str.contains(r'^\\d{1,2}$', na=False)].value_counts()"
   ]
  },
  {
   "cell_type": "markdown",
   "id": "d05b3e87",
   "metadata": {
    "papermill": {
     "duration": 0.003185,
     "end_time": "2025-07-03T19:44:47.087204",
     "exception": false,
     "start_time": "2025-07-03T19:44:47.084019",
     "status": "completed"
    },
    "tags": []
   },
   "source": [
    "It's reasonable to assume that one- and two-digit numbers without V or E codes should be 00N or 0NN, not NN; we'll note to make that change for the sake of completeness/coherence; depending on how we choose to handle these codes, it may not matter (if we convert them all to numerics eventually, for example - but we don't know exactly how we want to handle that at this stage). V codes are *only* two digits behind the V. Let's make sure that's the case:"
   ]
  },
  {
   "cell_type": "code",
   "execution_count": 17,
   "id": "48776f64",
   "metadata": {
    "execution": {
     "iopub.execute_input": "2025-07-03T19:44:47.093889Z",
     "iopub.status.busy": "2025-07-03T19:44:47.093822Z",
     "iopub.status.idle": "2025-07-03T19:44:47.153984Z",
     "shell.execute_reply": "2025-07-03T19:44:47.153776Z"
    },
    "papermill": {
     "duration": 0.064193,
     "end_time": "2025-07-03T19:44:47.154570",
     "exception": false,
     "start_time": "2025-07-03T19:44:47.090377",
     "status": "completed"
    },
    "tags": []
   },
   "outputs": [
    {
     "name": "stdout",
     "output_type": "stream",
     "text": [
      "<class 'pandas.core.series.Series'>\n",
      "Index: 1976 entries, 73324 to 305239\n",
      "Series name: None\n",
      "Non-Null Count  Dtype \n",
      "--------------  ----- \n",
      "1976 non-null   object\n",
      "dtypes: object(1)\n",
      "memory usage: 30.9+ KB\n",
      "\n",
      "\n",
      "<class 'pandas.core.series.Series'>\n",
      "Index: 7263 entries, 23 to 305215\n",
      "Series name: None\n",
      "Non-Null Count  Dtype \n",
      "--------------  ----- \n",
      "7263 non-null   object\n",
      "dtypes: object(1)\n",
      "memory usage: 113.5+ KB\n"
     ]
    }
   ],
   "source": [
    "all_e_codes = all_codes[all_codes.str.contains(r'^E\\d+', na=False)]\n",
    "all_v_codes = all_codes[all_codes.str.contains(r'^V\\d+', na=False)]\n",
    "all_e_codes.info()\n",
    "print(\"\\n\")\n",
    "all_v_codes.info()"
   ]
  },
  {
   "cell_type": "code",
   "execution_count": 18,
   "id": "39f73120",
   "metadata": {
    "execution": {
     "iopub.execute_input": "2025-07-03T19:44:47.161536Z",
     "iopub.status.busy": "2025-07-03T19:44:47.161457Z",
     "iopub.status.idle": "2025-07-03T19:44:47.163110Z",
     "shell.execute_reply": "2025-07-03T19:44:47.162933Z"
    },
    "papermill": {
     "duration": 0.005675,
     "end_time": "2025-07-03T19:44:47.163646",
     "exception": false,
     "start_time": "2025-07-03T19:44:47.157971",
     "status": "completed"
    },
    "tags": []
   },
   "outputs": [
    {
     "name": "stdout",
     "output_type": "stream",
     "text": [
      "['E909' 'E878' 'E812' 'E932' 'E888' 'E939' 'E937' 'E944' 'E870' 'E849'\n",
      " 'E950' 'E934' 'E935' 'E915' 'E885' 'E880' 'E879' 'E890' 'E817' 'E931'\n",
      " 'E924' 'E942' 'E947' 'E930' 'E858' 'E929' 'E933' 'E900' 'E936' 'E941'\n",
      " 'E884' 'E928' 'E965' 'E813' 'E814' 'E927' 'E905' 'E917' 'E868' 'E854'\n",
      " 'E918' 'E850' 'E887' 'E881' 'E829' 'E919' 'E916' 'E819' 'E826' 'E938'\n",
      " 'E816' 'E906' 'E818' 'E980' 'E853' 'E968' 'E882' 'E821' 'E945' 'E883'\n",
      " 'E949' 'E920' 'E956' 'E904' 'E943' 'E861' 'E852' 'E876' 'E855' 'E815'\n",
      " 'E822' 'E894' 'E828' 'E865' 'E946' 'E966' 'E922' 'E901' 'E892' 'E886'\n",
      " 'E987' 'E912' 'E955' 'E864' 'E825']\n"
     ]
    }
   ],
   "source": [
    "print(all_e_codes.unique())"
   ]
  },
  {
   "cell_type": "markdown",
   "id": "dc280552",
   "metadata": {
    "papermill": {
     "duration": 0.00328,
     "end_time": "2025-07-03T19:44:47.170151",
     "exception": false,
     "start_time": "2025-07-03T19:44:47.166871",
     "status": "completed"
    },
    "tags": []
   },
   "source": [
    "Good! Let's look at the V codes now. These should all be three digits (leading zero), and might have a period with additional decimals behind it."
   ]
  },
  {
   "cell_type": "code",
   "execution_count": 19,
   "id": "57dec366",
   "metadata": {
    "execution": {
     "iopub.execute_input": "2025-07-03T19:44:47.177305Z",
     "iopub.status.busy": "2025-07-03T19:44:47.177224Z",
     "iopub.status.idle": "2025-07-03T19:44:47.178930Z",
     "shell.execute_reply": "2025-07-03T19:44:47.178725Z"
    },
    "papermill": {
     "duration": 0.005979,
     "end_time": "2025-07-03T19:44:47.179489",
     "exception": false,
     "start_time": "2025-07-03T19:44:47.173510",
     "status": "completed"
    },
    "tags": []
   },
   "outputs": [
    {
     "name": "stdout",
     "output_type": "stream",
     "text": [
      "['V57' 'V58' 'V55' 'V53' 'V45' 'V66' 'V56' 'V26' 'V71' 'V54' 'V67' 'V60'\n",
      " 'V43' 'V63' 'V25' 'V70' 'V07' 'V51' 'V15' 'V10' 'V42' 'V44' 'V65' 'V12'\n",
      " 'V23' 'V17' 'V72' 'V49' 'V18' 'V14' 'V46' 'V64' 'V61' 'V08' 'V62' 'V09'\n",
      " 'V11' 'V16' 'V13' 'V85' 'V02' 'V50' 'V03' 'V69' 'V86' 'V27' 'V22' 'V01'\n",
      " 'V06']\n"
     ]
    }
   ],
   "source": [
    "print(all_v_codes.unique())\n",
    "# Did not end up needing, but another way to do it:\n",
    "# malformed_v = all_codes[all_codes.str.contains(r'^V\\d{1}$|^V\\d{3,}$', na=False)]\n",
    "# malformed_v.info()"
   ]
  },
  {
   "cell_type": "markdown",
   "id": "04807548",
   "metadata": {
    "papermill": {
     "duration": 0.003216,
     "end_time": "2025-07-03T19:44:47.185978",
     "exception": false,
     "start_time": "2025-07-03T19:44:47.182762",
     "status": "completed"
    },
    "tags": []
   },
   "source": [
    "Also good. Moving on."
   ]
  },
  {
   "cell_type": "markdown",
   "id": "f589ab0a",
   "metadata": {
    "papermill": {
     "duration": 0.0033,
     "end_time": "2025-07-03T19:44:47.192538",
     "exception": false,
     "start_time": "2025-07-03T19:44:47.189238",
     "status": "completed"
    },
    "tags": []
   },
   "source": [
    "## 4. Inspection of Glucose and A1C Test Fields\n",
    "- Analyze levels and distribution for `max_glu_serum` and `A1Cresult`"
   ]
  },
  {
   "cell_type": "code",
   "execution_count": 20,
   "id": "808fd2ec",
   "metadata": {
    "execution": {
     "iopub.execute_input": "2025-07-03T19:44:47.199455Z",
     "iopub.status.busy": "2025-07-03T19:44:47.199383Z",
     "iopub.status.idle": "2025-07-03T19:44:47.203448Z",
     "shell.execute_reply": "2025-07-03T19:44:47.203291Z"
    },
    "papermill": {
     "duration": 0.008086,
     "end_time": "2025-07-03T19:44:47.203985",
     "exception": false,
     "start_time": "2025-07-03T19:44:47.195899",
     "status": "completed"
    },
    "tags": []
   },
   "outputs": [
    {
     "name": "stdout",
     "output_type": "stream",
     "text": [
      "133    >300\n",
      "135    >300\n",
      "142    Norm\n",
      "144    Norm\n",
      "153    Norm\n",
      "Name: max_glu_serum, dtype: object\n"
     ]
    },
    {
     "data": {
      "text/plain": [
       "max_glu_serum\n",
       "Norm    2597\n",
       ">200    1485\n",
       ">300    1264\n",
       "Name: count, dtype: int64"
      ]
     },
     "execution_count": 20,
     "metadata": {},
     "output_type": "execute_result"
    }
   ],
   "source": [
    "print(raw_data['max_glu_serum'].dropna().head())\n",
    "raw_data['max_glu_serum'].value_counts()"
   ]
  },
  {
   "cell_type": "code",
   "execution_count": 21,
   "id": "db625f4d",
   "metadata": {
    "execution": {
     "iopub.execute_input": "2025-07-03T19:44:47.210794Z",
     "iopub.status.busy": "2025-07-03T19:44:47.210722Z",
     "iopub.status.idle": "2025-07-03T19:44:47.215335Z",
     "shell.execute_reply": "2025-07-03T19:44:47.215162Z"
    },
    "papermill": {
     "duration": 0.008697,
     "end_time": "2025-07-03T19:44:47.215853",
     "exception": false,
     "start_time": "2025-07-03T19:44:47.207156",
     "status": "completed"
    },
    "tags": []
   },
   "outputs": [
    {
     "name": "stdout",
     "output_type": "stream",
     "text": [
      "26       >7\n",
      "74       >7\n",
      "98       >8\n",
      "103    Norm\n",
      "107    Norm\n",
      "Name: A1Cresult, dtype: object\n"
     ]
    },
    {
     "data": {
      "text/plain": [
       "A1Cresult\n",
       ">8      8216\n",
       "Norm    4990\n",
       ">7      3812\n",
       "Name: count, dtype: int64"
      ]
     },
     "execution_count": 21,
     "metadata": {},
     "output_type": "execute_result"
    }
   ],
   "source": [
    "print(raw_data['A1Cresult'].dropna().head())\n",
    "raw_data['A1Cresult'].value_counts()"
   ]
  },
  {
   "cell_type": "markdown",
   "id": "37d60c9c",
   "metadata": {
    "papermill": {
     "duration": 0.003315,
     "end_time": "2025-07-03T19:44:47.222464",
     "exception": false,
     "start_time": "2025-07-03T19:44:47.219149",
     "status": "completed"
    },
    "tags": []
   },
   "source": [
    "So for these two, we have a lot of NA's, then three levels (normal, high, real high). The NA's (we're told) indicates that the testing was not performed (possibly a significant item for our model?).\n",
    "\n",
    "The next round of string columns cover a whole lot of drugs & drug combinations."
   ]
  },
  {
   "cell_type": "markdown",
   "id": "caf68653",
   "metadata": {
    "papermill": {
     "duration": 0.003262,
     "end_time": "2025-07-03T19:44:47.229164",
     "exception": false,
     "start_time": "2025-07-03T19:44:47.225902",
     "status": "completed"
    },
    "tags": []
   },
   "source": [
    "## 5. Drug Treatment Columns Summary\n",
    "- Validate consistency across 23 drug-related columns\n",
    "- Confirm value ranges (No, Steady, Up, Down)"
   ]
  },
  {
   "cell_type": "code",
   "execution_count": 22,
   "id": "69385b05",
   "metadata": {
    "execution": {
     "iopub.execute_input": "2025-07-03T19:44:47.236105Z",
     "iopub.status.busy": "2025-07-03T19:44:47.236029Z",
     "iopub.status.idle": "2025-07-03T19:44:47.366625Z",
     "shell.execute_reply": "2025-07-03T19:44:47.366414Z"
    },
    "papermill": {
     "duration": 0.134744,
     "end_time": "2025-07-03T19:44:47.367220",
     "exception": false,
     "start_time": "2025-07-03T19:44:47.232476",
     "status": "completed"
    },
    "tags": []
   },
   "outputs": [
    {
     "name": "stdout",
     "output_type": "stream",
     "text": [
      "metformin                   0\n",
      "repaglinide                 0\n",
      "nateglinide                 0\n",
      "chlorpropamide              0\n",
      "glimepiride                 0\n",
      "acetohexamide               0\n",
      "glipizide                   0\n",
      "glyburide                   0\n",
      "tolbutamide                 0\n",
      "pioglitazone                0\n",
      "rosiglitazone               0\n",
      "acarbose                    0\n",
      "miglitol                    0\n",
      "troglitazone                0\n",
      "tolazamide                  0\n",
      "examide                     0\n",
      "citoglipton                 0\n",
      "insulin                     0\n",
      "glyburide-metformin         0\n",
      "glipizide-metformin         0\n",
      "glimepiride-pioglitazone    0\n",
      "metformin-rosiglitazone     0\n",
      "metformin-pioglitazone      0\n",
      "dtype: int64\n"
     ]
    },
    {
     "data": {
      "text/plain": [
       "No        2220564\n",
       "Steady      90802\n",
       "Up          14865\n",
       "Down        14387\n",
       "Name: count, dtype: int64"
      ]
     },
     "execution_count": 22,
     "metadata": {},
     "output_type": "execute_result"
    }
   ],
   "source": [
    "drug_cols = raw_data[['metformin','repaglinide', 'nateglinide', 'chlorpropamide', 'glimepiride',\n",
    "                      'acetohexamide', 'glipizide', 'glyburide', 'tolbutamide', 'pioglitazone',\n",
    "                      'rosiglitazone', 'acarbose', 'miglitol', 'troglitazone', 'tolazamide',\n",
    "                      'examide', 'citoglipton', 'insulin', 'glyburide-metformin', 'glipizide-metformin',\n",
    "                      'glimepiride-pioglitazone', 'metformin-rosiglitazone', 'metformin-pioglitazone']]\n",
    "print(drug_cols.isna().sum())\n",
    "drug_cols.stack().value_counts()"
   ]
  },
  {
   "cell_type": "markdown",
   "id": "a343676a",
   "metadata": {
    "papermill": {
     "duration": 0.003418,
     "end_time": "2025-07-03T19:44:47.374181",
     "exception": false,
     "start_time": "2025-07-03T19:44:47.370763",
     "status": "completed"
    },
    "tags": []
   },
   "source": [
    "Excellent - all values present and none malformed to have to clean. All drug columns are \"No\", \"Steady\", \"Up\", or \"Down\"."
   ]
  },
  {
   "cell_type": "markdown",
   "id": "dabd2517",
   "metadata": {
    "papermill": {
     "duration": 0.003606,
     "end_time": "2025-07-03T19:44:47.381400",
     "exception": false,
     "start_time": "2025-07-03T19:44:47.377794",
     "status": "completed"
    },
    "tags": []
   },
   "source": [
    "## 6. Key Binary Flags: Change, DiabetesMed, Readmitted\n",
    "- Map values to logical/boolean or ordinal encodings"
   ]
  },
  {
   "cell_type": "code",
   "execution_count": 23,
   "id": "8e9bc29d",
   "metadata": {
    "execution": {
     "iopub.execute_input": "2025-07-03T19:44:47.388683Z",
     "iopub.status.busy": "2025-07-03T19:44:47.388592Z",
     "iopub.status.idle": "2025-07-03T19:44:47.397913Z",
     "shell.execute_reply": "2025-07-03T19:44:47.397727Z"
    },
    "papermill": {
     "duration": 0.013634,
     "end_time": "2025-07-03T19:44:47.398464",
     "exception": false,
     "start_time": "2025-07-03T19:44:47.384830",
     "status": "completed"
    },
    "tags": []
   },
   "outputs": [
    {
     "name": "stdout",
     "output_type": "stream",
     "text": [
      "0\n",
      "change\n",
      "No    54755\n",
      "Ch    47011\n",
      "Name: count, dtype: int64\n",
      "\n",
      "\n",
      "0\n",
      "diabetesMed\n",
      "Yes    78363\n",
      "No     23403\n",
      "Name: count, dtype: int64\n"
     ]
    }
   ],
   "source": [
    "print(raw_data['change'].isna().sum())\n",
    "print(raw_data['change'].value_counts())\n",
    "print(\"\\n\")\n",
    "print(raw_data['diabetesMed'].isna().sum())\n",
    "print(raw_data['diabetesMed'].value_counts())"
   ]
  },
  {
   "cell_type": "markdown",
   "id": "4ec72801",
   "metadata": {
    "papermill": {
     "duration": 0.003398,
     "end_time": "2025-07-03T19:44:47.405268",
     "exception": false,
     "start_time": "2025-07-03T19:44:47.401870",
     "status": "completed"
    },
    "tags": []
   },
   "source": [
    "These look good to go; onto the last, and possibly most important string column - readmitted is what we're trying to build a model to predict. "
   ]
  },
  {
   "cell_type": "code",
   "execution_count": 24,
   "id": "978f310a",
   "metadata": {
    "execution": {
     "iopub.execute_input": "2025-07-03T19:44:47.412419Z",
     "iopub.status.busy": "2025-07-03T19:44:47.412344Z",
     "iopub.status.idle": "2025-07-03T19:44:47.417632Z",
     "shell.execute_reply": "2025-07-03T19:44:47.417465Z"
    },
    "papermill": {
     "duration": 0.009496,
     "end_time": "2025-07-03T19:44:47.418151",
     "exception": false,
     "start_time": "2025-07-03T19:44:47.408655",
     "status": "completed"
    },
    "tags": []
   },
   "outputs": [
    {
     "name": "stdout",
     "output_type": "stream",
     "text": [
      "0\n",
      "readmitted\n",
      "NO     54864\n",
      ">30    35545\n",
      "<30    11357\n",
      "Name: count, dtype: int64\n"
     ]
    }
   ],
   "source": [
    "print(raw_data['readmitted'].isna().sum())\n",
    "print(raw_data['readmitted'].value_counts())"
   ]
  },
  {
   "cell_type": "markdown",
   "id": "315c3b58",
   "metadata": {
    "papermill": {
     "duration": 0.003417,
     "end_time": "2025-07-03T19:44:47.424925",
     "exception": false,
     "start_time": "2025-07-03T19:44:47.421508",
     "status": "completed"
    },
    "tags": []
   },
   "source": [
    "We will map these to numeric values."
   ]
  },
  {
   "cell_type": "markdown",
   "id": "dbdc1c66",
   "metadata": {
    "papermill": {
     "duration": 0.003508,
     "end_time": "2025-07-03T19:44:47.431885",
     "exception": false,
     "start_time": "2025-07-03T19:44:47.428377",
     "status": "completed"
    },
    "tags": []
   },
   "source": [
    "## 7. Categorical Cleanup and Normalization\n",
    "- Replace `?` and invalid values with `NaN`\n",
    "- Convert age and weight from ranges to numeric\n",
    "- Map binary and ordinal strings to integers/booleans"
   ]
  },
  {
   "cell_type": "code",
   "execution_count": 25,
   "id": "12a53c31",
   "metadata": {
    "execution": {
     "iopub.execute_input": "2025-07-03T19:44:47.439203Z",
     "iopub.status.busy": "2025-07-03T19:44:47.439133Z",
     "iopub.status.idle": "2025-07-03T19:44:47.673622Z",
     "shell.execute_reply": "2025-07-03T19:44:47.673321Z"
    },
    "papermill": {
     "duration": 0.238941,
     "end_time": "2025-07-03T19:44:47.674302",
     "exception": false,
     "start_time": "2025-07-03T19:44:47.435361",
     "status": "completed"
    },
    "tags": []
   },
   "outputs": [],
   "source": [
    "## Fresh new dataframe, leaving raw_data unmolested\n",
    "clean_data = raw_data.copy() \n",
    "\n",
    "# Direct replacement of just those values in our string columns.\n",
    "clean_data[string_cols] = clean_data[string_cols].replace('?', np.nan) \n",
    "\n",
    "# Replacement of \"Unknown/Invalid\" in gender to be NA\n",
    "clean_data['gender'] = clean_data['gender'].replace('Unknown/Invalid', np.nan) \n",
    "\n",
    "# one-shot regex replacement with the max value for the bucket\n",
    "clean_data['age'] = clean_data['age'].str.replace(r'\\[(\\d+)-(\\d+)\\)', r'\\2', regex=True).astype(int) \n",
    "\n",
    "# For weight, we want to keep the '>200', so its slightly different regex than for age.\n",
    "clean_data['weight'] = clean_data['weight'].str.replace(r'^\\[(\\d+)-(\\d+)\\)', r'\\2', regex=True)\n",
    "# Remap these strings to bools\n",
    "clean_data['change'] = clean_data['change'].map({'No': False, 'Ch': True}) \n",
    "clean_data['diabetesMed'] = clean_data['diabetesMed'].map({'No': False, 'Yes': True})\n",
    "\n",
    "# Remap readmitted to numerics. \n",
    "clean_data['readmitted'] = clean_data['readmitted'].map({'NO': -1, '>30': 0, '<30': 1})"
   ]
  },
  {
   "cell_type": "markdown",
   "id": "8b2e602c",
   "metadata": {
    "papermill": {
     "duration": 0.00361,
     "end_time": "2025-07-03T19:44:47.681466",
     "exception": false,
     "start_time": "2025-07-03T19:44:47.677856",
     "status": "completed"
    },
    "tags": []
   },
   "source": [
    "## 8. Diagnosis Code Normalization (Final Pass)\n",
    "- Pad short numeric codes\n",
    "- Remove periods\n",
    "- Validate post-cleaning format"
   ]
  },
  {
   "cell_type": "code",
   "execution_count": 26,
   "id": "18c9ece8",
   "metadata": {
    "execution": {
     "iopub.execute_input": "2025-07-03T19:44:47.688846Z",
     "iopub.status.busy": "2025-07-03T19:44:47.688761Z",
     "iopub.status.idle": "2025-07-03T19:44:47.986201Z",
     "shell.execute_reply": "2025-07-03T19:44:47.985973Z"
    },
    "papermill": {
     "duration": 0.301903,
     "end_time": "2025-07-03T19:44:47.986829",
     "exception": false,
     "start_time": "2025-07-03T19:44:47.684926",
     "status": "completed"
    },
    "tags": []
   },
   "outputs": [
    {
     "data": {
      "text/plain": [
       "diag_1    0\n",
       "diag_2    0\n",
       "diag_3    0\n",
       "dtype: int64"
      ]
     },
     "execution_count": 26,
     "metadata": {},
     "output_type": "execute_result"
    }
   ],
   "source": [
    "diag_cols = ['diag_1', 'diag_2', 'diag_3']\n",
    "\n",
    "# Append leading zeros to the single- and double-digit codes\n",
    "clean_data[diag_cols] = clean_data[diag_cols].apply(lambda x: x.str.replace(r'^(\\d)$', r'00\\1', regex=True).str.replace(r'^(\\d{2})$', r'0\\1', regex=True))\n",
    "\n",
    "# Verify the change - no more single- or double-digit strings.\n",
    "clean_data[diag_cols].apply(lambda x: x.str.contains(r'^\\d{1,2}$', na=False)).sum()"
   ]
  },
  {
   "cell_type": "markdown",
   "id": "dd0ab852",
   "metadata": {
    "papermill": {
     "duration": 0.00359,
     "end_time": "2025-07-03T19:44:47.994098",
     "exception": false,
     "start_time": "2025-07-03T19:44:47.990508",
     "status": "completed"
    },
    "tags": []
   },
   "source": [
    "We'll use an ICD9 map (https://github.com/drobbins/ICD9), which expects anywhere from a three to five digit number to represent the hierarchical diagnosis codes. We can delete the periods in our strings, which will yield three- to five-digit final values."
   ]
  },
  {
   "cell_type": "code",
   "execution_count": 27,
   "id": "6670a98c",
   "metadata": {
    "execution": {
     "iopub.execute_input": "2025-07-03T19:44:48.001626Z",
     "iopub.status.busy": "2025-07-03T19:44:48.001550Z",
     "iopub.status.idle": "2025-07-03T19:44:48.096496Z",
     "shell.execute_reply": "2025-07-03T19:44:48.096289Z"
    },
    "papermill": {
     "duration": 0.099471,
     "end_time": "2025-07-03T19:44:48.097155",
     "exception": false,
     "start_time": "2025-07-03T19:44:47.997684",
     "status": "completed"
    },
    "tags": []
   },
   "outputs": [
    {
     "name": "stdout",
     "output_type": "stream",
     "text": [
      "diag_1: []\n",
      "diag_2: []\n",
      "diag_3: []\n"
     ]
    }
   ],
   "source": [
    "for i, col in enumerate(diag_cols):\n",
    "    clean_data[col] = clean_data[col].str.replace('.', '')\n",
    "    \n",
    "# Check that we have between three and five digit codes excluding V&E codes\n",
    "for col in diag_cols:\n",
    "    # Items that don't match: not 3-5 digits OR start with V/E\n",
    "    non_matching = clean_data[col][\n",
    "        clean_data[col].str.contains(r'^\\d', na=False) &  # starts with digit\n",
    "        ~clean_data[col].str.contains(r'^\\d{3,5}$', na=False)  # but not 3-5 digits\n",
    "    ]\n",
    "    print(f\"{col}: {non_matching.unique()}\")"
   ]
  },
  {
   "cell_type": "markdown",
   "id": "b9920f7c",
   "metadata": {
    "papermill": {
     "duration": 0.003721,
     "end_time": "2025-07-03T19:44:48.104700",
     "exception": false,
     "start_time": "2025-07-03T19:44:48.100979",
     "status": "completed"
    },
    "tags": []
   },
   "source": [
    "Now we are in good shape to map our values to the ICD 9 map we got from the open source."
   ]
  },
  {
   "cell_type": "markdown",
   "id": "c1d2eb22",
   "metadata": {
    "papermill": {
     "duration": 0.003705,
     "end_time": "2025-07-03T19:44:48.112143",
     "exception": false,
     "start_time": "2025-07-03T19:44:48.108438",
     "status": "completed"
    },
    "tags": []
   },
   "source": [
    "## 9. Medical Specialty Cleaning and Hierarchy Extraction\n",
    "- Normalize specialties and subspecialties\n",
    "- Handle malformed or unknown labels\n",
    "- Create new column: `medical_subspecialty`"
   ]
  },
  {
   "cell_type": "markdown",
   "id": "dae8592e",
   "metadata": {
    "papermill": {
     "duration": 0.003582,
     "end_time": "2025-07-03T19:44:48.119672",
     "exception": false,
     "start_time": "2025-07-03T19:44:48.116090",
     "status": "completed"
    },
    "tags": []
   },
   "source": [
    "Now to handle the medical specialty column. This is going to require some framing assumptions that will need to be checked, much later. While the source of the data says there are 84 distinct values, we show 73 including NA (unknown):"
   ]
  },
  {
   "cell_type": "code",
   "execution_count": 28,
   "id": "7c7fdb98",
   "metadata": {
    "execution": {
     "iopub.execute_input": "2025-07-03T19:44:48.127251Z",
     "iopub.status.busy": "2025-07-03T19:44:48.127157Z",
     "iopub.status.idle": "2025-07-03T19:44:48.130562Z",
     "shell.execute_reply": "2025-07-03T19:44:48.130368Z"
    },
    "papermill": {
     "duration": 0.007898,
     "end_time": "2025-07-03T19:44:48.131099",
     "exception": false,
     "start_time": "2025-07-03T19:44:48.123201",
     "status": "completed"
    },
    "tags": []
   },
   "outputs": [
    {
     "data": {
      "text/plain": [
       "73"
      ]
     },
     "execution_count": 28,
     "metadata": {},
     "output_type": "execute_result"
    }
   ],
   "source": [
    "clean_data['medical_specialty'].unique().__len__()"
   ]
  },
  {
   "cell_type": "code",
   "execution_count": 29,
   "id": "625056b2",
   "metadata": {
    "execution": {
     "iopub.execute_input": "2025-07-03T19:44:48.138600Z",
     "iopub.status.busy": "2025-07-03T19:44:48.138521Z",
     "iopub.status.idle": "2025-07-03T19:44:48.146151Z",
     "shell.execute_reply": "2025-07-03T19:44:48.145955Z"
    },
    "papermill": {
     "duration": 0.012033,
     "end_time": "2025-07-03T19:44:48.146726",
     "exception": false,
     "start_time": "2025-07-03T19:44:48.134693",
     "status": "completed"
    },
    "tags": []
   },
   "outputs": [
    {
     "data": {
      "text/plain": [
       "['AllergyandImmunology',\n",
       " 'Anesthesiology',\n",
       " 'Anesthesiology-Pediatric',\n",
       " 'Cardiology',\n",
       " 'Cardiology-Pediatric',\n",
       " 'DCPTEAM',\n",
       " 'Dentistry',\n",
       " 'Dermatology',\n",
       " 'Emergency/Trauma',\n",
       " 'Endocrinology',\n",
       " 'Endocrinology-Metabolism',\n",
       " 'Family/GeneralPractice',\n",
       " 'Gastroenterology',\n",
       " 'Gynecology',\n",
       " 'Hematology',\n",
       " 'Hematology/Oncology',\n",
       " 'Hospitalist',\n",
       " 'InfectiousDiseases',\n",
       " 'InternalMedicine',\n",
       " 'Nephrology',\n",
       " 'Neurology',\n",
       " 'Neurophysiology',\n",
       " 'Obsterics&Gynecology-GynecologicOnco',\n",
       " 'Obstetrics',\n",
       " 'ObstetricsandGynecology',\n",
       " 'Oncology',\n",
       " 'Ophthalmology',\n",
       " 'Orthopedics',\n",
       " 'Orthopedics-Reconstructive',\n",
       " 'Osteopath',\n",
       " 'Otolaryngology',\n",
       " 'OutreachServices',\n",
       " 'Pathology',\n",
       " 'Pediatrics',\n",
       " 'Pediatrics-AllergyandImmunology',\n",
       " 'Pediatrics-CriticalCare',\n",
       " 'Pediatrics-EmergencyMedicine',\n",
       " 'Pediatrics-Endocrinology',\n",
       " 'Pediatrics-Hematology-Oncology',\n",
       " 'Pediatrics-InfectiousDiseases',\n",
       " 'Pediatrics-Neurology',\n",
       " 'Pediatrics-Pulmonology',\n",
       " 'Perinatology',\n",
       " 'PhysicalMedicineandRehabilitation',\n",
       " 'PhysicianNotFound',\n",
       " 'Podiatry',\n",
       " 'Proctology',\n",
       " 'Psychiatry',\n",
       " 'Psychiatry-Addictive',\n",
       " 'Psychiatry-Child/Adolescent',\n",
       " 'Psychology',\n",
       " 'Pulmonology',\n",
       " 'Radiologist',\n",
       " 'Radiology',\n",
       " 'Resident',\n",
       " 'Rheumatology',\n",
       " 'Speech',\n",
       " 'SportsMedicine',\n",
       " 'Surgeon',\n",
       " 'Surgery-Cardiovascular',\n",
       " 'Surgery-Cardiovascular/Thoracic',\n",
       " 'Surgery-Colon&Rectal',\n",
       " 'Surgery-General',\n",
       " 'Surgery-Maxillofacial',\n",
       " 'Surgery-Neuro',\n",
       " 'Surgery-Pediatric',\n",
       " 'Surgery-Plastic',\n",
       " 'Surgery-PlasticwithinHeadandNeck',\n",
       " 'Surgery-Thoracic',\n",
       " 'Surgery-Vascular',\n",
       " 'SurgicalSpecialty',\n",
       " 'Urology',\n",
       " 'nan']"
      ]
     },
     "execution_count": 29,
     "metadata": {},
     "output_type": "execute_result"
    }
   ],
   "source": [
    "sorted(clean_data['medical_specialty'].astype(str).unique())"
   ]
  },
  {
   "cell_type": "markdown",
   "id": "b680f5cf",
   "metadata": {
    "papermill": {
     "duration": 0.003691,
     "end_time": "2025-07-03T19:44:48.153987",
     "exception": false,
     "start_time": "2025-07-03T19:44:48.150296",
     "status": "completed"
    },
    "tags": []
   },
   "source": [
    "Let's go ahead and:\n",
    "\n",
    "- convert 'Surgeon' to 'Surgery'\n",
    "- convert 'SurgicalSpecialty' to 'Surgery' primary and 'Other' secondary ('Surgery-OtherSpecialty' before we split)\n",
    "- create a new column for subspecialty\n",
    "    - splitting on the dash\n",
    "    - filling with NA's for those without subspecialties\n",
    "- convert \"Obsterics&Gynecology-GynecologicOnco\"'s primary specialty to \"ObstetricsandGynecology\" to conform\n",
    "- convert 'PhysicianNotFound' to NA (assumption being made here...)\n",
    "\n"
   ]
  },
  {
   "cell_type": "code",
   "execution_count": 30,
   "id": "509d713a",
   "metadata": {
    "execution": {
     "iopub.execute_input": "2025-07-03T19:44:48.161754Z",
     "iopub.status.busy": "2025-07-03T19:44:48.161680Z",
     "iopub.status.idle": "2025-07-03T19:44:48.276089Z",
     "shell.execute_reply": "2025-07-03T19:44:48.275816Z"
    },
    "papermill": {
     "duration": 0.118911,
     "end_time": "2025-07-03T19:44:48.276791",
     "exception": false,
     "start_time": "2025-07-03T19:44:48.157880",
     "status": "completed"
    },
    "tags": []
   },
   "outputs": [],
   "source": [
    "clean_data['medical_specialty'] = clean_data['medical_specialty'].str.replace('Surgeon', 'Surgery')\n",
    "clean_data['medical_specialty'] = clean_data['medical_specialty'].str.replace('SurgicalSpecialty', 'Surgery-OtherSpecialty')\n",
    "\n",
    "clean_data['medical_subspecialty'] = clean_data['medical_specialty'].str.split('-', n=1, expand=True)[1]\n",
    "clean_data['medical_specialty'] = clean_data['medical_specialty'].str.split('-', n=1, expand=True)[0]\n",
    "\n",
    "clean_data['medical_specialty'] = clean_data['medical_specialty'].str.replace('Obsterics&Gynecology', 'ObstetricsandGynecology')\n",
    "clean_data.loc[clean_data['medical_specialty'].str.contains('PhysicianNotFound', na = False), 'medical_specialty'] = np.nan"
   ]
  },
  {
   "cell_type": "markdown",
   "id": "230fc3ff",
   "metadata": {
    "papermill": {
     "duration": 0.003715,
     "end_time": "2025-07-03T19:44:48.284400",
     "exception": false,
     "start_time": "2025-07-03T19:44:48.280685",
     "status": "completed"
    },
    "tags": []
   },
   "source": [
    "Let's see how these did:"
   ]
  },
  {
   "cell_type": "code",
   "execution_count": 31,
   "id": "0487e0c0",
   "metadata": {
    "execution": {
     "iopub.execute_input": "2025-07-03T19:44:48.292370Z",
     "iopub.status.busy": "2025-07-03T19:44:48.292278Z",
     "iopub.status.idle": "2025-07-03T19:44:48.300194Z",
     "shell.execute_reply": "2025-07-03T19:44:48.299992Z"
    },
    "papermill": {
     "duration": 0.012533,
     "end_time": "2025-07-03T19:44:48.300773",
     "exception": false,
     "start_time": "2025-07-03T19:44:48.288240",
     "status": "completed"
    },
    "tags": []
   },
   "outputs": [
    {
     "data": {
      "text/plain": [
       "['AllergyandImmunology',\n",
       " 'Anesthesiology',\n",
       " 'Cardiology',\n",
       " 'DCPTEAM',\n",
       " 'Dentistry',\n",
       " 'Dermatology',\n",
       " 'Emergency/Trauma',\n",
       " 'Endocrinology',\n",
       " 'Family/GeneralPractice',\n",
       " 'Gastroenterology',\n",
       " 'Gynecology',\n",
       " 'Hematology',\n",
       " 'Hematology/Oncology',\n",
       " 'Hospitalist',\n",
       " 'InfectiousDiseases',\n",
       " 'InternalMedicine',\n",
       " 'Nephrology',\n",
       " 'Neurology',\n",
       " 'Neurophysiology',\n",
       " 'Obstetrics',\n",
       " 'ObstetricsandGynecology',\n",
       " 'Oncology',\n",
       " 'Ophthalmology',\n",
       " 'Orthopedics',\n",
       " 'Osteopath',\n",
       " 'Otolaryngology',\n",
       " 'OutreachServices',\n",
       " 'Pathology',\n",
       " 'Pediatrics',\n",
       " 'Perinatology',\n",
       " 'PhysicalMedicineandRehabilitation',\n",
       " 'Podiatry',\n",
       " 'Proctology',\n",
       " 'Psychiatry',\n",
       " 'Psychology',\n",
       " 'Pulmonology',\n",
       " 'Radiologist',\n",
       " 'Radiology',\n",
       " 'Resident',\n",
       " 'Rheumatology',\n",
       " 'Speech',\n",
       " 'SportsMedicine',\n",
       " 'Surgery',\n",
       " 'Urology',\n",
       " 'nan']"
      ]
     },
     "execution_count": 31,
     "metadata": {},
     "output_type": "execute_result"
    }
   ],
   "source": [
    "sorted(clean_data['medical_specialty'].astype(str).unique()) # Sorted doesn't like booleans (NA)"
   ]
  },
  {
   "cell_type": "code",
   "execution_count": 32,
   "id": "3facec84",
   "metadata": {
    "execution": {
     "iopub.execute_input": "2025-07-03T19:44:48.308867Z",
     "iopub.status.busy": "2025-07-03T19:44:48.308791Z",
     "iopub.status.idle": "2025-07-03T19:44:48.319251Z",
     "shell.execute_reply": "2025-07-03T19:44:48.319052Z"
    },
    "papermill": {
     "duration": 0.014991,
     "end_time": "2025-07-03T19:44:48.319795",
     "exception": false,
     "start_time": "2025-07-03T19:44:48.304804",
     "status": "completed"
    },
    "tags": []
   },
   "outputs": [
    {
     "data": {
      "text/plain": [
       "['Addictive',\n",
       " 'AllergyandImmunology',\n",
       " 'Cardiovascular',\n",
       " 'Cardiovascular/Thoracic',\n",
       " 'Child/Adolescent',\n",
       " 'Colon&Rectal',\n",
       " 'CriticalCare',\n",
       " 'EmergencyMedicine',\n",
       " 'Endocrinology',\n",
       " 'General',\n",
       " 'GynecologicOnco',\n",
       " 'Hematology-Oncology',\n",
       " 'InfectiousDiseases',\n",
       " 'Maxillofacial',\n",
       " 'Metabolism',\n",
       " 'Neuro',\n",
       " 'Neurology',\n",
       " 'None',\n",
       " 'OtherSpecialty',\n",
       " 'Pediatric',\n",
       " 'Plastic',\n",
       " 'PlasticwithinHeadandNeck',\n",
       " 'Pulmonology',\n",
       " 'Reconstructive',\n",
       " 'Thoracic',\n",
       " 'Vascular',\n",
       " 'nan']"
      ]
     },
     "execution_count": 32,
     "metadata": {},
     "output_type": "execute_result"
    }
   ],
   "source": [
    "sorted(clean_data['medical_subspecialty'].astype(str).unique()) # Sorted doesn't like booleans (NA)"
   ]
  },
  {
   "cell_type": "markdown",
   "id": "c2d94e79",
   "metadata": {
    "papermill": {
     "duration": 0.003948,
     "end_time": "2025-07-03T19:44:48.327476",
     "exception": false,
     "start_time": "2025-07-03T19:44:48.323528",
     "status": "completed"
    },
    "tags": []
   },
   "source": [
    "Good enough for now - maybe we come back and clean this up more later. We need to move on to making sure all our numeric data is in good shape to support actual exploration of the dataset."
   ]
  },
  {
   "cell_type": "markdown",
   "id": "038bd580",
   "metadata": {
    "papermill": {
     "duration": 0.004065,
     "end_time": "2025-07-03T19:44:48.335253",
     "exception": false,
     "start_time": "2025-07-03T19:44:48.331188",
     "status": "completed"
    },
    "tags": []
   },
   "source": [
    "## 10. Numeric Columns Validation\n",
    "- Confirm integer types and value ranges\n",
    "- Check for malformed or unexpected entries"
   ]
  },
  {
   "cell_type": "code",
   "execution_count": 33,
   "id": "ad441d88",
   "metadata": {
    "execution": {
     "iopub.execute_input": "2025-07-03T19:44:48.343044Z",
     "iopub.status.busy": "2025-07-03T19:44:48.342965Z",
     "iopub.status.idle": "2025-07-03T19:44:48.347777Z",
     "shell.execute_reply": "2025-07-03T19:44:48.347613Z"
    },
    "papermill": {
     "duration": 0.009382,
     "end_time": "2025-07-03T19:44:48.348316",
     "exception": false,
     "start_time": "2025-07-03T19:44:48.338934",
     "status": "completed"
    },
    "tags": []
   },
   "outputs": [
    {
     "name": "stdout",
     "output_type": "stream",
     "text": [
      "<class 'pandas.core.frame.DataFrame'>\n",
      "RangeIndex: 101766 entries, 0 to 101765\n",
      "Data columns (total 13 columns):\n",
      " #   Column                    Non-Null Count   Dtype\n",
      "---  ------                    --------------   -----\n",
      " 0   encounter_id              101766 non-null  int64\n",
      " 1   patient_nbr               101766 non-null  int64\n",
      " 2   admission_type_id         101766 non-null  int64\n",
      " 3   discharge_disposition_id  101766 non-null  int64\n",
      " 4   admission_source_id       101766 non-null  int64\n",
      " 5   time_in_hospital          101766 non-null  int64\n",
      " 6   num_lab_procedures        101766 non-null  int64\n",
      " 7   num_procedures            101766 non-null  int64\n",
      " 8   num_medications           101766 non-null  int64\n",
      " 9   number_outpatient         101766 non-null  int64\n",
      " 10  number_emergency          101766 non-null  int64\n",
      " 11  number_inpatient          101766 non-null  int64\n",
      " 12  number_diagnoses          101766 non-null  int64\n",
      "dtypes: int64(13)\n",
      "memory usage: 10.1 MB\n"
     ]
    }
   ],
   "source": [
    "num_cols = raw_data.select_dtypes(exclude='object').columns\n",
    "raw_data[num_cols].info()"
   ]
  },
  {
   "cell_type": "markdown",
   "id": "33f5af9f",
   "metadata": {
    "papermill": {
     "duration": 0.003964,
     "end_time": "2025-07-03T19:44:48.355997",
     "exception": false,
     "start_time": "2025-07-03T19:44:48.352033",
     "status": "completed"
    },
    "tags": []
   },
   "source": [
    "All numerics look to be in good shape. We're told in the data description from the source that these do not contain missing values. As encounter_id and patient_nbr are unique identifiers, but the other values aren't, let's see if those others have any unexpected or malformed entries:"
   ]
  },
  {
   "cell_type": "code",
   "execution_count": 34,
   "id": "5d6b6bc0",
   "metadata": {
    "execution": {
     "iopub.execute_input": "2025-07-03T19:44:48.363900Z",
     "iopub.status.busy": "2025-07-03T19:44:48.363837Z",
     "iopub.status.idle": "2025-07-03T19:44:48.371616Z",
     "shell.execute_reply": "2025-07-03T19:44:48.371373Z"
    },
    "papermill": {
     "duration": 0.012496,
     "end_time": "2025-07-03T19:44:48.372250",
     "exception": false,
     "start_time": "2025-07-03T19:44:48.359754",
     "status": "completed"
    },
    "tags": []
   },
   "outputs": [],
   "source": [
    "# Drop encounter_id and patient_nbr from num_cols\n",
    "num_cols = num_cols.drop(['encounter_id', 'patient_nbr'])\n",
    "\n",
    "# pd.concat([df[col] for col in df.columns])\n",
    "all_nums = raw_data[num_cols].stack()"
   ]
  },
  {
   "cell_type": "code",
   "execution_count": 35,
   "id": "3f853ba7",
   "metadata": {
    "execution": {
     "iopub.execute_input": "2025-07-03T19:44:48.380318Z",
     "iopub.status.busy": "2025-07-03T19:44:48.380246Z",
     "iopub.status.idle": "2025-07-03T19:44:48.473887Z",
     "shell.execute_reply": "2025-07-03T19:44:48.473686Z"
    },
    "papermill": {
     "duration": 0.098377,
     "end_time": "2025-07-03T19:44:48.474458",
     "exception": false,
     "start_time": "2025-07-03T19:44:48.376081",
     "status": "completed"
    },
    "tags": []
   },
   "outputs": [
    {
     "name": "stdout",
     "output_type": "stream",
     "text": [
      "0, 1, 10, 100, 101, 102, 103, 104, 105, 106, 107, 108, 109, 11, 111, 113, 114, 118, 12, 120, 121, 126, 129, 13, 132, 14, 15, 16, 17, 18, 19, 2, 20, 21, 22, 23, 24, 25, 26, 27, 28, 29, 3, 30, 31, 32, 33, 34, 35, 36, 37, 38, 39, 4, 40, 41, 42, 43, 44, 45, 46, 47, 48, 49, 5, 50, 51, 52, 53, 54, 55, 56, 57, 58, 59, 6, 60, 61, 62, 63, 64, 65, 66, 67, 68, 69, 7, 70, 71, 72, 73, 74, 75, 76, 77, 78, 79, 8, 80, 81, 82, 83, 84, 85, 86, 87, 88, 89, 9, 90, 91, 92, 93, 94, 95, 96, 97, 98, 99\n"
     ]
    }
   ],
   "source": [
    "print(', '.join(sorted(all_nums.astype(str).unique())))"
   ]
  },
  {
   "cell_type": "markdown",
   "id": "4b637650",
   "metadata": {
    "papermill": {
     "duration": 0.003846,
     "end_time": "2025-07-03T19:44:48.482278",
     "exception": false,
     "start_time": "2025-07-03T19:44:48.478432",
     "status": "completed"
    },
    "tags": []
   },
   "source": [
    "So, nothing wild or crazy; good! We can close out our pre-exploration data preparation at this point and move on to some early exploratory analysis."
   ]
  },
  {
   "cell_type": "markdown",
   "id": "225a1d3f",
   "metadata": {
    "papermill": {
     "duration": 0.00382,
     "end_time": "2025-07-03T19:44:48.489958",
     "exception": false,
     "start_time": "2025-07-03T19:44:48.486138",
     "status": "completed"
    },
    "tags": []
   },
   "source": [
    "## 11. Save Cleaned Dataset\n",
    "- Export cleaned data to `diabetes_clean.pkl` for future analysis"
   ]
  },
  {
   "cell_type": "code",
   "execution_count": 36,
   "id": "64507622",
   "metadata": {
    "execution": {
     "iopub.execute_input": "2025-07-03T19:44:48.498449Z",
     "iopub.status.busy": "2025-07-03T19:44:48.498352Z",
     "iopub.status.idle": "2025-07-03T19:44:48.557950Z",
     "shell.execute_reply": "2025-07-03T19:44:48.557670Z"
    },
    "papermill": {
     "duration": 0.064799,
     "end_time": "2025-07-03T19:44:48.558637",
     "exception": false,
     "start_time": "2025-07-03T19:44:48.493838",
     "status": "completed"
    },
    "tags": []
   },
   "outputs": [],
   "source": [
    "clean_data.to_pickle(\"../data/diabetes_clean.pkl\")"
   ]
  }
 ],
 "metadata": {
  "kernelspec": {
   "display_name": ".venv",
   "language": "python",
   "name": "python3"
  },
  "language_info": {
   "codemirror_mode": {
    "name": "ipython",
    "version": 3
   },
   "file_extension": ".py",
   "mimetype": "text/x-python",
   "name": "python",
   "nbconvert_exporter": "python",
   "pygments_lexer": "ipython3",
   "version": "3.11.9"
  },
  "papermill": {
   "default_parameters": {},
   "duration": 3.007996,
   "end_time": "2025-07-03T19:44:48.676953",
   "environment_variables": {},
   "exception": null,
   "input_path": "p00_portfolio_cleaning.ipynb",
   "output_path": "outputs/p00_portfolio_cleaning_executed.ipynb",
   "parameters": {},
   "start_time": "2025-07-03T19:44:45.668957",
   "version": "2.6.0"
  }
 },
 "nbformat": 4,
 "nbformat_minor": 5
}