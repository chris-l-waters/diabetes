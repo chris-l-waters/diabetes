{
 "cells": [
  {
   "cell_type": "code",
   "execution_count": 1,
   "id": "30d9d7ba",
   "metadata": {
    "execution": {
     "iopub.execute_input": "2025-07-07T16:20:38.656711Z",
     "iopub.status.busy": "2025-07-07T16:20:38.656177Z",
     "iopub.status.idle": "2025-07-07T16:20:38.668135Z",
     "shell.execute_reply": "2025-07-07T16:20:38.667621Z"
    },
    "papermill": {
     "duration": 0.021284,
     "end_time": "2025-07-07T16:20:38.669470",
     "exception": false,
     "start_time": "2025-07-07T16:20:38.648186",
     "status": "completed"
    },
    "tags": []
   },
   "outputs": [
    {
     "name": "stdout",
     "output_type": "stream",
     "text": [
      "10\n",
      "Available memory before training: 6.49 GB\n"
     ]
    }
   ],
   "source": [
    "import multiprocessing\n",
    "print(multiprocessing.cpu_count())\n",
    "\n",
    "import psutil\n",
    "print(f\"Available memory before training: {psutil.virtual_memory().available / 1e9:.2f} GB\")"
   ]
  },
  {
   "cell_type": "markdown",
   "id": "3ff50441",
   "metadata": {
    "papermill": {
     "duration": 0.003397,
     "end_time": "2025-07-07T16:20:38.677278",
     "exception": false,
     "start_time": "2025-07-07T16:20:38.673881",
     "status": "completed"
    },
    "tags": []
   },
   "source": [
    "# Diabetes Readmission – Neural Network Classification\n",
    "\n",
    "## Introduction\n",
    "\n",
    "This notebook implements a deep neural network using TensorFlow/Keras for predicting hospital readmission within 30 days for diabetic patients. We use a specialized preprocessed dataset optimized for neural networks, which includes:\n",
    "\n",
    "- Full dataset: All encounters retained (101,763 records), as neural networks can learn complex patterns from correlated observations\n",
    "- Mixed feature representation: Both consolidated diagnostic categories and binary indicator features for comprehensive pattern recognition\n",
    "- Box-Cox transformations: Applied to skewed numeric features for improved neural network convergence\n",
    "- Standardized features: All numeric inputs scaled for optimal gradient-based learning\n",
    "\n",
    "## Methodology\n",
    "\n",
    "**Architecture Search**: Using Keras Tuner's Bayesian Optimization to systematically explore neural network architectures across:\n",
    "- Network depth: Number of hidden layers\n",
    "- Layer width: Neurons per layer \n",
    "- Regularization: Dropout rates and batch normalization\n",
    "- Learning dynamics: Learning rate optimization\n",
    "\n",
    "**Advanced Training Techniques**:\n",
    "- Early stopping: Prevents overfitting with patience-based monitoring\n",
    "- Learning rate reduction: Adaptive LR scheduling for fine-tuned convergence\n",
    "- Class weighting: Handles imbalanced dataset without synthetic sampling\n",
    "- Batch normalization: Stabilizes training and improves convergence speed\n",
    "\n",
    "Preprocessing Pipeline: StandardScaler for numeric features and ordinal encoding for categoricals, ensuring all inputs are properly normalized for neural network training.\n",
    "\n",
    "Hardware Optimization: Configured for Apple Silicon GPU acceleration while maintaining CPU fallback compatibility for broader reproducibility.\n",
    "\n",
    "The goal is to leverage neural networks' ability to capture complex non-linear feature interactions and patterns that traditional ML methods may miss, while maintaining robust performance through proper architecture selection and training regularization."
   ]
  },
  {
   "cell_type": "code",
   "execution_count": 2,
   "id": "4ba31490",
   "metadata": {
    "execution": {
     "iopub.execute_input": "2025-07-07T16:20:38.684469Z",
     "iopub.status.busy": "2025-07-07T16:20:38.684333Z",
     "iopub.status.idle": "2025-07-07T16:20:39.582000Z",
     "shell.execute_reply": "2025-07-07T16:20:39.581700Z"
    },
    "papermill": {
     "duration": 0.901959,
     "end_time": "2025-07-07T16:20:39.582792",
     "exception": false,
     "start_time": "2025-07-07T16:20:38.680833",
     "status": "completed"
    },
    "tags": []
   },
   "outputs": [],
   "source": [
    "import pandas as pd\n",
    "import numpy as np\n",
    "\n",
    "import matplotlib.pyplot as plt\n",
    "import seaborn as sns\n",
    "\n",
    "import warnings\n",
    "warnings.simplefilter(action='ignore', category=FutureWarning)\n",
    "\n",
    "import shutil\n",
    "import pickle\n",
    "import json\n",
    "import time"
   ]
  },
  {
   "cell_type": "code",
   "execution_count": 3,
   "id": "72feff25",
   "metadata": {
    "execution": {
     "iopub.execute_input": "2025-07-07T16:20:39.587195Z",
     "iopub.status.busy": "2025-07-07T16:20:39.587028Z",
     "iopub.status.idle": "2025-07-07T16:20:39.667078Z",
     "shell.execute_reply": "2025-07-07T16:20:39.666839Z"
    },
    "papermill": {
     "duration": 0.083023,
     "end_time": "2025-07-07T16:20:39.667855",
     "exception": false,
     "start_time": "2025-07-07T16:20:39.584832",
     "status": "completed"
    },
    "tags": []
   },
   "outputs": [],
   "source": [
    "token = 'f11' # iteratable by the user as we try new things\n",
    "randy = 42 # random value insertion for repeatability\n",
    "nn = pd.read_pickle(\"../models/neural_net.pkl\") # See prior notebook, p02."
   ]
  },
  {
   "cell_type": "code",
   "execution_count": 4,
   "id": "0356a90c",
   "metadata": {
    "execution": {
     "iopub.execute_input": "2025-07-07T16:20:39.671987Z",
     "iopub.status.busy": "2025-07-07T16:20:39.671884Z",
     "iopub.status.idle": "2025-07-07T16:20:39.675824Z",
     "shell.execute_reply": "2025-07-07T16:20:39.675591Z"
    },
    "papermill": {
     "duration": 0.006548,
     "end_time": "2025-07-07T16:20:39.676408",
     "exception": false,
     "start_time": "2025-07-07T16:20:39.669860",
     "status": "completed"
    },
    "tags": []
   },
   "outputs": [
    {
     "name": "stdout",
     "output_type": "stream",
     "text": [
      "<class 'pandas.core.frame.DataFrame'>\n",
      "Index: 101763 entries, 0 to 101765\n",
      "Columns: 102 entries, encounter_id to has_E990_E999\n",
      "dtypes: bool(4), float64(6), int64(64), object(28)\n",
      "memory usage: 77.3+ MB\n"
     ]
    }
   ],
   "source": [
    "nn.info()"
   ]
  },
  {
   "cell_type": "markdown",
   "id": "49afb96b",
   "metadata": {
    "papermill": {
     "duration": 0.001841,
     "end_time": "2025-07-07T16:20:39.680347",
     "exception": false,
     "start_time": "2025-07-07T16:20:39.678506",
     "status": "completed"
    },
    "tags": []
   },
   "source": [
    "## Memory Optimization\n",
    "\n",
    "The `optimize_dtypes()` function reduces memory usage by downcasting numeric types to their smallest sufficient representation:\n",
    "- `int64` → `int8/int16/int32` based on value ranges\n",
    "- `float64` → `float32` when precision allows\n",
    "\n",
    "This optimization is particularly valuable for large datasets and memory-intensive operations like SMOTE resampling."
   ]
  },
  {
   "cell_type": "code",
   "execution_count": 5,
   "id": "2752ae72",
   "metadata": {
    "execution": {
     "iopub.execute_input": "2025-07-07T16:20:39.684330Z",
     "iopub.status.busy": "2025-07-07T16:20:39.684245Z",
     "iopub.status.idle": "2025-07-07T16:20:39.687067Z",
     "shell.execute_reply": "2025-07-07T16:20:39.686850Z"
    },
    "papermill": {
     "duration": 0.005599,
     "end_time": "2025-07-07T16:20:39.687651",
     "exception": false,
     "start_time": "2025-07-07T16:20:39.682052",
     "status": "completed"
    },
    "tags": []
   },
   "outputs": [],
   "source": [
    "def optimize_dtypes(df):\n",
    "    \n",
    "    \"\"\"\n",
    "    Here we convert some of our columns intelligently to save on memory & time\n",
    "    \"\"\"\n",
    "    \n",
    "    for col in df.columns:\n",
    "        col_type = df[col].dtype\n",
    "\n",
    "        if col_type == 'int64':\n",
    "            c_min = df[col].min()\n",
    "            c_max = df[col].max()\n",
    "\n",
    "            if c_min > np.iinfo(np.int8).min and c_max < np.iinfo(np.int8).max:\n",
    "                df[col] = df[col].astype(np.int8)\n",
    "            elif c_min > np.iinfo(np.int16).min and c_max < np.iinfo(np.int16).max:\n",
    "                df[col] = df[col].astype(np.int16)\n",
    "            elif c_min > np.iinfo(np.int32).min and c_max < np.iinfo(np.int32).max:\n",
    "                df[col] = df[col].astype(np.int32)\n",
    "\n",
    "        elif col_type == 'float64':\n",
    "            c_min = df[col].min()\n",
    "            c_max = df[col].max()\n",
    "\n",
    "            if c_min > np.finfo(np.float32).min and c_max < np.finfo(np.float32).max:\n",
    "                df[col] = df[col].astype(np.float32)\n",
    "\n",
    "    return df"
   ]
  },
  {
   "cell_type": "code",
   "execution_count": 6,
   "id": "43420ef7",
   "metadata": {
    "execution": {
     "iopub.execute_input": "2025-07-07T16:20:39.691556Z",
     "iopub.status.busy": "2025-07-07T16:20:39.691484Z",
     "iopub.status.idle": "2025-07-07T16:20:39.703790Z",
     "shell.execute_reply": "2025-07-07T16:20:39.703574Z"
    },
    "papermill": {
     "duration": 0.014848,
     "end_time": "2025-07-07T16:20:39.704367",
     "exception": false,
     "start_time": "2025-07-07T16:20:39.689519",
     "status": "completed"
    },
    "tags": []
   },
   "outputs": [
    {
     "name": "stdout",
     "output_type": "stream",
     "text": [
      "<class 'pandas.core.frame.DataFrame'>\n",
      "Index: 101763 entries, 0 to 101765\n",
      "Columns: 102 entries, encounter_id to has_E990_E999\n",
      "dtypes: bool(4), float32(6), int16(1), int32(2), int8(61), object(28)\n",
      "memory usage: 32.1+ MB\n"
     ]
    }
   ],
   "source": [
    "nn = optimize_dtypes(nn)\n",
    "nn.info() # 40+mb RAM savings"
   ]
  },
  {
   "cell_type": "code",
   "execution_count": 7,
   "id": "0594b16d",
   "metadata": {
    "execution": {
     "iopub.execute_input": "2025-07-07T16:20:39.708460Z",
     "iopub.status.busy": "2025-07-07T16:20:39.708378Z",
     "iopub.status.idle": "2025-07-07T16:20:39.709987Z",
     "shell.execute_reply": "2025-07-07T16:20:39.709762Z"
    },
    "papermill": {
     "duration": 0.004247,
     "end_time": "2025-07-07T16:20:39.710550",
     "exception": false,
     "start_time": "2025-07-07T16:20:39.706303",
     "status": "completed"
    },
    "tags": []
   },
   "outputs": [],
   "source": [
    "import os\n",
    "\n",
    "os.environ['TF_CPP_MIN_LOG_LEVEL'] = '2'"
   ]
  },
  {
   "cell_type": "code",
   "execution_count": 8,
   "id": "d8783fb6",
   "metadata": {
    "execution": {
     "iopub.execute_input": "2025-07-07T16:20:39.714321Z",
     "iopub.status.busy": "2025-07-07T16:20:39.714250Z",
     "iopub.status.idle": "2025-07-07T16:20:42.204799Z",
     "shell.execute_reply": "2025-07-07T16:20:42.204517Z"
    },
    "papermill": {
     "duration": 2.493312,
     "end_time": "2025-07-07T16:20:42.205583",
     "exception": false,
     "start_time": "2025-07-07T16:20:39.712271",
     "status": "completed"
    },
    "tags": []
   },
   "outputs": [],
   "source": [
    "import tensorflow as tf "
   ]
  },
  {
   "cell_type": "code",
   "execution_count": 9,
   "id": "393660b1",
   "metadata": {
    "execution": {
     "iopub.execute_input": "2025-07-07T16:20:42.209838Z",
     "iopub.status.busy": "2025-07-07T16:20:42.209674Z",
     "iopub.status.idle": "2025-07-07T16:20:42.211718Z",
     "shell.execute_reply": "2025-07-07T16:20:42.211509Z"
    },
    "papermill": {
     "duration": 0.004707,
     "end_time": "2025-07-07T16:20:42.212278",
     "exception": false,
     "start_time": "2025-07-07T16:20:42.207571",
     "status": "completed"
    },
    "tags": []
   },
   "outputs": [
    {
     "name": "stdout",
     "output_type": "stream",
     "text": [
      "TensorFlow version: 2.19.0\n",
      "Available devices:\n",
      "  PhysicalDevice(name='/physical_device:CPU:0', device_type='CPU')\n",
      "  PhysicalDevice(name='/physical_device:GPU:0', device_type='GPU')\n",
      "Metal GPU available: True\n"
     ]
    }
   ],
   "source": [
    "print(\"TensorFlow version:\", tf.__version__)\n",
    "print(\"Available devices:\")\n",
    "for device in tf.config.list_physical_devices():\n",
    "    print(f\"  {device}\")\n",
    "print(\"Metal GPU available:\", len(tf.config.list_physical_devices('GPU')) > 0)"
   ]
  },
  {
   "cell_type": "code",
   "execution_count": 10,
   "id": "29392443",
   "metadata": {
    "execution": {
     "iopub.execute_input": "2025-07-07T16:20:42.216600Z",
     "iopub.status.busy": "2025-07-07T16:20:42.216520Z",
     "iopub.status.idle": "2025-07-07T16:20:42.398798Z",
     "shell.execute_reply": "2025-07-07T16:20:42.398495Z"
    },
    "papermill": {
     "duration": 0.185211,
     "end_time": "2025-07-07T16:20:42.399542",
     "exception": false,
     "start_time": "2025-07-07T16:20:42.214331",
     "status": "completed"
    },
    "tags": []
   },
   "outputs": [],
   "source": [
    "from concurrent.futures import ThreadPoolExecutor\n",
    "import threading\n",
    "\n",
    "from tensorflow import keras \n",
    "from tensorflow.keras import layers \n",
    "\n",
    "import keras_tuner as kt\n",
    "\n",
    "from itertools import product\n",
    "import random\n",
    "\n",
    "from sklearn.compose import ColumnTransformer \n",
    "from sklearn.preprocessing import StandardScaler, OrdinalEncoder \n",
    "from sklearn.model_selection import train_test_split \n",
    "from sklearn.model_selection import ParameterGrid\n",
    "\n",
    "from sklearn.metrics import ConfusionMatrixDisplay\n",
    "from sklearn.metrics import accuracy_score, roc_curve, auc, confusion_matrix\n",
    "from sklearn.metrics import precision_score, recall_score, f1_score"
   ]
  },
  {
   "cell_type": "markdown",
   "id": "0234fa3f",
   "metadata": {
    "papermill": {
     "duration": 0.001843,
     "end_time": "2025-07-07T16:20:42.403394",
     "exception": false,
     "start_time": "2025-07-07T16:20:42.401551",
     "status": "completed"
    },
    "tags": []
   },
   "source": [
    "## Model Evaluation and Persistence Function\n",
    "\n",
    "The `evaluate_and_save_pipeline()` function provides standardized evaluation across all modeling approaches in this project. However, for this neural network model, it's a little bit different: \n",
    "\n",
    "- **TensorFlow integration**: Keras models use different prediction methods and don't fit sklearn pipeline structure\n",
    "- **Additional data**: Captures training history and architecture parameters unique to neural networks\n",
    "- **Preprocessing separation**: Works with pre-transformed numpy arrays rather than pipeline wrappers\n",
    "\n",
    "**Consistent Output:**\n",
    "Despite implementation differences, saves metrics in identical pickle format as other models for fair comparison and ensemble integration.\n",
    "\n",
    "This standardization is critical for fair model comparison and supports the ensemble modeling approach in later notebooks."
   ]
  },
  {
   "cell_type": "code",
   "execution_count": 11,
   "id": "5a8aaaae",
   "metadata": {
    "execution": {
     "iopub.execute_input": "2025-07-07T16:20:42.407404Z",
     "iopub.status.busy": "2025-07-07T16:20:42.407238Z",
     "iopub.status.idle": "2025-07-07T16:20:42.411246Z",
     "shell.execute_reply": "2025-07-07T16:20:42.411029Z"
    },
    "papermill": {
     "duration": 0.006641,
     "end_time": "2025-07-07T16:20:42.411792",
     "exception": false,
     "start_time": "2025-07-07T16:20:42.405151",
     "status": "completed"
    },
    "tags": []
   },
   "outputs": [],
   "source": [
    "# Evaluate and save\n",
    "def evaluate_and_save_nn(model, history, params, namestring, token, \n",
    "                        X_train_processed, X_test_processed, \n",
    "                        y_train, y_test,\n",
    "                        preprocessor, original_feature_names,\n",
    "                        console_out = False):\n",
    "    \"\"\"Evaluate neural network and save metrics in same format as other models\"\"\"\n",
    "\n",
    "    # Predictions\n",
    "    y_train_pred = (model.predict(X_train_processed).flatten() > 0.5).astype(int)\n",
    "    y_test_pred_proba = model.predict(X_test_processed).flatten()\n",
    "    y_test_pred = (y_test_pred_proba > 0.5).astype(int)\n",
    "\n",
    "    # Calculate metrics\n",
    "    accuracy = accuracy_score(y_test, y_test_pred)\n",
    "    precision = precision_score(y_test, y_test_pred)\n",
    "    recall = recall_score(y_test, y_test_pred)\n",
    "    f1 = f1_score(y_test, y_test_pred)\n",
    "\n",
    "    # ROC curve\n",
    "    fpr, tpr, thresholds = roc_curve(y_test, y_test_pred_proba)\n",
    "    roc_auc = auc(fpr, tpr)\n",
    "\n",
    "    # Confusion matrix\n",
    "    tn, fp, fn, tp = confusion_matrix(y_test, y_test_pred).ravel()\n",
    "    specificity = tn / (tn + fp)\n",
    "\n",
    "    # Create metrics dict (same format as other models)\n",
    "    pickle_metrics = {\n",
    "        'model_version': f\"{token}_{namestring}\",\n",
    "        'accuracy': accuracy,\n",
    "        'precision': precision,\n",
    "        'recall': recall,\n",
    "        'f1_score': f1,\n",
    "        'specificity': specificity,\n",
    "        'roc_auc': roc_auc,\n",
    "        'y_test': y_test,\n",
    "        'y_train_pred': y_train_pred,\n",
    "        'y_test_pred': y_test_pred,\n",
    "        'y_test_pred_proba': y_test_pred_proba,\n",
    "        'display_labels': [0, 1],\n",
    "        'confusion_matrix': {'tn': tn, 'fp': fp, 'fn': fn, 'tp': tp},\n",
    "        'roc_curve': {'fpr': fpr, 'tpr': tpr, 'thresholds': thresholds},\n",
    "        'best_params': params,\n",
    "        'training_history': history.history,\n",
    "        'shap_data': {\n",
    "            'model': model,\n",
    "            'preprocessor': preprocessor,\n",
    "            'X_train_processed': X_train_processed,\n",
    "            'X_test_processed': X_test_processed,\n",
    "            'feature_names': preprocessor.get_feature_names_out(),\n",
    "            'original_feature_names': original_feature_names\n",
    "        }\n",
    "    }\n",
    "\n",
    "    # Save to file\n",
    "    filename = f\"../models/fits_pickle_{token}_{namestring}.pkl\"\n",
    "    with open(filename, \"wb\") as file:\n",
    "        pickle.dump(pickle_metrics, file)\n",
    "\n",
    "    if console_out:\n",
    "        # Print summary (same as your existing function)\n",
    "        print(f\"Metrics saved to {filename}\")\n",
    "        print(f'Accuracy:    {accuracy:.4f}')\n",
    "        print(f'Precision:   {precision:.4f}')\n",
    "        print(f'Recall:      {recall:.4f}')\n",
    "        print(f'F1-Score:    {f1:.4f}')\n",
    "        print(f'Specificity: {specificity:.4f}')\n",
    "        print(f'ROC AUC:     {roc_auc:.4f}')\n",
    "\n",
    "        # Plot confusion matrix\n",
    "        cm = confusion_matrix(y_test, y_test_pred)\n",
    "        disp = ConfusionMatrixDisplay(confusion_matrix=cm, display_labels=[0, 1])\n",
    "        disp.plot(cmap=plt.cm.Blues)\n",
    "        plt.title(f\"Confusion Matrix - {namestring}\")\n",
    "        plt.show()\n",
    "\n",
    "    return pickle_metrics"
   ]
  },
  {
   "cell_type": "markdown",
   "id": "577937df",
   "metadata": {
    "papermill": {
     "duration": 0.00175,
     "end_time": "2025-07-07T16:20:42.415355",
     "exception": false,
     "start_time": "2025-07-07T16:20:42.413605",
     "status": "completed"
    },
    "tags": []
   },
   "source": [
    "## Neural Network Architecture Builder\n",
    "\n",
    "**Dynamic Model Construction**: The `build_model()` function creates neural networks with configurable hyperparameters:\n",
    "\n",
    "**Architecture Parameters:**\n",
    "- `hidden_layers`: Number of dense layers for network depth\n",
    "- `neurons_per_layer`: Units per layer controlling model capacity\n",
    "- `dropout_rate`: Regularization strength preventing overfitting\n",
    "- `learning_rate`: Adam optimizer step size\n",
    "\n",
    "**Layer Construction:**\n",
    "- Dense layers: Fully connected with ReLU activation for non-linear transformations\n",
    "- BatchNormalization: Stabilizes training and accelerates convergence\n",
    "- Dropout: Randomly zeroes neurons during training for regularization\n",
    "- Output layer: Single sigmoid unit for binary classification\n",
    "\n",
    "**Flexible Design:** The function accepts either:\n",
    "- Search space dictionary: For Keras Tuner hyperparameter optimization\n",
    "- Default values: For fallback when no search space provided\n",
    "\n",
    "This modular approach enables both automated architecture search and manual model construction with consistent layer patterns optimized for binary classification.\n"
   ]
  },
  {
   "cell_type": "code",
   "execution_count": 12,
   "id": "54217745",
   "metadata": {
    "execution": {
     "iopub.execute_input": "2025-07-07T16:20:42.419170Z",
     "iopub.status.busy": "2025-07-07T16:20:42.419096Z",
     "iopub.status.idle": "2025-07-07T16:20:42.421912Z",
     "shell.execute_reply": "2025-07-07T16:20:42.421717Z"
    },
    "papermill": {
     "duration": 0.005438,
     "end_time": "2025-07-07T16:20:42.422502",
     "exception": false,
     "start_time": "2025-07-07T16:20:42.417064",
     "status": "completed"
    },
    "tags": []
   },
   "outputs": [],
   "source": [
    "def build_model(hp, search_space=None):\n",
    "    \"\"\"Build model with configurable search space and fallback defaults\"\"\"\n",
    "    model = keras.Sequential()\n",
    "    model.add(keras.Input(shape=(X_train_processed.shape[1],)))\n",
    "\n",
    "      # Use search space if provided, otherwise use single default values\n",
    "    if search_space:\n",
    "        # Use Int/Float ranges for Bayesian optimization\n",
    "        hidden_layers = hp.Int('hidden_layers',\n",
    "                            min_value=search_space['hidden_layers'][0],\n",
    "                            max_value=search_space['hidden_layers'][1],\n",
    "                            step=1)\n",
    "        neurons_per_layer = hp.Int('neurons_per_layer',\n",
    "                                min_value=search_space['neurons_per_layer'][0],\n",
    "                                max_value=search_space['neurons_per_layer'][1],\n",
    "                                step=search_space['neurons_per_layer'][2])\n",
    "        dropout_rate = hp.Float('dropout_rate',\n",
    "                                min_value=search_space['dropout_rate'][0],\n",
    "                                max_value=search_space['dropout_rate'][1])\n",
    "        learning_rate = hp.Float('learning_rate',\n",
    "                                min_value=search_space['learning_rate'][0],\n",
    "                                max_value=search_space['learning_rate'][1],\n",
    "                                sampling='log')  # Log sampling for learning rate\n",
    "        \n",
    "    else:\n",
    "        # Fallback defaults\n",
    "        hidden_layers = 2\n",
    "        neurons_per_layer = 128\n",
    "        dropout_rate = 0.2\n",
    "        learning_rate = 1e-3\n",
    "\n",
    "    # Build the layers\n",
    "    for i in range(hidden_layers):\n",
    "        model.add(layers.Dense(neurons_per_layer, activation='relu'))\n",
    "        model.add(layers.BatchNormalization())\n",
    "        model.add(layers.Dropout(dropout_rate))\n",
    "\n",
    "    # Output layer\n",
    "    model.add(layers.Dense(1, activation='sigmoid'))\n",
    "\n",
    "    # Compile\n",
    "    model.compile(\n",
    "        optimizer=keras.optimizers.Adam(learning_rate=learning_rate),\n",
    "        loss='binary_crossentropy',\n",
    "        metrics=['AUC']\n",
    "    )\n",
    "    return model"
   ]
  },
  {
   "cell_type": "markdown",
   "id": "89251146",
   "metadata": {
    "papermill": {
     "duration": 0.001889,
     "end_time": "2025-07-07T16:20:42.426297",
     "exception": false,
     "start_time": "2025-07-07T16:20:42.424408",
     "status": "completed"
    },
    "tags": []
   },
   "source": [
    "### Modeling execution: "
   ]
  },
  {
   "cell_type": "code",
   "execution_count": 13,
   "id": "70201bb6",
   "metadata": {
    "execution": {
     "iopub.execute_input": "2025-07-07T16:20:42.430315Z",
     "iopub.status.busy": "2025-07-07T16:20:42.430237Z",
     "iopub.status.idle": "2025-07-07T16:20:42.446900Z",
     "shell.execute_reply": "2025-07-07T16:20:42.446654Z"
    },
    "papermill": {
     "duration": 0.01949,
     "end_time": "2025-07-07T16:20:42.447553",
     "exception": false,
     "start_time": "2025-07-07T16:20:42.428063",
     "status": "completed"
    },
    "tags": []
   },
   "outputs": [],
   "source": [
    "# Fill all categorical NaNs\n",
    "\n",
    "categorical_cols_with_nans = [\n",
    "    \"primary_group\",\n",
    "    \"primary_subgroup\",\n",
    "    \"secondary_group\",\n",
    "    \"secondary_subgroup\",\n",
    "    \"secondary2_group\",\n",
    "    \"secondary2_subgroup\",\n",
    "]\n",
    "\n",
    "for col in categorical_cols_with_nans:\n",
    "    nn[col] = nn[col].fillna(\"Missing\")"
   ]
  },
  {
   "cell_type": "code",
   "execution_count": 14,
   "id": "8dd0c2ce",
   "metadata": {
    "execution": {
     "iopub.execute_input": "2025-07-07T16:20:42.452057Z",
     "iopub.status.busy": "2025-07-07T16:20:42.451980Z",
     "iopub.status.idle": "2025-07-07T16:20:42.473958Z",
     "shell.execute_reply": "2025-07-07T16:20:42.473688Z"
    },
    "papermill": {
     "duration": 0.024933,
     "end_time": "2025-07-07T16:20:42.474588",
     "exception": false,
     "start_time": "2025-07-07T16:20:42.449655",
     "status": "completed"
    },
    "tags": []
   },
   "outputs": [],
   "source": [
    "X = nn.drop([\"readmitted\"], axis=1)\n",
    "y = nn[\"readmitted\"]"
   ]
  },
  {
   "cell_type": "code",
   "execution_count": 15,
   "id": "896f1359",
   "metadata": {
    "execution": {
     "iopub.execute_input": "2025-07-07T16:20:42.479134Z",
     "iopub.status.busy": "2025-07-07T16:20:42.479054Z",
     "iopub.status.idle": "2025-07-07T16:20:42.482558Z",
     "shell.execute_reply": "2025-07-07T16:20:42.482374Z"
    },
    "papermill": {
     "duration": 0.006377,
     "end_time": "2025-07-07T16:20:42.483148",
     "exception": false,
     "start_time": "2025-07-07T16:20:42.476771",
     "status": "completed"
    },
    "tags": []
   },
   "outputs": [],
   "source": [
    "# Training features to include\n",
    "exclude_features = [\"patient_nbr\", \"encounter_id\", \"readmitted\"]\n",
    "numeric_features = [\n",
    "    col\n",
    "    for col in X.columns\n",
    "    if col not in exclude_features and pd.api.types.is_numeric_dtype(X[col])\n",
    "]\n",
    "boolean_features = [\n",
    "    col for col in X.columns if col not in exclude_features and X[col].dtype == \"bool\"\n",
    "]\n",
    "object_features = [\n",
    "    col for col in X.columns if col not in exclude_features and X[col].dtype == \"object\"\n",
    "]\n",
    "categorical_features = [\n",
    "    X.columns.get_loc(col) for col in object_features + boolean_features\n",
    "]"
   ]
  },
  {
   "cell_type": "code",
   "execution_count": 16,
   "id": "e3042fa2",
   "metadata": {
    "execution": {
     "iopub.execute_input": "2025-07-07T16:20:42.487202Z",
     "iopub.status.busy": "2025-07-07T16:20:42.487133Z",
     "iopub.status.idle": "2025-07-07T16:20:42.530630Z",
     "shell.execute_reply": "2025-07-07T16:20:42.530335Z"
    },
    "papermill": {
     "duration": 0.046272,
     "end_time": "2025-07-07T16:20:42.531333",
     "exception": false,
     "start_time": "2025-07-07T16:20:42.485061",
     "status": "completed"
    },
    "tags": []
   },
   "outputs": [],
   "source": [
    "X_train, X_test, y_train, y_test = train_test_split(\n",
    "    X, y, test_size=0.2, random_state=randy, stratify=y\n",
    ")"
   ]
  },
  {
   "cell_type": "markdown",
   "id": "bd7206d2",
   "metadata": {
    "papermill": {
     "duration": 0.002067,
     "end_time": "2025-07-07T16:20:42.535656",
     "exception": false,
     "start_time": "2025-07-07T16:20:42.533589",
     "status": "completed"
    },
    "tags": []
   },
   "source": [
    "## OrdinalEncoder for Neural Networks\n",
    "\n",
    "**Why Not OneHotEncoder**: OneHotEncoder would expand ~30 categorical features into hundreds of sparse binary columns, creating dimensionality and memory issues.\n",
    "\n",
    "**Neural Network Advantage**: Unlike linear models, neural networks can learn optimal categorical representations through hidden layers, effectively creating embeddings from ordinal-encoded inputs.\n",
    "\n",
    "**Practical Benefits**: Maintains computational efficiency and consistency with other model pipelines while leveraging the network's representational power to handle ordinal encoding appropriately."
   ]
  },
  {
   "cell_type": "code",
   "execution_count": 17,
   "id": "fffde4b4",
   "metadata": {
    "execution": {
     "iopub.execute_input": "2025-07-07T16:20:42.539852Z",
     "iopub.status.busy": "2025-07-07T16:20:42.539770Z",
     "iopub.status.idle": "2025-07-07T16:20:42.541439Z",
     "shell.execute_reply": "2025-07-07T16:20:42.541252Z"
    },
    "papermill": {
     "duration": 0.004416,
     "end_time": "2025-07-07T16:20:42.542023",
     "exception": false,
     "start_time": "2025-07-07T16:20:42.537607",
     "status": "completed"
    },
    "tags": []
   },
   "outputs": [],
   "source": [
    "# Neural network preprocessor - MUST scale numeric features\n",
    "preprocessor_nn = ColumnTransformer([\n",
    "    ('num', StandardScaler(), numeric_features),\n",
    "    ('cat', OrdinalEncoder(handle_unknown=\"use_encoded_value\",\n",
    "                           unknown_value=-1,\n",
    "                           ),\n",
    "    object_features + boolean_features)\n",
    "], remainder='drop')\n"
   ]
  },
  {
   "cell_type": "code",
   "execution_count": 18,
   "id": "2989376b",
   "metadata": {
    "execution": {
     "iopub.execute_input": "2025-07-07T16:20:42.546281Z",
     "iopub.status.busy": "2025-07-07T16:20:42.546209Z",
     "iopub.status.idle": "2025-07-07T16:20:42.583688Z",
     "shell.execute_reply": "2025-07-07T16:20:42.583479Z"
    },
    "papermill": {
     "duration": 0.040193,
     "end_time": "2025-07-07T16:20:42.584284",
     "exception": false,
     "start_time": "2025-07-07T16:20:42.544091",
     "status": "completed"
    },
    "tags": []
   },
   "outputs": [
    {
     "name": "stdout",
     "output_type": "stream",
     "text": [
      "Checking for NaNs in categorical columns...\n",
      "No NaNs found in categorical columns - safe to train!\n"
     ]
    }
   ],
   "source": [
    "# Final check of NaN's before training\n",
    "print(\"Checking for NaNs in categorical columns...\")\n",
    "categorical_cols = object_features + boolean_features\n",
    "nan_check = {}\n",
    "\n",
    "for col in categorical_cols:\n",
    "    nan_count = X[col].isna().sum()\n",
    "    if nan_count > 0:\n",
    "        nan_check[col] = nan_count\n",
    "\n",
    "if nan_check:\n",
    "    print(\"STOP! Still have NaNs:\")\n",
    "    for col, count in nan_check.items():\n",
    "        print(f\"  {col}: {count} NaNs\")\n",
    "    print(\"\\nFill these before training!\")\n",
    "else:\n",
    "    print(\"No NaNs found in categorical columns - safe to train!\")"
   ]
  },
  {
   "cell_type": "code",
   "execution_count": 19,
   "id": "b5465e12",
   "metadata": {
    "execution": {
     "iopub.execute_input": "2025-07-07T16:20:42.588538Z",
     "iopub.status.busy": "2025-07-07T16:20:42.588454Z",
     "iopub.status.idle": "2025-07-07T16:20:42.970229Z",
     "shell.execute_reply": "2025-07-07T16:20:42.969934Z"
    },
    "papermill": {
     "duration": 0.384776,
     "end_time": "2025-07-07T16:20:42.970994",
     "exception": false,
     "start_time": "2025-07-07T16:20:42.586218",
     "status": "completed"
    },
    "tags": []
   },
   "outputs": [],
   "source": [
    "# Apply preprocessing\n",
    "X_train_processed = preprocessor_nn.fit_transform(X_train)\n",
    "X_test_processed = preprocessor_nn.transform(X_test)"
   ]
  },
  {
   "cell_type": "markdown",
   "id": "219e8069",
   "metadata": {
    "papermill": {
     "duration": 0.001944,
     "end_time": "2025-07-07T16:20:42.975119",
     "exception": false,
     "start_time": "2025-07-07T16:20:42.973175",
     "status": "completed"
    },
    "tags": []
   },
   "source": [
    "## Neural Network Search Space Definition\n",
    "\n",
    "**Architecture Hyperparameters:**\n",
    "- `hidden_layers` (2-5): Network depth - deeper networks can capture more complex patterns but risk overfitting\n",
    "- `neurons_per_layer` (64, 128, 256, 512): Layer width - more neurons increase model capacity but computational cost\n",
    "- `dropout_rate` (0.1-0.4): Regularization strength - higher values prevent overfitting but may underfitting\n",
    "- `learning_rate` (1e-4 - 5e-3): Optimizer step size - balances convergence speed vs stability\n",
    "\n",
    "**Search Strategy:**\n",
    "Keras Tuner's Bayesian Optimization explores this 4-dimensional space efficiently, learning from previous trials to suggest promising architecture combinations. The discrete choices reflect common neural network best practices while covering a range from lightweight to complex models.\n",
    "\n",
    "Total Combinations: 81 possible architectures (3×3×3×3), manageable for thorough exploration within reasonable compute time."
   ]
  },
  {
   "cell_type": "code",
   "execution_count": 20,
   "id": "7f86d8d7",
   "metadata": {
    "execution": {
     "iopub.execute_input": "2025-07-07T16:20:42.979369Z",
     "iopub.status.busy": "2025-07-07T16:20:42.979287Z",
     "iopub.status.idle": "2025-07-07T16:20:42.981022Z",
     "shell.execute_reply": "2025-07-07T16:20:42.980828Z"
    },
    "papermill": {
     "duration": 0.004552,
     "end_time": "2025-07-07T16:20:42.981594",
     "exception": false,
     "start_time": "2025-07-07T16:20:42.977042",
     "status": "completed"
    },
    "tags": []
   },
   "outputs": [],
   "source": [
    "search_space = { #[min, max]\n",
    "    'hidden_layers': [1, 8],  \n",
    "    'neurons_per_layer': [64, 1024, 128], # step needed\n",
    "    'dropout_rate': [0.01, 0.5], \n",
    "    'learning_rate': [1e-4, 1e-1],\n",
    "} "
   ]
  },
  {
   "cell_type": "code",
   "execution_count": 21,
   "id": "71587035",
   "metadata": {
    "execution": {
     "iopub.execute_input": "2025-07-07T16:20:42.986190Z",
     "iopub.status.busy": "2025-07-07T16:20:42.986118Z",
     "iopub.status.idle": "2025-07-07T16:20:42.987683Z",
     "shell.execute_reply": "2025-07-07T16:20:42.987434Z"
    },
    "papermill": {
     "duration": 0.004513,
     "end_time": "2025-07-07T16:20:42.988273",
     "exception": false,
     "start_time": "2025-07-07T16:20:42.983760",
     "status": "completed"
    },
    "tags": []
   },
   "outputs": [],
   "source": [
    "# Last opportunity to force CPU usage\n",
    "tf.config.set_visible_devices([], 'GPU') ## faster on CPU on m4 mac mini"
   ]
  },
  {
   "cell_type": "code",
   "execution_count": 22,
   "id": "b948a472",
   "metadata": {
    "execution": {
     "iopub.execute_input": "2025-07-07T16:20:42.992616Z",
     "iopub.status.busy": "2025-07-07T16:20:42.992529Z",
     "iopub.status.idle": "2025-07-07T16:20:43.018984Z",
     "shell.execute_reply": "2025-07-07T16:20:43.018728Z"
    },
    "papermill": {
     "duration": 0.029446,
     "end_time": "2025-07-07T16:20:43.019660",
     "exception": false,
     "start_time": "2025-07-07T16:20:42.990214",
     "status": "completed"
    },
    "tags": []
   },
   "outputs": [],
   "source": [
    "tuner = kt.BayesianOptimization(\n",
    "    lambda hp: build_model(hp, search_space),\n",
    "    objective='val_AUC',\n",
    "    max_trials=60,\n",
    "    directory='neural_net_tuning',\n",
    "    project_name=f'{token}_nn_optimization',\n",
    "    overwrite=False\n",
    ")"
   ]
  },
  {
   "cell_type": "code",
   "execution_count": 23,
   "id": "87c575dd",
   "metadata": {
    "execution": {
     "iopub.execute_input": "2025-07-07T16:20:43.024067Z",
     "iopub.status.busy": "2025-07-07T16:20:43.023957Z",
     "iopub.status.idle": "2025-07-07T16:20:43.025552Z",
     "shell.execute_reply": "2025-07-07T16:20:43.025360Z"
    },
    "papermill": {
     "duration": 0.00434,
     "end_time": "2025-07-07T16:20:43.026105",
     "exception": false,
     "start_time": "2025-07-07T16:20:43.021765",
     "status": "completed"
    },
    "tags": []
   },
   "outputs": [
    {
     "name": "stdout",
     "output_type": "stream",
     "text": [
      "Search space summary\n",
      "Default search space size: 4\n",
      "hidden_layers (Int)\n",
      "{'default': None, 'conditions': [], 'min_value': 1, 'max_value': 8, 'step': 1, 'sampling': 'linear'}\n",
      "neurons_per_layer (Int)\n",
      "{'default': None, 'conditions': [], 'min_value': 64, 'max_value': 1024, 'step': 128, 'sampling': 'linear'}\n",
      "dropout_rate (Float)\n",
      "{'default': 0.01, 'conditions': [], 'min_value': 0.01, 'max_value': 0.5, 'step': None, 'sampling': 'linear'}\n",
      "learning_rate (Float)\n",
      "{'default': 0.0001, 'conditions': [], 'min_value': 0.0001, 'max_value': 0.1, 'step': None, 'sampling': 'log'}\n"
     ]
    }
   ],
   "source": [
    "tuner.search_space_summary()"
   ]
  },
  {
   "cell_type": "markdown",
   "id": "8dc46134",
   "metadata": {
    "papermill": {
     "duration": 0.00206,
     "end_time": "2025-07-07T16:20:43.030303",
     "exception": false,
     "start_time": "2025-07-07T16:20:43.028243",
     "status": "completed"
    },
    "tags": []
   },
   "source": [
    "## Training Callbacks\n",
    "\n",
    "**Early Stopping** (`patience=3`): Prevents overfitting by stopping when validation accuracy plateaus for 3 epochs, restoring best weights.\n",
    "\n",
    "**Learning Rate Reduction** (`patience=3, factor=0.5`): Halves learning rate when validation loss stagnates, enabling fine-tuned convergence.\n",
    "\n",
    "These callbacks automate optimal training duration and learning rate scheduling across all architecture trials."
   ]
  },
  {
   "cell_type": "code",
   "execution_count": 24,
   "id": "57695691",
   "metadata": {
    "execution": {
     "iopub.execute_input": "2025-07-07T16:20:43.034566Z",
     "iopub.status.busy": "2025-07-07T16:20:43.034494Z",
     "iopub.status.idle": "2025-07-07T16:54:55.104129Z",
     "shell.execute_reply": "2025-07-07T16:54:55.103912Z"
    },
    "papermill": {
     "duration": 2052.074346,
     "end_time": "2025-07-07T16:54:55.106533",
     "exception": false,
     "start_time": "2025-07-07T16:20:43.032187",
     "status": "completed"
    },
    "tags": []
   },
   "outputs": [
    {
     "name": "stdout",
     "output_type": "stream",
     "text": [
      "Trial 60 Complete [00h 00m 52s]\n",
      "val_AUC: 0.6656467914581299\n",
      "\n",
      "Best val_AUC So Far: 0.6836284399032593\n",
      "Total elapsed time: 00h 33m 37s\n"
     ]
    },
    {
     "name": "stdout",
     "output_type": "stream",
     "text": [
      "Model saved as ../models/f11_nn_tuning_run\n",
      "CPU times: user 3h 6min 42s, sys: 24min 38s, total: 3h 31min 21s\n",
      "Wall time: 34min 12s\n"
     ]
    }
   ],
   "source": [
    "%%time\n",
    "# Run the search\n",
    "\n",
    "class_weights = {0: 1.0, 1: 1.17}\n",
    "\n",
    "tuner.search(\n",
    "    X_train_processed, y_train,\n",
    "    epochs=60,\n",
    "    batch_size=1024,\n",
    "    validation_split=0.2,\n",
    "    class_weight=class_weights,\n",
    "    callbacks=[\n",
    "        keras.callbacks.EarlyStopping(patience=5, restore_best_weights=True),\n",
    "        keras.callbacks.ReduceLROnPlateau(patience=3, factor=0.5)\n",
    "    ],\n",
    "    verbose=1\n",
    ")\n",
    "\n",
    "# Save \n",
    "zip_filename=f\"../models/{token}_nn_tuning_run\"\n",
    "shutil.make_archive(zip_filename, 'zip', tuner.directory)\n",
    "print(f\"Model saved as {zip_filename}\")"
   ]
  },
  {
   "cell_type": "code",
   "execution_count": 25,
   "id": "a39d675a",
   "metadata": {
    "execution": {
     "iopub.execute_input": "2025-07-07T16:54:55.111397Z",
     "iopub.status.busy": "2025-07-07T16:54:55.111309Z",
     "iopub.status.idle": "2025-07-07T16:54:55.113029Z",
     "shell.execute_reply": "2025-07-07T16:54:55.112838Z"
    },
    "papermill": {
     "duration": 0.004861,
     "end_time": "2025-07-07T16:54:55.113642",
     "exception": false,
     "start_time": "2025-07-07T16:54:55.108781",
     "status": "completed"
    },
    "tags": []
   },
   "outputs": [],
   "source": [
    "## In case of error - here's how to reload tuning results (uncomment to load)\n",
    "\n",
    "# zip_filename=f\"../models/{token}_nn_tuning_run\"\n",
    "\n",
    "# # Load the saved tuner from the expanded zip\n",
    "# tuner_dir = \"neural_net_tuning/f01_nn_optimization\"\n",
    "# tuner = kt.BayesianOptimization(\n",
    "#     lambda hp: build_model(hp, search_space),\n",
    "#     objective='val_accuracy',\n",
    "#     max_trials=60,\n",
    "#     directory='neural_net_tuning',\n",
    "#     project_name='f01_nn_optimization',\n",
    "#     overwrite=False\n",
    "# )\n",
    "# tuner.reload()"
   ]
  },
  {
   "cell_type": "code",
   "execution_count": 26,
   "id": "3a12b84d",
   "metadata": {
    "execution": {
     "iopub.execute_input": "2025-07-07T16:54:55.118770Z",
     "iopub.status.busy": "2025-07-07T16:54:55.118682Z",
     "iopub.status.idle": "2025-07-07T16:54:55.122377Z",
     "shell.execute_reply": "2025-07-07T16:54:55.122164Z"
    },
    "papermill": {
     "duration": 0.00722,
     "end_time": "2025-07-07T16:54:55.122933",
     "exception": false,
     "start_time": "2025-07-07T16:54:55.115713",
     "status": "completed"
    },
    "tags": []
   },
   "outputs": [
    {
     "name": "stdout",
     "output_type": "stream",
     "text": [
      "Metadata saved as ../models/f11_nn_tuning_metadata.pkl\n",
      "\n",
      "Best hyperparameters:\n",
      "  hidden_layers: 4\n",
      "  neurons_per_layer: 64\n",
      "  dropout_rate: 0.01\n",
      "  learning_rate: 0.1\n"
     ]
    }
   ],
   "source": [
    "tuning_metadata = {\n",
    "    'model_type': 'neural_network',\n",
    "    'search_method': 'BayesianOptimization',\n",
    "    'best_hyperparameters': tuner.get_best_hyperparameters()[0].values,\n",
    "    'best_score': tuner.oracle.get_best_trials(num_trials=1)[0].score,\n",
    "    'total_trials': len(tuner.oracle.trials),\n",
    "    'archive_name': f\"{zip_filename}.zip\",\n",
    "    'search_space': search_space\n",
    "}\n",
    "\n",
    "metadata_filename = f\"../models/{token}_nn_tuning_metadata.pkl\"\n",
    "with open(metadata_filename, \"wb\") as file:\n",
    "    pickle.dump(tuning_metadata, file)\n",
    "print(f\"Metadata saved as {metadata_filename}\")\n",
    "\n",
    "# Extract the best hyperparameters\n",
    "best_hps = tuner.get_best_hyperparameters()[0]\n",
    "print(\"\\nBest hyperparameters:\")\n",
    "for param, value in best_hps.values.items():\n",
    "    print(f\"  {param}: {value}\")"
   ]
  },
  {
   "cell_type": "code",
   "execution_count": 27,
   "id": "24c37b59",
   "metadata": {
    "execution": {
     "iopub.execute_input": "2025-07-07T16:54:55.128102Z",
     "iopub.status.busy": "2025-07-07T16:54:55.128024Z",
     "iopub.status.idle": "2025-07-07T16:54:55.129459Z",
     "shell.execute_reply": "2025-07-07T16:54:55.129261Z"
    },
    "papermill": {
     "duration": 0.004934,
     "end_time": "2025-07-07T16:54:55.129992",
     "exception": false,
     "start_time": "2025-07-07T16:54:55.125058",
     "status": "completed"
    },
    "tags": []
   },
   "outputs": [],
   "source": [
    "# Re-toggle GPU on?\n",
    "# tf.config.set_visible_devices([], 'GPU') ## faster on CPU on m4 mac mini"
   ]
  },
  {
   "cell_type": "code",
   "execution_count": 28,
   "id": "e17b55cc",
   "metadata": {
    "execution": {
     "iopub.execute_input": "2025-07-07T16:54:55.134465Z",
     "iopub.status.busy": "2025-07-07T16:54:55.134393Z",
     "iopub.status.idle": "2025-07-07T16:55:32.978377Z",
     "shell.execute_reply": "2025-07-07T16:55:32.978127Z"
    },
    "papermill": {
     "duration": 37.849865,
     "end_time": "2025-07-07T16:55:32.981924",
     "exception": false,
     "start_time": "2025-07-07T16:54:55.132059",
     "status": "completed"
    },
    "tags": []
   },
   "outputs": [
    {
     "name": "stdout",
     "output_type": "stream",
     "text": [
      "Epoch 1/100\n"
     ]
    },
    {
     "name": "stdout",
     "output_type": "stream",
     "text": [
      "\b\b\b\b\b\b\b\b\b\b\b\b\b\b\b\b\b\b\b\b\b\b\b\b\b\b\b\b\b\b\b\b\b\b\b\b\b\b\b\b\b\b\b\b\b\b\b\b\b\b\b\b\b\b\b\b\b\b\b\b\b\b\b\b\b\b\b\r",
      "\u001b[1m64/64\u001b[0m \u001b[32m━━━━━━━━━━━━━━━━━━━━\u001b[0m\u001b[37m\u001b[0m \u001b[1m0s\u001b[0m 3ms/step - AUC: 0.6691 - loss: 0.6979 - val_AUC: 0.6663 - val_loss: 0.6600 - learning_rate: 0.0500\n"
     ]
    },
    {
     "name": "stdout",
     "output_type": "stream",
     "text": [
      "Model saved as ../models/f11_nn_final_run\n",
      "CPU times: user 36.8 s, sys: 2.84 s, total: 39.6 s\n",
      "Wall time: 37.8 s\n"
     ]
    }
   ],
   "source": [
    "%%time\n",
    "# Build and train final model with best hyperparameters\n",
    "final_model = build_model(best_hps, search_space)\n",
    "\n",
    "# Train the final model (longer training for final model)\n",
    "class_weights = {0: 1.0, 1: 1.17}\n",
    "\n",
    "history = final_model.fit(\n",
    "    X_train_processed, y_train,\n",
    "    epochs=100,  # More epochs for final model\n",
    "    batch_size=1024,\n",
    "    validation_split=0.2,\n",
    "    class_weight=class_weights,\n",
    "    callbacks=[\n",
    "        keras.callbacks.EarlyStopping(patience=10, restore_best_weights=True),\n",
    "        keras.callbacks.ReduceLROnPlateau(patience=5, factor=0.5)\n",
    "    ],\n",
    "    verbose=1\n",
    ")\n",
    "\n",
    "# Save \n",
    "zip_filename=f\"../models/{token}_nn_final_run\"\n",
    "shutil.make_archive(zip_filename, 'zip', tuner.directory)\n",
    "print(f\"Model saved as {zip_filename}\")"
   ]
  },
  {
   "cell_type": "markdown",
   "id": "c68a578f",
   "metadata": {
    "papermill": {
     "duration": 0.003229,
     "end_time": "2025-07-07T16:55:32.988482",
     "exception": false,
     "start_time": "2025-07-07T16:55:32.985253",
     "status": "completed"
    },
    "tags": []
   },
   "source": [
    "The trained model is evaluated on the test set and key metrics are saved in the same format as other pipelines to enable cross-model comparison. "
   ]
  },
  {
   "cell_type": "code",
   "execution_count": 29,
   "id": "a83183e5",
   "metadata": {
    "execution": {
     "iopub.execute_input": "2025-07-07T16:55:32.995543Z",
     "iopub.status.busy": "2025-07-07T16:55:32.995436Z",
     "iopub.status.idle": "2025-07-07T16:55:32.997331Z",
     "shell.execute_reply": "2025-07-07T16:55:32.997126Z"
    },
    "papermill": {
     "duration": 0.006285,
     "end_time": "2025-07-07T16:55:32.997961",
     "exception": false,
     "start_time": "2025-07-07T16:55:32.991676",
     "status": "completed"
    },
    "tags": []
   },
   "outputs": [],
   "source": [
    "# Load model from disk:\n",
    "# zip_filename = \"../models/f03_nn_final_run\"\n",
    "# shutil.unpack_archive(f\"{zip_filename}.zip\", \"temp_neural_net_tuning\")\n",
    "\n",
    "# Load the tuner to get best hyperparameters\n",
    "# tuner = kt.BayesianOptimization(\n",
    "#     lambda hp: build_model(hp, search_space),\n",
    "#     objective='val_AUC',\n",
    "#     max_trials=60,\n",
    "#     directory='/Users/cwaters/diabetes/notebooks/neural_net_tuning',\n",
    "#     project_name='f03_nn_optimization',\n",
    "#     overwrite=False\n",
    "# )\n",
    "\n",
    "# # Get the best hyperparameters and model\n",
    "# best_hps = tuner.get_best_hyperparameters()[0]\n",
    "# final_model = tuner.get_best_models(1)[0]\n",
    "# best_trial = tuner.oracle.get_best_trials(1)[0]\n",
    "\n",
    "# # The trained model should be in the best trial\n",
    "# final_model = tuner.get_best_models(1)[0]\n",
    "\n",
    "# # Create a history-like object from the trial metrics\n",
    "# class HistoryFromTrial:\n",
    "#     def __init__(self, trial_metrics):\n",
    "#         # Extract the metrics from the trial\n",
    "#         self.history = {}\n",
    "#         # If trial has metrics, convert them to history format\n",
    "#         if hasattr(trial_metrics, 'metrics'):\n",
    "#             for metric_name, metric_history in trial_metrics.metrics.items():\n",
    "#                 self.history[metric_name] = metric_history.get_history()\n",
    "#         else:\n",
    "#             # Fallback empty history\n",
    "#             self.history = {\n",
    "#                 'accuracy': [],\n",
    "#                 'loss': [],\n",
    "#                 'val_accuracy': [],\n",
    "#                 'val_loss': []\n",
    "#             }\n",
    "\n",
    "# history = HistoryFromTrial(best_trial.metrics)"
   ]
  },
  {
   "cell_type": "code",
   "execution_count": 30,
   "id": "d738808f",
   "metadata": {
    "execution": {
     "iopub.execute_input": "2025-07-07T16:55:33.004994Z",
     "iopub.status.busy": "2025-07-07T16:55:33.004912Z",
     "iopub.status.idle": "2025-07-07T16:55:34.243349Z",
     "shell.execute_reply": "2025-07-07T16:55:34.243148Z"
    },
    "papermill": {
     "duration": 1.24263,
     "end_time": "2025-07-07T16:55:34.243963",
     "exception": false,
     "start_time": "2025-07-07T16:55:33.001333",
     "status": "completed"
    },
    "tags": []
   },
   "outputs": [
    {
     "name": "stdout",
     "output_type": "stream",
     "text": [
      "\r",
      "\u001b[1m   1/2545\u001b[0m \u001b[37m━━━━━━━━━━━━━━━━━━━━\u001b[0m \u001b[1m1:31\u001b[0m 36ms/step"
     ]
    },
    {
     "data": {
      "text/plain": [
       "{'model_version': 'f11_Neural_Network_KerasTuner',\n",
       " 'accuracy': 0.6232005109811821,\n",
       " 'precision': 0.6160520607375272,\n",
       " 'recall': 0.48438332800341116,\n",
       " 'f1_score': 0.5423405144118876,\n",
       " 'specificity': np.float64(0.7418884433102443),\n",
       " 'roc_auc': np.float64(0.659714363193994),\n",
       " 'y_test': 27827    1\n",
       " 84192    0\n",
       " 60829    0\n",
       " 84663    1\n",
       " 72262    1\n",
       "         ..\n",
       " 46646    1\n",
       " 64740    0\n",
       " 9515     1\n",
       " 89761    1\n",
       " 16019    0\n",
       " Name: readmitted, Length: 20353, dtype: int8,\n",
       " 'y_train_pred': array([1, 0, 1, ..., 0, 0, 1]),\n",
       " 'y_test_pred': array([1, 1, 1, ..., 1, 1, 0]),\n",
       " 'y_test_pred_proba': array([0.50016296, 0.68076545, 0.56447834, ..., 0.54499114, 0.7407975 ,\n",
       "        0.31072548], dtype=float32),\n",
       " 'display_labels': [0, 1],\n",
       " 'confusion_matrix': {'tn': np.int64(8140),\n",
       "  'fp': np.int64(2832),\n",
       "  'fn': np.int64(4837),\n",
       "  'tp': np.int64(4544)},\n",
       " 'roc_curve': {'fpr': array([0.00000000e+00, 0.00000000e+00, 9.11410864e-05, ...,\n",
       "         9.99362012e-01, 9.99362012e-01, 1.00000000e+00]),\n",
       "  'tpr': array([0.00000000e+00, 1.06598444e-04, 1.06598444e-04, ...,\n",
       "         9.99893402e-01, 1.00000000e+00, 1.00000000e+00]),\n",
       "  'thresholds': array([       inf, 0.79492325, 0.7941245 , ..., 0.14846897, 0.14782444,\n",
       "         0.12352981], dtype=float32)},\n",
       " 'best_params': {'hidden_layers': 4,\n",
       "  'neurons_per_layer': 64,\n",
       "  'dropout_rate': np.float64(0.01),\n",
       "  'learning_rate': 0.1},\n",
       " 'training_history': {'AUC': [0.5138273239135742,\n",
       "   0.5766351222991943,\n",
       "   0.6471328139305115,\n",
       "   0.6568235158920288,\n",
       "   0.6599317789077759,\n",
       "   0.6589066982269287,\n",
       "   0.6615747213363647,\n",
       "   0.6603548526763916,\n",
       "   0.6618294715881348,\n",
       "   0.6675720810890198,\n",
       "   0.6675158143043518,\n",
       "   0.6676822304725647,\n",
       "   0.6685171723365784,\n",
       "   0.6695644855499268],\n",
       "  'loss': [0.8088986873626709,\n",
       "   0.7374721169471741,\n",
       "   0.7114932537078857,\n",
       "   0.7062268257141113,\n",
       "   0.7044858336448669,\n",
       "   0.7050623297691345,\n",
       "   0.7035931944847107,\n",
       "   0.704242467880249,\n",
       "   0.7034847140312195,\n",
       "   0.6996342539787292,\n",
       "   0.6992964744567871,\n",
       "   0.6988167762756348,\n",
       "   0.6987403631210327,\n",
       "   0.6979051232337952],\n",
       "  'val_AUC': [0.4992239475250244,\n",
       "   0.5743110775947571,\n",
       "   0.6444092988967896,\n",
       "   0.6587772369384766,\n",
       "   0.652428388595581,\n",
       "   0.6545224785804749,\n",
       "   0.662982702255249,\n",
       "   0.6560305953025818,\n",
       "   0.662731409072876,\n",
       "   0.6579561829566956,\n",
       "   0.6619407534599304,\n",
       "   0.6615650653839111,\n",
       "   0.6591194868087769,\n",
       "   0.666292130947113],\n",
       "  'val_loss': [0.8542729616165161,\n",
       "   0.8205769062042236,\n",
       "   0.7918206453323364,\n",
       "   0.6520450711250305,\n",
       "   0.6668980717658997,\n",
       "   0.6615633368492126,\n",
       "   0.6807572245597839,\n",
       "   0.6868311762809753,\n",
       "   0.6578906178474426,\n",
       "   0.6708521246910095,\n",
       "   0.6678852438926697,\n",
       "   0.670693039894104,\n",
       "   0.6532493233680725,\n",
       "   0.6599524617195129],\n",
       "  'learning_rate': [0.10000000149011612,\n",
       "   0.10000000149011612,\n",
       "   0.10000000149011612,\n",
       "   0.10000000149011612,\n",
       "   0.10000000149011612,\n",
       "   0.10000000149011612,\n",
       "   0.10000000149011612,\n",
       "   0.10000000149011612,\n",
       "   0.10000000149011612,\n",
       "   0.05000000074505806,\n",
       "   0.05000000074505806,\n",
       "   0.05000000074505806,\n",
       "   0.05000000074505806,\n",
       "   0.05000000074505806]},\n",
       " 'shap_data': {'model': <Sequential name=sequential_1, built=True>,\n",
       "  'preprocessor': ColumnTransformer(transformers=[('num', StandardScaler(),\n",
       "                                   ['age', 'admission_type_id',\n",
       "                                    'discharge_disposition_id',\n",
       "                                    'admission_source_id', 'time_in_hospital',\n",
       "                                    'num_lab_procedures', 'num_procedures',\n",
       "                                    'num_medications', 'number_outpatient',\n",
       "                                    'number_emergency', 'number_inpatient',\n",
       "                                    'number_diagnoses', 'change', 'diabetesMed',\n",
       "                                    'A1C_tested', 'service_utilization',\n",
       "                                    'substit...\n",
       "                                    'A1Cresult', 'metformin', 'chlorpropamide',\n",
       "                                    'glimepiride', 'glipizide', 'glyburide',\n",
       "                                    'pioglitazone', 'rosiglitazone', 'tolazamide',\n",
       "                                    'insulin', 'glyburide-metformin',\n",
       "                                    'medical_subspecialty',\n",
       "                                    'discharge_disposition_group',\n",
       "                                    'admission_source_group', 'age_group',\n",
       "                                    'primary_group', 'primary_subgroup',\n",
       "                                    'secondary_group', 'secondary_subgroup',\n",
       "                                    'secondary2_group', 'secondary2_subgroup',\n",
       "                                    'change', 'diabetesMed', ...])]),\n",
       "  'X_train_processed': array([[ 1.19463944, -0.70851463, -0.5148018 , ...,  0.        ,\n",
       "           0.        ,  0.        ],\n",
       "         [-1.31210959,  0.67413932, -0.5148018 , ...,  0.        ,\n",
       "           0.        ,  0.        ],\n",
       "         [ 0.56795216, -0.01718764,  0.43190211, ...,  1.        ,\n",
       "           0.        ,  1.        ],\n",
       "         ...,\n",
       "         [-1.31210959, -0.70851463, -0.5148018 , ...,  1.        ,\n",
       "           0.        ,  0.        ],\n",
       "         [ 1.19463944, -0.70851463,  2.70399141, ...,  1.        ,\n",
       "           0.        ,  1.        ],\n",
       "         [-0.05873509,  0.67413932,  0.43190211, ...,  0.        ,\n",
       "           0.        ,  0.        ]]),\n",
       "  'X_test_processed': array([[-0.6854223 , -0.70851463, -0.5148018 , ...,  1.        ,\n",
       "           1.        ,  0.        ],\n",
       "         [-0.05873509, -0.70851463, -0.5148018 , ...,  1.        ,\n",
       "           0.        ,  0.        ],\n",
       "         [ 0.56795216, -0.70851463, -0.5148018 , ...,  0.        ,\n",
       "           0.        ,  0.        ],\n",
       "         ...,\n",
       "         [-0.6854223 , -0.70851463,  2.70399141, ...,  1.        ,\n",
       "           0.        ,  0.        ],\n",
       "         [ 0.56795216, -0.70851463, -0.13612023, ...,  1.        ,\n",
       "           0.        ,  0.        ],\n",
       "         [ 0.56795216,  0.67413932,  2.70399141, ...,  1.        ,\n",
       "           1.        ,  1.        ]]),\n",
       "  'feature_names': array(['num__age', 'num__admission_type_id',\n",
       "         'num__discharge_disposition_id', 'num__admission_source_id',\n",
       "         'num__time_in_hospital', 'num__num_lab_procedures',\n",
       "         'num__num_procedures', 'num__num_medications',\n",
       "         'num__number_outpatient', 'num__number_emergency',\n",
       "         'num__number_inpatient', 'num__number_diagnoses', 'num__change',\n",
       "         'num__diabetesMed', 'num__A1C_tested', 'num__service_utilization',\n",
       "         'num__substitution', 'num__med_change_count',\n",
       "         'num__diabetes_meds_used', 'num__num_nondiabetic_medications',\n",
       "         'num__has_001_139', 'num__has_140_239', 'num__has_240_279',\n",
       "         'num__has_280_289', 'num__has_290_319', 'num__has_320_389',\n",
       "         'num__has_390_459', 'num__has_460_519', 'num__has_520_579',\n",
       "         'num__has_580_629', 'num__has_630_679', 'num__has_680_709',\n",
       "         'num__has_710_739', 'num__has_740_759', 'num__has_760_779',\n",
       "         'num__has_780_799', 'num__has_800_999', 'num__has_V01_V06',\n",
       "         'num__has_V07_V09', 'num__has_V10_V19', 'num__has_V20_V29',\n",
       "         'num__has_V30_V39', 'num__has_V40_V49', 'num__has_V50_V59',\n",
       "         'num__has_V60_V69', 'num__has_V70_V82', 'num__has_V83_V84',\n",
       "         'num__has_E979', 'num__has_E849', 'num__has_E800_E807',\n",
       "         'num__has_E810_E819', 'num__has_E820_E825', 'num__has_E826_E829',\n",
       "         'num__has_E830_E838', 'num__has_E840_E845', 'num__has_E846_E848',\n",
       "         'num__has_E850_E858', 'num__has_E860_E869', 'num__has_E870_E876',\n",
       "         'num__has_E878_E879', 'num__has_E880_E888', 'num__has_E890_E899',\n",
       "         'num__has_E900_E909', 'num__has_E910_E915', 'num__has_E916_E928',\n",
       "         'num__has_E930_E949', 'num__has_E950_E959', 'num__has_E960_E969',\n",
       "         'num__has_E970_E978', 'num__has_E980_E989', 'num__has_E990_E999',\n",
       "         'cat__race', 'cat__gender', 'cat__medical_specialty',\n",
       "         'cat__diag_1', 'cat__diag_2', 'cat__diag_3', 'cat__max_glu_serum',\n",
       "         'cat__A1Cresult', 'cat__metformin', 'cat__chlorpropamide',\n",
       "         'cat__glimepiride', 'cat__glipizide', 'cat__glyburide',\n",
       "         'cat__pioglitazone', 'cat__rosiglitazone', 'cat__tolazamide',\n",
       "         'cat__insulin', 'cat__glyburide-metformin',\n",
       "         'cat__medical_subspecialty', 'cat__discharge_disposition_group',\n",
       "         'cat__admission_source_group', 'cat__age_group',\n",
       "         'cat__primary_group', 'cat__primary_subgroup',\n",
       "         'cat__secondary_group', 'cat__secondary_subgroup',\n",
       "         'cat__secondary2_group', 'cat__secondary2_subgroup', 'cat__change',\n",
       "         'cat__diabetesMed', 'cat__A1C_tested', 'cat__substitution'],\n",
       "        dtype=object),\n",
       "  'original_feature_names': ['encounter_id',\n",
       "   'patient_nbr',\n",
       "   'race',\n",
       "   'gender',\n",
       "   'age',\n",
       "   'admission_type_id',\n",
       "   'discharge_disposition_id',\n",
       "   'admission_source_id',\n",
       "   'time_in_hospital',\n",
       "   'medical_specialty',\n",
       "   'num_lab_procedures',\n",
       "   'num_procedures',\n",
       "   'num_medications',\n",
       "   'number_outpatient',\n",
       "   'number_emergency',\n",
       "   'number_inpatient',\n",
       "   'diag_1',\n",
       "   'diag_2',\n",
       "   'diag_3',\n",
       "   'number_diagnoses',\n",
       "   'max_glu_serum',\n",
       "   'A1Cresult',\n",
       "   'metformin',\n",
       "   'chlorpropamide',\n",
       "   'glimepiride',\n",
       "   'glipizide',\n",
       "   'glyburide',\n",
       "   'pioglitazone',\n",
       "   'rosiglitazone',\n",
       "   'tolazamide',\n",
       "   'insulin',\n",
       "   'glyburide-metformin',\n",
       "   'change',\n",
       "   'diabetesMed',\n",
       "   'medical_subspecialty',\n",
       "   'discharge_disposition_group',\n",
       "   'admission_source_group',\n",
       "   'A1C_tested',\n",
       "   'service_utilization',\n",
       "   'substitution',\n",
       "   'med_change_count',\n",
       "   'diabetes_meds_used',\n",
       "   'num_nondiabetic_medications',\n",
       "   'age_group',\n",
       "   'primary_group',\n",
       "   'primary_subgroup',\n",
       "   'secondary_group',\n",
       "   'secondary_subgroup',\n",
       "   'secondary2_group',\n",
       "   'secondary2_subgroup',\n",
       "   'has_001_139',\n",
       "   'has_140_239',\n",
       "   'has_240_279',\n",
       "   'has_280_289',\n",
       "   'has_290_319',\n",
       "   'has_320_389',\n",
       "   'has_390_459',\n",
       "   'has_460_519',\n",
       "   'has_520_579',\n",
       "   'has_580_629',\n",
       "   'has_630_679',\n",
       "   'has_680_709',\n",
       "   'has_710_739',\n",
       "   'has_740_759',\n",
       "   'has_760_779',\n",
       "   'has_780_799',\n",
       "   'has_800_999',\n",
       "   'has_V01_V06',\n",
       "   'has_V07_V09',\n",
       "   'has_V10_V19',\n",
       "   'has_V20_V29',\n",
       "   'has_V30_V39',\n",
       "   'has_V40_V49',\n",
       "   'has_V50_V59',\n",
       "   'has_V60_V69',\n",
       "   'has_V70_V82',\n",
       "   'has_V83_V84',\n",
       "   'has_E979',\n",
       "   'has_E849',\n",
       "   'has_E800_E807',\n",
       "   'has_E810_E819',\n",
       "   'has_E820_E825',\n",
       "   'has_E826_E829',\n",
       "   'has_E830_E838',\n",
       "   'has_E840_E845',\n",
       "   'has_E846_E848',\n",
       "   'has_E850_E858',\n",
       "   'has_E860_E869',\n",
       "   'has_E870_E876',\n",
       "   'has_E878_E879',\n",
       "   'has_E880_E888',\n",
       "   'has_E890_E899',\n",
       "   'has_E900_E909',\n",
       "   'has_E910_E915',\n",
       "   'has_E916_E928',\n",
       "   'has_E930_E949',\n",
       "   'has_E950_E959',\n",
       "   'has_E960_E969',\n",
       "   'has_E970_E978',\n",
       "   'has_E980_E989',\n",
       "   'has_E990_E999']}}"
      ]
     },
     "execution_count": 30,
     "metadata": {},
     "output_type": "execute_result"
    }
   ],
   "source": [
    "# Use existing evaluation function\n",
    "evaluate_and_save_nn(\n",
    "    model=final_model,\n",
    "    history=history,\n",
    "    params=best_hps.values,  # Pass the best hyperparameters\n",
    "    namestring='Neural_Network_KerasTuner',\n",
    "    token=token,\n",
    "    X_train_processed=X_train_processed,\n",
    "    X_test_processed=X_test_processed,\n",
    "    y_train=y_train,\n",
    "    y_test=y_test,\n",
    "    preprocessor = preprocessor_nn, \n",
    "    original_feature_names = list(X_train.columns),\n",
    ")"
   ]
  }
 ],
 "metadata": {
  "kernelspec": {
   "display_name": ".venv",
   "language": "python",
   "name": "python3"
  },
  "language_info": {
   "codemirror_mode": {
    "name": "ipython",
    "version": 3
   },
   "file_extension": ".py",
   "mimetype": "text/x-python",
   "name": "python",
   "nbconvert_exporter": "python",
   "pygments_lexer": "ipython3",
   "version": "3.11.9"
  },
  "papermill": {
   "default_parameters": {},
   "duration": 2099.382381,
   "end_time": "2025-07-07T16:55:37.249265",
   "environment_variables": {},
   "exception": null,
   "input_path": "p07_neural_net.ipynb",
   "output_path": "outputs/p07_neural_net_executed.ipynb",
   "parameters": {},
   "start_time": "2025-07-07T16:20:37.866884",
   "version": "2.6.0"
  }
 },
 "nbformat": 4,
 "nbformat_minor": 5
}